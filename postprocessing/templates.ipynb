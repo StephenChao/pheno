{
 "cells": [
  {
   "attachments": {},
   "cell_type": "markdown",
   "metadata": {},
   "source": [
    "### Introduction: This is the Jupyter notebook to do the flowing things:\n",
    "\n",
    "1. Read slimmed PKU Tree files\n",
    "2. Store the raw MC histograms to pickle files\n",
    "\n",
    "kernel:HWW(farm)/lpr(Cmsconnect)\n",
    "\n"
   ]
  },
  {
   "cell_type": "markdown",
   "metadata": {},
   "source": [
    "### Import necessary modules"
   ]
  },
  {
   "cell_type": "code",
   "execution_count": 1,
   "metadata": {},
   "outputs": [],
   "source": [
    "import numpy as np\n",
    "import os\n",
    "# import pandas as pd\n",
    "import random\n",
    "import awkward as ak\n",
    "import matplotlib as mpl\n",
    "import matplotlib.pyplot as plt\n",
    "import mplhep as hep\n",
    "import boost_histogram as bh\n",
    "# from scipy import interpolate\n",
    "# from sklearn.metrics import roc_curve, auc\n",
    "from cycler import cycler\n",
    "import uproot\n",
    "# means uproot4\n",
    "# import ROOT\n",
    "import argparse\n",
    "import glob\n",
    "import json\n",
    "import logging\n",
    "import os\n",
    "import pickle as pkl\n",
    "import warnings\n",
    "\n",
    "import hist as hist2\n",
    "import pyarrow\n",
    "# import utils #local file: utils.py\n",
    "import yaml\n",
    "from typing import Dict, List, Union\n",
    "from dataclasses import dataclass, field\n",
    "from copy import deepcopy\n",
    "\n",
    "# from coffea import hist\n",
    "from coffea.nanoevents import NanoEventsFactory, NanoAODSchema\n",
    "from coffea.nanoevents.methods import vector\n",
    "# from coffea.nanoevents.methods.vector import PtEtaPhiMLorentzVector"
   ]
  },
  {
   "cell_type": "markdown",
   "metadata": {},
   "source": [
    "### Define templates dir"
   ]
  },
  {
   "cell_type": "code",
   "execution_count": 2,
   "metadata": {},
   "outputs": [],
   "source": [
    "MAIN_DIR = \".\"\n",
    "\n",
    "# plot_dir = f\"{MAIN_DIR}/templates/12May2024_pdf_fixed\"\n",
    "plot_dir = f\"{MAIN_DIR}/templates/v1_templ_24Jan2025\"\n",
    "_ = os.system(f\"mkdir -p {plot_dir}\")"
   ]
  },
  {
   "attachments": {},
   "cell_type": "markdown",
   "metadata": {},
   "source": [
    "### Read SlimmedTree files"
   ]
  },
  {
   "cell_type": "code",
   "execution_count": 3,
   "metadata": {},
   "outputs": [],
   "source": [
    "# load the slimmedtree files using uproot\n",
    "# if run on PKU cluster, use this:\n",
    "CustNanoData = {\n",
    "    'TT_Semilep'     : \"/data/bond/zhaoyz/Pheno/slimmedtree/v9/TTbar.root\",\n",
    "    'WJets'          : \"/data/bond/zhaoyz/Pheno/slimmedtree/v7/WJets.root\",\n",
    "}\n",
    "files = { }\n",
    "for typefile in CustNanoData:\n",
    "    files[typefile] = uproot.lazy({CustNanoData[typefile]: \"PKUTree\"})"
   ]
  },
  {
   "cell_type": "code",
   "execution_count": 4,
   "metadata": {},
   "outputs": [],
   "source": [
    "#gen-matching results: bkg\n",
    "\n",
    "files[\"b_top_matched_bqq\"] = files[\"TT_Semilep\"][(files[\"TT_Semilep\"][\"top_matched_bqq\"] == 1) & (files[\"TT_Semilep\"][\"isWcb\"] == 0 )]\n",
    "files[\"b_top_matched_bq\"] = files[\"TT_Semilep\"][(files[\"TT_Semilep\"][\"top_matched_bq\"] == 1) & (files[\"TT_Semilep\"][\"isWcb\"] == 0 )]\n",
    "files[\"b_w_matched_others\"] = files[\"TT_Semilep\"][((files[\"TT_Semilep\"][\"w_matched_cd\"] == 1) | (files[\"TT_Semilep\"][\"w_matched_cs\"] == 1) | (files[\"TT_Semilep\"][\"w_matched_us\"] == 1) | (files[\"TT_Semilep\"][\"w_matched_ud\"] == 1) | (files[\"TT_Semilep\"][\"w_matched_ub\"] == 1)) & (files[\"TT_Semilep\"][\"isWcb\"] == 0) ]\n",
    "files[\"b_w_matched_cb\"] = files[\"TT_Semilep\"][(files[\"TT_Semilep\"][\"w_matched_cb\"] == 1) & (files[\"TT_Semilep\"][\"isWcb\"] == 0)]\n",
    "files[\"b_others\"] = files[\"TT_Semilep\"][((files[\"TT_Semilep\"][\"unmatched\"] ==1) | (files[\"TT_Semilep\"][\"q_matched\"] ==1) | (files[\"TT_Semilep\"][\"bb_matched\"] ==1) | (files[\"TT_Semilep\"][\"b_matched_had\"] ==1) | (files[\"TT_Semilep\"][\"b_matched_lep\"] ==1) | (files[\"TT_Semilep\"][\"lep_b_qq\"] ==1) | (files[\"TT_Semilep\"][\"lep_b_q\"] ==1) | (files[\"TT_Semilep\"][\"bb_q\"] ==1) | (files[\"TT_Semilep\"][\"bb_qq\"] ==1)) & (files[\"TT_Semilep\"][\"isWcb\"] == 0)]\n",
    "\n",
    "\n",
    "files[\"s_top_matched_bqq\"] = files[\"TT_Semilep\"][(files[\"TT_Semilep\"][\"top_matched_bqq\"]  ==1 ) & ( files[\"TT_Semilep\"][\"isWcb\"] == 1)]\n",
    "files[\"s_top_matched_bq\"] = files[\"TT_Semilep\"][(files[\"TT_Semilep\"][\"top_matched_bq\"] == 1) & ( files[\"TT_Semilep\"][\"isWcb\"] == 1)]\n",
    "files[\"s_w_matched_others\"] = files[\"TT_Semilep\"][((files[\"TT_Semilep\"][\"w_matched_cd\"] == 1) | (files[\"TT_Semilep\"][\"w_matched_cs\"] == 1) | (files[\"TT_Semilep\"][\"w_matched_us\"] == 1) | (files[\"TT_Semilep\"][\"w_matched_ud\"] == 1) | (files[\"TT_Semilep\"][\"w_matched_ub\"] == 1)) & (files[\"TT_Semilep\"][\"isWcb\"] == 1) ]\n",
    "files[\"s_w_matched_cb\"] = files[\"TT_Semilep\"][(files[\"TT_Semilep\"][\"w_matched_cb\"] == 1) & ( files[\"TT_Semilep\"][\"isWcb\"] ==1 )]\n",
    "files[\"s_others\"] = files[\"TT_Semilep\"][((files[\"TT_Semilep\"][\"unmatched\"] ==1) | (files[\"TT_Semilep\"][\"q_matched\"] ==1) | (files[\"TT_Semilep\"][\"bb_matched\"] ==1) | (files[\"TT_Semilep\"][\"b_matched_had\"] ==1) | (files[\"TT_Semilep\"][\"b_matched_lep\"] ==1) | (files[\"TT_Semilep\"][\"lep_b_qq\"] ==1) | (files[\"TT_Semilep\"][\"lep_b_q\"] ==1) | (files[\"TT_Semilep\"][\"bb_q\"] ==1) | (files[\"TT_Semilep\"][\"bb_qq\"] ==1)) & (files[\"TT_Semilep\"][\"isWcb\"] == 1)]\n",
    "\n",
    "files[\"TotalSignal\"] = files[\"TT_Semilep\"][( files[\"TT_Semilep\"][\"isWcb\"] ==1 )]\n",
    "\n"
   ]
  },
  {
   "cell_type": "markdown",
   "metadata": {},
   "source": [
    "### Add weight"
   ]
  },
  {
   "cell_type": "code",
   "execution_count": 5,
   "metadata": {},
   "outputs": [],
   "source": [
    "for file in files:\n",
    "    if file == \"WJets\":\n",
    "        files[file][\"weight\"] = ak.ones_like(files[file][\"hbc\"])*15.92\n",
    "    else:\n",
    "        files[file][\"weight\"] = ak.ones_like(files[file][\"hbc\"])*100/97.5\n",
    "    "
   ]
  },
  {
   "cell_type": "code",
   "execution_count": 6,
   "metadata": {},
   "outputs": [],
   "source": [
    "def get_tagger(files, alpha = 0, beta = 0, name = \"\"):\n",
    "    for sample in files:\n",
    "        print(f\"add tagger for {sample}\")\n",
    "        files[sample][name] = files[sample][\"hbc\"] / (files[sample][\"hbc\"] + alpha * files[sample][\"qcd\"] + beta * files[sample][\"hbq\"])"
   ]
  },
  {
   "cell_type": "code",
   "execution_count": 7,
   "metadata": {},
   "outputs": [
    {
     "name": "stdout",
     "output_type": "stream",
     "text": [
      "add tagger for TT_Semilep\n",
      "add tagger for WJets\n",
      "add tagger for b_top_matched_bqq\n",
      "add tagger for b_top_matched_bq\n",
      "add tagger for b_w_matched_others\n",
      "add tagger for b_w_matched_cb\n",
      "add tagger for b_others\n",
      "add tagger for s_top_matched_bqq\n",
      "add tagger for s_top_matched_bq\n",
      "add tagger for s_w_matched_others\n",
      "add tagger for s_w_matched_cb\n",
      "add tagger for s_others\n",
      "add tagger for TotalSignal\n"
     ]
    }
   ],
   "source": [
    "get_tagger(files, alpha = 1, beta = 0, name = \"HbcvsQCD\")"
   ]
  },
  {
   "cell_type": "code",
   "execution_count": 8,
   "metadata": {},
   "outputs": [
    {
     "name": "stdout",
     "output_type": "stream",
     "text": [
      "add tagger for TT_Semilep\n",
      "add tagger for WJets\n",
      "add tagger for b_top_matched_bqq\n",
      "add tagger for b_top_matched_bq\n",
      "add tagger for b_w_matched_others\n",
      "add tagger for b_w_matched_cb\n",
      "add tagger for b_others\n",
      "add tagger for s_top_matched_bqq\n",
      "add tagger for s_top_matched_bq\n",
      "add tagger for s_w_matched_others\n",
      "add tagger for s_w_matched_cb\n",
      "add tagger for s_others\n",
      "add tagger for TotalSignal\n"
     ]
    }
   ],
   "source": [
    "get_tagger(files, alpha = 0, beta = 1, name = \"HbcvsHbq\")"
   ]
  },
  {
   "cell_type": "markdown",
   "metadata": {},
   "source": [
    "### some test about variables / output all the variables"
   ]
  },
  {
   "cell_type": "code",
   "execution_count": 9,
   "metadata": {},
   "outputs": [
    {
     "data": {
      "text/plain": [
       "['PT_j',\n",
       " 'Eta_j',\n",
       " 'Phi_j',\n",
       " 'Mass_j',\n",
       " 'Mass_j_sd',\n",
       " 'n_b_tight',\n",
       " 'n_b_medium',\n",
       " 'n_b_loose',\n",
       " 'n_b_loose_1',\n",
       " 'n_b_loose_2',\n",
       " 'n_b_ideal',\n",
       " 'delta_r_tight',\n",
       " 'delta_r_medium',\n",
       " 'delta_r_loose',\n",
       " 'delta_r_loose_1',\n",
       " 'delta_r_loose_2',\n",
       " 'delta_r_ideal',\n",
       " 'delta_r1_Wcb_tight',\n",
       " 'delta_r1_Wcb_medium',\n",
       " 'delta_r1_Wcb_loose',\n",
       " 'delta_r1_Wcb_loose_1',\n",
       " 'delta_r1_Wcb_loose_2',\n",
       " 'delta_r1_Wcb_ideal',\n",
       " 'delta_r2_Wcb_tight',\n",
       " 'delta_r2_Wcb_medium',\n",
       " 'delta_r2_Wcb_loose',\n",
       " 'delta_r2_Wcb_loose_1',\n",
       " 'delta_r2_Wcb_loose_2',\n",
       " 'delta_r2_Wcb_ideal',\n",
       " 'delta_r_max_b_Wcb_tight',\n",
       " 'delta_r_max_b_Wcb_medium',\n",
       " 'delta_r_max_b_Wcb_loose',\n",
       " 'delta_r_max_b_Wcb_loose_1',\n",
       " 'delta_r_max_b_Wcb_loose_2',\n",
       " 'delta_r_max_b_Wcb_ideal',\n",
       " 'delta_r_min_b_Wcb_tight',\n",
       " 'delta_r_min_b_Wcb_medium',\n",
       " 'delta_r_min_b_Wcb_loose',\n",
       " 'delta_r_min_b_Wcb_loose_1',\n",
       " 'delta_r_min_b_Wcb_loose_2',\n",
       " 'delta_r_min_b_Wcb_ideal',\n",
       " 'delta_eta_tight',\n",
       " 'delta_eta_medium',\n",
       " 'delta_eta_loose',\n",
       " 'delta_eta_loose_1',\n",
       " 'delta_eta_loose_2',\n",
       " 'delta_eta_ideal',\n",
       " 'delta_prod_eta_tight',\n",
       " 'delta_prod_eta_medium',\n",
       " 'delta_prod_eta_loose',\n",
       " 'delta_prod_eta_loose_1',\n",
       " 'delta_prod_eta_loose_2',\n",
       " 'delta_prod_eta_ideal',\n",
       " 'top_matched_bqq',\n",
       " 'top_matched_bq',\n",
       " 'lep_b_qq',\n",
       " 'lep_b_q',\n",
       " 'w_matched_cd',\n",
       " 'w_matched_cs',\n",
       " 'w_matched_cb',\n",
       " 'w_matched_ud',\n",
       " 'w_matched_ub',\n",
       " 'w_matched_us',\n",
       " 'b_matched_had',\n",
       " 'b_matched_lep',\n",
       " 'bb_matched',\n",
       " 'bb_q',\n",
       " 'bb_qq',\n",
       " 'q_matched',\n",
       " 'unmatched',\n",
       " 'isWcb',\n",
       " 'lep_b_in',\n",
       " 'had_b_in',\n",
       " 'NAK8',\n",
       " 'NAK4',\n",
       " 'hbcvsqcd',\n",
       " 'hbc',\n",
       " 'qcd',\n",
       " 'hbq',\n",
       " 'weight',\n",
       " 'HbcvsQCD',\n",
       " 'HbcvsHbq']"
      ]
     },
     "execution_count": 9,
     "metadata": {},
     "output_type": "execute_result"
    }
   ],
   "source": [
    "files[\"TotalSignal\"].fields"
   ]
  },
  {
   "attachments": {},
   "cell_type": "markdown",
   "metadata": {},
   "source": [
    "### plot setting"
   ]
  },
  {
   "cell_type": "code",
   "execution_count": 10,
   "metadata": {},
   "outputs": [],
   "source": [
    "import matplotlib as mpl\n",
    "import matplotlib.pyplot as plt\n",
    "import mplhep as hep\n",
    "import boost_histogram as bh\n",
    "from cycler import cycler\n",
    "\n",
    "use_helvet = False ## true: use helvetica for plots, make sure the system have the font installed\n",
    "if use_helvet:\n",
    "    CMShelvet = hep.style.CMS\n",
    "    CMShelvet['font.sans-serif'] = ['Helvetica', 'Arial']\n",
    "    plt.style.use(CMShelvet)\n",
    "else:\n",
    "    plt.style.use(hep.style.CMS)\n",
    "\n",
    "def flow(hist: bh.Histogram, overflow: bool=True, underflow: bool=True):\n",
    "    h, var = hist.view(flow=(overflow | underflow)).value, hist.view(flow=(overflow | underflow)).variance\n",
    "    if overflow: \n",
    "        # h, var also include underflow bins but in plots usually no underflow data\n",
    "        # And we've filled None with -999, so we shouldn't show underflow data (mostly from filled None)\n",
    "        # You have to access the overflow and underflow bins data like below:\n",
    "        h[-2] += h[-1]; var[-2] += var[-1]\n",
    "    if underflow:\n",
    "        h[1] += h[0]; var[1] += var[0]\n",
    "    if overflow or underflow:\n",
    "        h, var = h[1:-1], var[1:-1]\n",
    "    return h, var\n",
    "    # Return the updated histogram and variance\n",
    "\n",
    "def error_bar(h, var, type='data'):\n",
    "    from scipy.interpolate import CubicSpline\n",
    "    if type == 'data':\n",
    "        number = h\n",
    "    elif type == 'mc':  # h = k*N, var = k^2*N, std = k*sqrt(N)\n",
    "        number = h**2 / var\n",
    "    else:\n",
    "        raise ValueError(\"type should be 'data' or 'mc'! \")\n",
    "    center = range(11) # Number: 0-10\n",
    "    up = np.array([1.84, 3.30, 4.64, 5.92, 7.16, 8.38, 9.58, 10.77, 11.95, 13.11, 14.27]) - center\n",
    "    down = center - np.array([0, 0.17, 0.71, 1.37, 2.09, 2.84, 3.62, 4.42, 5.23, 6.06, 6.89])\n",
    "    #cs means to create a CubicSpline object\n",
    "    cs_up = CubicSpline(x=center, y=up)\n",
    "    cs_down = CubicSpline(x=center, y=down)\n",
    "    \n",
    "    Garwood = (number>0)&(number<10)\n",
    "    poison_error_bar = np.sqrt(number)\n",
    "    up_error_bar = np.copy(poison_error_bar)\n",
    "    down_error_bar = np.copy(poison_error_bar)\n",
    "    up_error_bar[Garwood] = cs_up(number[Garwood])\n",
    "    down_error_bar[Garwood] = cs_down(number[Garwood])\n",
    "    if type == 'mc':\n",
    "        up_error_bar *= var/h\n",
    "        down_error_bar *= var/h\n",
    "    up_error_bar [up_error_bar < 0 ] = 0\n",
    "    down_error_bar [down_error_bar < 0 ] = 0\n",
    "    return np.array([down_error_bar, up_error_bar])\n",
    "\n",
    "\n",
    "# function to find the optimal region with S/sqrt(B)\n",
    "# not used so far\n",
    "def optimalcut(shist, bhist):\n",
    "    n_bins = len(shist)\n",
    "    best_lower = None\n",
    "    best_upper = None\n",
    "    best_s_sqrt_b = 0\n",
    "\n",
    "    for lower in range(n_bins):\n",
    "        for upper in range(lower+1, n_bins+1):\n",
    "            s = np.sum(shist[lower:upper])\n",
    "            b = np.sum(bhist[lower:upper])\n",
    "            s_sqrt_b = s / np.sqrt(b + 1)\n",
    "\n",
    "            if s_sqrt_b > best_s_sqrt_b:\n",
    "                best_lower = lower\n",
    "                best_upper = upper\n",
    "                best_s_sqrt_b = s_sqrt_b\n",
    "\n",
    "    return best_lower, best_upper, best_s_sqrt_b\n",
    "\n",
    "def optimalcut_oneside(shist, bhist, epsilon = 0.01):\n",
    "    '''\n",
    "    Given the signal histogram and background histogram, \n",
    "    show the one-side cut for the variable to get best s/sqrt(b).\n",
    "    Args:\n",
    "        shist:signal histogram\n",
    "        bhist:background histogram\n",
    "        epsilon(float): epsilon to avoid numerical errs \n",
    "    '''\n",
    "    n_bins = len(shist)\n",
    "    best_cut = 0\n",
    "    best_s_sqrt_b = 0\n",
    "\n",
    "    for cut in range(n_bins):\n",
    "        s = np.sum(shist[cut:])\n",
    "        b = np.sum(bhist[cut:])\n",
    "        s_sqrt_b = s / np.sqrt(b + epsilon)\n",
    "        if s_sqrt_b > best_s_sqrt_b:\n",
    "            best_cut = cut\n",
    "            best_s_sqrt_b = s_sqrt_b\n",
    "        \n",
    "    return best_cut, best_s_sqrt_b\n",
    "\n",
    "def optimalcut_mid_combine(shist1, shist2, bhist, epsilon = 1):\n",
    "    '''\n",
    "    Given the signal histogram and background histogram, \n",
    "    show the one-side cut for the variable to get best s/sqrt(b).\n",
    "    Args:\n",
    "        shist:signal histogram\n",
    "        bhist:background histogram\n",
    "        epsilon(float): epsilon to avoid numerical errs \n",
    "    '''\n",
    "    n_bins = len(shist1)\n",
    "    best_cut = 0\n",
    "    best_combined_sig_two_side = 0\n",
    "\n",
    "    for cut in range(n_bins):\n",
    "        s_right_side = np.sum(shist2[cut:])\n",
    "        b_right_side = np.sum(bhist[cut:])\n",
    "        s_left_side = np.sum(shist1[:cut])\n",
    "        b_left_side = np.sum(bhist[:cut])\n",
    "        s_sqrt_b_right_side = s_right_side / np.sqrt(b_right_side + epsilon)\n",
    "        s_sqrt_b_left_side = s_left_side / np.sqrt(b_left_side + epsilon)\n",
    "        combined_sig_two_side = np.sqrt((s_sqrt_b_right_side)**2 + (s_sqrt_b_left_side)**2)\n",
    "        if combined_sig_two_side > best_combined_sig_two_side:\n",
    "            best_cut = cut\n",
    "            best_combined_sig_two_side = combined_sig_two_side\n",
    "        \n",
    "    return best_cut, best_combined_sig_two_side\n"
   ]
  },
  {
   "cell_type": "markdown",
   "metadata": {},
   "source": [
    "### Define observable object variables"
   ]
  },
  {
   "cell_type": "code",
   "execution_count": 11,
   "metadata": {},
   "outputs": [],
   "source": [
    "from dataclasses import dataclass, field\n",
    "from typing import List\n",
    "\n",
    "@dataclass\n",
    "class ShapeVar:\n",
    "    \"\"\"Class to store attributes of a variable to make a histogram of.\n",
    "\n",
    "    Args:\n",
    "        var (str): variable name\n",
    "        label (str): variable label\n",
    "        bins (List[int]): bins\n",
    "        reg (bool, optional): Use a regular axis or variable binning. Defaults to True.\n",
    "        blind_window (List[int], optional): if blinding, set min and max values to set 0. Defaults to None.\n",
    "        significance_dir (str, optional): if plotting significance, which direction to plot it in.\n",
    "          See more in plotting.py:ratioHistPlot(). Options are [\"left\", \"right\", \"bin\"]. Defaults to \"right\".\n",
    "    \"\"\"\n",
    "\n",
    "    var: str = None\n",
    "    label: str = None\n",
    "    bins: List[int] = None\n",
    "    reg: bool = True #regular axis\n",
    "    blind_window: List[int] = None\n",
    "    significance_dir: str = \"right\"\n",
    "\n",
    "    def __post_init__(self):\n",
    "        # create axis used for histogramming\n",
    "        if self.reg:\n",
    "            self.axis = hist2.axis.Regular(*self.bins, name=self.var, label=self.label)\n",
    "        else:\n",
    "            self.axis = hist2.axis.Variable(self.bins, name=self.var, label=self.label)\n",
    "\n",
    "@dataclass\n",
    "class Syst:\n",
    "    samples: List[str] = None\n",
    "    years: List[str] = field(default_factory=lambda: years)\n",
    "    label: str = None\n",
    "    \n",
    "def blindBins(h: hist2.Hist, blind_region: List, blind_sample: str = None, axis=0):\n",
    "    \"\"\"\n",
    "    Blind (i.e. zero) bins in histogram ``h``.\n",
    "    If ``blind_sample`` specified, only blind that sample, else blinds all.\n",
    "    \"\"\"\n",
    "    if axis > 0:\n",
    "        raise Exception(\"not implemented > 1D blinding yet\")\n",
    "\n",
    "    bins = h.axes[axis + 1].edges\n",
    "    lv = int(np.searchsorted(bins, blind_region[0], \"right\"))\n",
    "    rv = int(np.searchsorted(bins, blind_region[1], \"left\") + 1)\n",
    "\n",
    "    if blind_sample is not None:\n",
    "        data_key_index = np.where(np.array(list(h.axes[0])) == blind_sample)[0][0]\n",
    "        h.view(flow=True)[data_key_index][lv:rv].value = 0\n",
    "        h.view(flow=True)[data_key_index][lv:rv].variance = 0\n",
    "    else:\n",
    "        h.view(flow=True)[:, lv:rv].value = 0\n",
    "        h.view(flow=True)[:, lv:rv].variance = 0       \n",
    "shape_vars = [\n",
    "    ShapeVar(\n",
    "        \"MH_Reco\",\n",
    "        r\"Wcb candidate soft-drop mass [GeV]\",\n",
    "        [20, 0, 200],\n",
    "        reg=True,\n",
    "        blind_window=[50, 110],\n",
    "    )\n",
    "]\n"
   ]
  },
  {
   "cell_type": "markdown",
   "metadata": {},
   "source": [
    "### Define samples we consider"
   ]
  },
  {
   "cell_type": "code",
   "execution_count": 12,
   "metadata": {},
   "outputs": [],
   "source": [
    "sig_keys = [\n",
    "    \"s_top_matched_bqq\",\n",
    "    \"s_top_matched_bq\",\n",
    "    \"s_w_matched_others\",\n",
    "    \"s_w_matched_cb\",\n",
    "    \"s_others\",\n",
    "    \n",
    "    # bind together t->bq component with signal(s_* component) \n",
    "]\n",
    "\n",
    "bkg_keys = [\n",
    "    \"b_top_matched_bqq\",\n",
    "    \"b_top_matched_bq\" \n",
    "    \"b_w_matched_others\",\n",
    "    \"b_w_matched_cb\",\n",
    "    \"b_others\",\n",
    "    \"WJets\",\n",
    "]\n",
    "\n",
    "mc_keys = sig_keys + bkg_keys"
   ]
  },
  {
   "cell_type": "markdown",
   "metadata": {},
   "source": [
    "### Define CUT(aka. regions)"
   ]
  },
  {
   "cell_type": "code",
   "execution_count": 13,
   "metadata": {},
   "outputs": [],
   "source": [
    "CUT = {       \n",
    "    \"SR\"   : {k:   (files[k][\"HbcvsQCD\"] >= 0.95) & (files[k][\"n_b_loose\"] == 2) & (files[k][\"delta_r_loose\"] > 1) & (files[k][\"delta_r_min_b_Wcb_loose\"] < 2) for k in files}, \n",
    "    }"
   ]
  },
  {
   "cell_type": "markdown",
   "metadata": {},
   "source": [
    "### Save hist templates to pkl files"
   ]
  },
  {
   "cell_type": "code",
   "execution_count": 30,
   "metadata": {},
   "outputs": [],
   "source": [
    "def save_pkl(files, path_str = plot_dir, template_file = \"templates\"):\n",
    "    templates = {} #empty dict to store the templates file\n",
    "    regions = [\"SR\",] #signal regions or control regions\n",
    "    hist_samples = mc_keys + [\"data\"]\n",
    "     \n",
    "    print(\"now running templates:\")\n",
    "    #initialize weight based variation samples\n",
    "    \n",
    "    for region in regions:\n",
    "        print(\"now processing:\",region)\n",
    "        templates[region] = hist2.Hist(\n",
    "            hist2.axis.StrCategory(hist_samples, name=\"Sample\"),\n",
    "            *[shape_var.axis for shape_var in shape_vars],\n",
    "            storage=\"weight\",\n",
    "            ) #initialize a hist object\n",
    "        \n",
    "        #add center value templates first\n",
    "        for sample in hist_samples:\n",
    "            if sample == \"data\":\n",
    "                print(f\"processing fake {sample}, all set to 0\")\n",
    "                data = files[\"b_top_matched_bqq\"][CUT[region][\"b_top_matched_bqq\"]]\n",
    "                print(data[\"Mass_j_sd\"])\n",
    "                templates[region].fill(\n",
    "                                        Sample=sample,\n",
    "                                        MH_Reco=ak.zeros_like(data[\"Mass_j_sd\"]),\n",
    "                                        weight=data[\"weight\"],\n",
    "                )\n",
    "            else:\n",
    "                print(f\"processing {sample}\")\n",
    "                data = files[sample][CUT[region][sample]]\n",
    "                print(data[\"Mass_j_sd\"])\n",
    "                templates[region].fill(\n",
    "                                        Sample=sample,\n",
    "                                        MH_Reco=data[\"Mass_j_sd\"],\n",
    "                                        weight=data[\"weight\"],\n",
    "                )\n",
    "\n",
    "    #save files\n",
    "    with open(f\"{path_str}/{template_file}.pkl\", \"wb\") as fp:\n",
    "        pkl.dump(templates, fp) # dump the templates of each region in a pkl file\n",
    "        print(\"Saved templates to\", f\"{template_file}.pkl\")"
   ]
  },
  {
   "cell_type": "code",
   "execution_count": 31,
   "metadata": {},
   "outputs": [
    {
     "name": "stdout",
     "output_type": "stream",
     "text": [
      "now running templates:\n",
      "now processing: SR\n",
      "processing s_top_matched_bqq\n",
      "[]\n",
      "processing s_top_matched_bq\n",
      "[118, 74.2, 84.8, 72.8, 125, 88.4, 107, 104, 96.7]\n",
      "processing s_w_matched_others\n",
      "[]\n",
      "processing s_w_matched_cb\n",
      "[74.3, 55.4, 77.2, 66.5, 84.2, 76.5, 96.8, ... 77.8, 76.8, 91.1, 78.1, 107, 71.3]\n",
      "processing s_others\n",
      "[]\n",
      "processing b_top_matched_bq\n",
      "[107, 92.1, 110, 107, 121, 96.6, 82.2, 129, ... 65.3, 141, 99, 81.3, 94, 72.1, 91.1]\n",
      "processing b_top_matched_bqq\n",
      "[130, 119, 143, 142, 150, 164, 144, 132, ... 191, 90.5, 70, 142, 162, 132, 136, 179]\n",
      "processing b_w_matched_others\n",
      "[85.5, 87.2, 77.5, 89.2, 69.5, 76.8, 64.6, ... 76, 97.7, 150, 79.9, 83.8, 77.3, 77.5]\n",
      "processing b_w_matched_cb\n",
      "[]\n",
      "processing b_others\n",
      "[74.2, 95.6, 85.6, 53.7, 56.4, 123, 77.5, ... 74.4, 70.6, 60.5, 142, 58.1, 69.2, 59]\n",
      "processing WJets\n",
      "[]\n",
      "processing fake data, all set to 0\n",
      "[130, 119, 143, 142, 150, 164, 144, 132, ... 191, 90.5, 70, 142, 162, 132, 136, 179]\n",
      "Saved templates to templates.pkl\n"
     ]
    }
   ],
   "source": [
    "save_pkl(files = files)"
   ]
  },
  {
   "cell_type": "code",
   "execution_count": 16,
   "metadata": {},
   "outputs": [
    {
     "ename": "NameError",
     "evalue": "name 'PLACE_HOLDER' is not defined",
     "output_type": "error",
     "traceback": [
      "\u001b[0;31m---------------------------------------------------------------------------\u001b[0m",
      "\u001b[0;31mNameError\u001b[0m                                 Traceback (most recent call last)",
      "\u001b[1;32m/home/pku/zhaoyz/pheno/postprocessing/templates.ipynb Cell 28\u001b[0m line \u001b[0;36m1\n\u001b[0;32m----> <a href='vscode-notebook-cell://ssh-remote%2Bfarm/home/pku/zhaoyz/pheno/postprocessing/templates.ipynb#Y101sdnNjb2RlLXJlbW90ZQ%3D%3D?line=0'>1</a>\u001b[0m PLACE_HOLDER\n",
      "\u001b[0;31mNameError\u001b[0m: name 'PLACE_HOLDER' is not defined"
     ]
    }
   ],
   "source": [
    "PLACE_HOLDER"
   ]
  },
  {
   "cell_type": "code",
   "execution_count": null,
   "metadata": {},
   "outputs": [
    {
     "data": {
      "text/plain": [
       "{'SR': Hist(\n",
       "   StrCategory(['s_top_matched_bqq', 's_top_matched_bq', 's_w_matched_others', 's_w_matched_cb', 's_others', 'b_top_matched_bq', 'b_top_matched_bqq', 'b_w_matched_others', 'b_w_matched_cb', 'b_others', 'WJets'], name='Sample'),\n",
       "   Regular(20, 0, 200, name='MH_Reco', label='Wcb candidate soft-drop mass [GeV]'),\n",
       "   storage=Weight()) # Sum: WeightedSum(value=755.897, variance=775.279) (WeightedSum(value=760, variance=779.487) with flow)}"
      ]
     },
     "execution_count": 17,
     "metadata": {},
     "output_type": "execute_result"
    }
   ],
   "source": [
    "hists_template1"
   ]
  },
  {
   "cell_type": "markdown",
   "metadata": {},
   "source": [
    "### test about the templates"
   ]
  },
  {
   "cell_type": "code",
   "execution_count": 32,
   "metadata": {},
   "outputs": [
    {
     "data": {
      "text/html": [
       "<html>\n",
       "<div style=\"display:flex; align-items:center;\">\n",
       "<div style=\"width:290px;\">\n",
       "<svg xmlns=\"http://www.w3.org/2000/svg\" viewBox=\"-10 -105 270 120\">\n",
       "<line x1=\"-5\" y1=\"0\" x2=\"255\" y2=\"0\" style=\"fill:none;stroke-width:2;stroke:currentColor\"/>\n",
       "<text text-anchor=\"middle\" x=\"0\" y=\"15\" style=\"fill:currentColor;\">\n",
       "0\n",
       "</text>\n",
       "<text text-anchor=\"middle\" x=\"250\" y=\"15\" style=\"fill:currentColor;\">\n",
       "200\n",
       "</text>\n",
       "<text text-anchor=\"middle\" x=\"125.0\" y=\"15\" style=\"fill:currentColor;\">\n",
       "Wcb candidate soft-drop mass [GeV]\n",
       "</text>\n",
       "<polyline points=\"  0,0   0,-100 12.5,-100 12.5,-0  25,-0  25,-0 37.5,-0 37.5,-0  50,-0  50,-0 62.5,-0 62.5,-0  75,-0  75,-0 87.5,-0 87.5,-0 100,-0 100,-0 112.5,-0 112.5,-0 125,-0 125,-0 137.5,-0 137.5,-0 150,-0 150,-0 162.5,-0 162.5,-0 175,-0 175,-0 187.5,-0 187.5,-0 200,-0 200,-0 212.5,-0 212.5,-0 225,-0 225,-0 237.5,-0 237.5,-0 250,-0 250,0\" style=\"fill:none; stroke:currentColor;\"/>\n",
       "</svg>\n",
       "</div>\n",
       "<div style=\"flex=grow:1;\">\n",
       "Regular(20, 0, 200, name='MH_Reco', label='Wcb candidate soft-drop mass [GeV]')<br/>\n",
       "<hr style=\"margin-top:.2em; margin-bottom:.2em;\"/>\n",
       "Weight() Σ=WeightedSum(value=63.5897, variance=65.2203)\n",
       "\n",
       "</div>\n",
       "</div>\n",
       "</html>"
      ],
      "text/plain": [
       "Hist(Regular(20, 0, 200, name='MH_Reco', label='Wcb candidate soft-drop mass [GeV]'), storage=Weight()) # Sum: WeightedSum(value=63.5897, variance=65.2203)"
      ]
     },
     "execution_count": 32,
     "metadata": {},
     "output_type": "execute_result"
    }
   ],
   "source": [
    "with open(f\"{plot_dir}/templates.pkl\",\"rb\") as f:\n",
    "    hists_template1 = pkl.load(f)\n",
    "hists_template1[\"SR\"][\"data\",:]"
   ]
  },
  {
   "cell_type": "markdown",
   "metadata": {},
   "source": [
    "### test how to load and use the *.pkl template file"
   ]
  },
  {
   "cell_type": "code",
   "execution_count": 23,
   "metadata": {},
   "outputs": [
    {
     "data": {
      "text/plain": [
       "(array([ 0.        ,  0.        ,  0.        ,  0.        ,  0.        ,\n",
       "         4.10256433,  7.17948759, 13.33333409,  7.17948759,  7.17948759,\n",
       "         2.05128217,  1.02564108,  0.        ,  1.02564108,  0.        ,\n",
       "         0.        ,  0.        ,  0.        ,  0.        ,  0.        ]),\n",
       " array([ 0.        ,  0.        ,  0.        ,  0.        ,  0.        ,\n",
       "         4.20775853,  7.36357743, 13.67521522,  7.36357743,  7.36357743,\n",
       "         2.10387927,  1.05193963,  0.        ,  1.05193963,  0.        ,\n",
       "         0.        ,  0.        ,  0.        ,  0.        ,  0.        ]),\n",
       " array([  0.,  10.,  20.,  30.,  40.,  50.,  60.,  70.,  80.,  90., 100.,\n",
       "        110., 120., 130., 140., 150., 160., 170., 180., 190., 200.]),\n",
       " 'MH_Reco')"
      ]
     },
     "execution_count": 23,
     "metadata": {},
     "output_type": "execute_result"
    }
   ],
   "source": [
    "def get_template(h, sample):\n",
    "    ''' \n",
    "    histogram h Hist, with axes:[\"samples\",\"systematic\",\"MH_Reco\"]\n",
    "    sample is sample name in [\"QCD\",...,\"data\"]\n",
    "    '''\n",
    "    mass_axis = 1 #axis index\n",
    "    massbins = h.axes[mass_axis].edges\n",
    "    return (h[sample, :].values(), h[sample, :].variances(), massbins, \"MH_Reco\")\n",
    "\n",
    "a = get_template(hists_template1[\"SR\"],\"s_w_matched_cb\")\n",
    "a"
   ]
  },
  {
   "cell_type": "markdown",
   "metadata": {},
   "source": [
    "### make some plots to test the variation"
   ]
  },
  {
   "cell_type": "code",
   "execution_count": 25,
   "metadata": {},
   "outputs": [
    {
     "data": {
      "image/png": "[encoded data removed]",
      "text/plain": [
       "<Figure size 1400x1500 with 1 Axes>"
      ]
     },
     "metadata": {},
     "output_type": "display_data"
    }
   ],
   "source": [
    "nbins, x_min, x_max = 20, 50, 250\n",
    "\n",
    "plt.rcParams['axes.prop_cycle'] = cycler(color=[\"tab:blue\",\t\"tab:orange\",\t\"tab:green\",\t\"tab:red\",\t\"tab:purple\", \"tab:brown\", \"tab:pink\", \"k\",\"tab:olive\" ,\t\"tab:cyan\"])\n",
    "\n",
    "f = plt.figure(figsize=(14, 15))\n",
    "ax = f.add_subplot(1, 1, 1)  \n",
    "ax.grid()\n",
    "\n",
    "year = \"2016\"\n",
    "LUMI = {\"2016APV\": 36.33,\"2016\": 36.33, \"2017\": 41.48, \"2018\": 59.83,\"Full-Run2\":138}\n",
    "hep.cms.label(loc = 1, data=True, year=year, ax=ax, lumi=LUMI[year], fontsize=18, llabel='Preliminary')\n",
    "\n",
    "hist_region = bh.Histogram(bh.axis.Regular(nbins, x_min, x_max), storage=bh.storage.Weight())\n",
    "hep.histplot(get_template(hists_template1[\"SR\"],\"s_w_matched_cb\")[0], bins=get_template(hists_template1[\"SR\"],\"s_w_matched_cb\")[2], label=\"Test1 \", histtype='step', stack=False, linewidth=2, ax=ax,color = \"red\")\n",
    "\n",
    "hist_region = bh.Histogram(bh.axis.Regular(nbins, x_min, x_max), storage=bh.storage.Weight())\n",
    "hep.histplot(get_template(hists_template1[\"SR\"],\"s_w_matched_cb\")[0], bins=get_template(hists_template1[\"SR\"],\"s_w_matched_cb\")[2], label=\"Test2 \", histtype='step', stack=False, linewidth=2, ax=ax,color = \"blue\")\n",
    "\n",
    "hist_region = bh.Histogram(bh.axis.Regular(nbins, x_min, x_max), storage=bh.storage.Weight())\n",
    "hep.histplot(get_template(hists_template1[\"SR\"],\"s_w_matched_cb\")[0], bins=get_template(hists_template1[\"SR\"],\"s_w_matched_cb\")[2], label=\"Test3 \", histtype='step', stack=False, linewidth=2, ax=ax,color = \"orange\")\n",
    "\n",
    "\n",
    "ax.set_ylabel(\"Events\")\n",
    "ax.legend(loc=\"upper right\", ncol=1, frameon=False, fontsize=18)\n",
    "plt.show()"
   ]
  }
 ],
 "metadata": {
  "kernelspec": {
   "display_name": "Python 3.9.6 64-bit",
   "language": "python",
   "name": "python3"
  },
  "language_info": {
   "codemirror_mode": {
    "name": "ipython",
    "version": 3
   },
   "file_extension": ".py",
   "mimetype": "text/x-python",
   "name": "python",
   "nbconvert_exporter": "python",
   "pygments_lexer": "ipython3",
   "version": "3.8.17"
  },
  "orig_nbformat": 4,
  "vscode": {
   "interpreter": {
    "hash": "bc8653c37afde981a02f518cc5ed66e36d68f5e1c41895fdf66da08341e86c45"
   }
  }
 },
 "nbformat": 4,
 "nbformat_minor": 2
}
