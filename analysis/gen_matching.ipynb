{
 "cells": [
  {
   "cell_type": "markdown",
   "metadata": {},
   "source": [
    "### do gen-matching with delphes root files"
   ]
  },
  {
   "cell_type": "code",
   "execution_count": null,
   "metadata": {},
   "outputs": [],
   "source": []
  },
  {
   "cell_type": "code",
   "execution_count": 1,
   "metadata": {},
   "outputs": [],
   "source": [
    "import uproot\n",
    "import awkward as ak\n",
    "\n",
    "from glob import glob\n",
    "from coffea.nanoevents import NanoEventsFactory, DelphesSchema\n",
    "\n",
    "# from coffea import nanoevents\n",
    "# from coffea.nanoevents.methods.base import NanoEventsArray\n",
    "# from coffea.analysis_tools import Weights, PackedSelection\n",
    "# from coffea.nanoevents.methods import nanoaod\n",
    "# from coffea.nanoevents.methods import vector\n",
    "# from coffea.lookup_tools.dense_lookup import dense_lookup\n",
    "# from coffea.nanoevents.methods.nanoaod import MuonArray, JetArray, FatJetArray, GenParticleArray\n",
    "# ak.behavior.update(vector.behavior)\n",
    "\n",
    "import pickle, json, gzip\n",
    "import numpy as np\n",
    "\n",
    "from typing import Optional, List, Dict, Tuple\n",
    "from copy import copy\n",
    "\n",
    "from matplotlib import colors\n",
    "import matplotlib as mpl\n",
    "import matplotlib.pyplot as plt\n",
    "import mplhep as hep\n",
    "import boost_histogram as bh\n",
    "from cycler import cycler\n",
    "\n",
    "from tqdm import tqdm\n",
    "\n",
    "# import fastjet\n",
    "\n",
    "import pathlib\n",
    "\n",
    "# import jetnet\n",
    "\n",
    "import os\n",
    "\n",
    "import boost_histogram as bh"
   ]
  },
  {
   "cell_type": "code",
   "execution_count": 2,
   "metadata": {},
   "outputs": [],
   "source": [
    "plot_dir = \"../plots/gen_matching/12Jun2024\"\n",
    "_ = os.system(f\"mkdir -p {plot_dir}\")"
   ]
  },
  {
   "cell_type": "code",
   "execution_count": 3,
   "metadata": {},
   "outputs": [],
   "source": [
    "delphes_roots = {\n",
    "    'TTbar_semilep' : \"/data/bond/zhaoyz/Pheno/ttbar_Wcb/TTbar_semilep/delphes_9.root\",\n",
    "}    \n",
    "files = {typefile : {} for typefile in delphes_roots}\n",
    "for typefile in delphes_roots:\n",
    "    files[typefile] = NanoEventsFactory.from_root(\n",
    "        delphes_roots[typefile],\n",
    "        treepath='/Delphes',\n",
    "        schemaclass=DelphesSchema,\n",
    "    ).events()"
   ]
  },
  {
   "cell_type": "code",
   "execution_count": 5,
   "metadata": {},
   "outputs": [],
   "source": [
    "# use leading pT jet first, anyway we will only select one AK8 jet in the end\n",
    "def pad_val(\n",
    "    arr: ak.Array,\n",
    "    target: int,\n",
    "    value: float,\n",
    "    axis: int = 0,\n",
    "    to_numpy: bool = True,\n",
    "    clip: bool = True,\n",
    "):\n",
    "    \"\"\"\n",
    "    pads awkward array up to ``target`` index along axis ``axis`` with value ``value``,\n",
    "    optionally converts to numpy array\n",
    "    \"\"\"\n",
    "    ret = ak.fill_none(ak.pad_none(arr, target, axis=axis, clip=clip), value, axis=axis)\n",
    "    return ret.to_numpy() if to_numpy else ret\n",
    "\n",
    "use_helvet = False ## true: use helvetica for plots, make sure the system have the font installed\n",
    "if use_helvet:\n",
    "    CMShelvet = hep.style.CMS\n",
    "    CMShelvet['font.sans-serif'] = ['Helvetica', 'Arial']\n",
    "    plt.style.use(CMShelvet)\n",
    "else:\n",
    "    plt.style.use(hep.style.ROOT)\n",
    "\n",
    "def flow(hist: bh.Histogram, overflow: bool=False, underflow: bool=False):\n",
    "    h, var = hist.view(flow=(overflow | underflow)).value, hist.view(flow=(overflow | underflow)).variance\n",
    "    if overflow: \n",
    "        # h, var also include underflow bins but in plots usually no underflow data\n",
    "        # And we've filled None with -999, so we shouldn't show underflow data (mostly from filled None)\n",
    "        # You have to access the overflow and underflow bins data like below:\n",
    "        h[-2] += h[-1]; var[-2] += var[-1]\n",
    "    if underflow:\n",
    "        h[1] += h[0]; var[1] += var[0]\n",
    "    if overflow or underflow:\n",
    "        h, var = h[1:-1], var[1:-1]\n",
    "    return h, var\n",
    "    # Return the updated histogram and variance\n",
    "\n",
    "def error_bar(h, var, type='data'):\n",
    "    from scipy.interpolate import CubicSpline\n",
    "    if type == 'data':\n",
    "        number = h\n",
    "    elif type == 'mc':  # h = k*N, var = k^2*N, std = k*sqrt(N)\n",
    "        number = h**2 / var\n",
    "    else:\n",
    "        raise ValueError(\"type should be 'data' or 'mc'! \")\n",
    "    center = range(11) # Number: 0-10\n",
    "    up = np.array([1.84, 3.30, 4.64, 5.92, 7.16, 8.38, 9.58, 10.77, 11.95, 13.11, 14.27]) - center\n",
    "    down = center - np.array([0, 0.17, 0.71, 1.37, 2.09, 2.84, 3.62, 4.42, 5.23, 6.06, 6.89])\n",
    "    #cs means to create a CubicSpline object\n",
    "    cs_up = CubicSpline(x=center, y=up)\n",
    "    cs_down = CubicSpline(x=center, y=down)\n",
    "    \n",
    "    Garwood = (number>0)&(number<10)\n",
    "    poison_error_bar = np.sqrt(number)\n",
    "    up_error_bar = np.copy(poison_error_bar)\n",
    "    down_error_bar = np.copy(poison_error_bar)\n",
    "    up_error_bar[Garwood] = cs_up(number[Garwood])\n",
    "    down_error_bar[Garwood] = cs_down(number[Garwood])\n",
    "    if type == 'mc':\n",
    "        up_error_bar *= var/h\n",
    "        down_error_bar *= var/h\n",
    "    up_error_bar [up_error_bar < 0 ] = 0\n",
    "    down_error_bar [down_error_bar < 0 ] = 0\n",
    "    return np.array([down_error_bar, up_error_bar])"
   ]
  },
  {
   "cell_type": "markdown",
   "metadata": {},
   "source": [
    "### Preliminary check"
   ]
  },
  {
   "cell_type": "code",
   "execution_count": 5,
   "metadata": {},
   "outputs": [
    {
     "data": {
      "text/plain": [
       "<Array [[21, 21, 21, -6, ... 22, 211, -211]] type='1306 * var * int32[parameters...'>"
      ]
     },
     "execution_count": 5,
     "metadata": {},
     "output_type": "execute_result"
    }
   ],
   "source": [
    "files[\"TTbar_semilep\"].Particle.PID"
   ]
  },
  {
   "cell_type": "code",
   "execution_count": 6,
   "metadata": {},
   "outputs": [],
   "source": [
    "genparts = files[\"TTbar_semilep\"].Particle"
   ]
  },
  {
   "cell_type": "code",
   "execution_count": 7,
   "metadata": {},
   "outputs": [
    {
     "data": {
      "text/plain": [
       "<ParticleArray [Particle, Particle, ... Particle] type='1367 * particle'>"
      ]
     },
     "execution_count": 7,
     "metadata": {},
     "output_type": "execute_result"
    }
   ],
   "source": [
    "genparts[0]"
   ]
  },
  {
   "cell_type": "code",
   "execution_count": 8,
   "metadata": {},
   "outputs": [],
   "source": [
    "t_last = genparts[genparts.PID == 6][:,-1]"
   ]
  },
  {
   "cell_type": "code",
   "execution_count": 9,
   "metadata": {},
   "outputs": [
    {
     "data": {
      "text/plain": [
       "<Array [62, 62, 62, 62, 62, ... 62, 62, 62, 62] type='1306 * int32[parameters={\"...'>"
      ]
     },
     "execution_count": 9,
     "metadata": {},
     "output_type": "execute_result"
    }
   ],
   "source": [
    "t_last.Status"
   ]
  },
  {
   "cell_type": "code",
   "execution_count": 10,
   "metadata": {},
   "outputs": [
    {
     "data": {
      "text/plain": [
       "<Array [[5], [5], [5], ... [5], [5], [5]] type='1306 * var * int32[parameters={\"...'>"
      ]
     },
     "execution_count": 10,
     "metadata": {},
     "output_type": "execute_result"
    }
   ],
   "source": [
    "genparts[ak.singletons(t_last.D2)].PID"
   ]
  },
  {
   "cell_type": "code",
   "execution_count": 11,
   "metadata": {},
   "outputs": [
    {
     "data": {
      "text/plain": [
       "<Array [[22], [22], [22], ... [22], [22], [22]] type='1306 * var * int32[paramet...'>"
      ]
     },
     "execution_count": 11,
     "metadata": {},
     "output_type": "execute_result"
    }
   ],
   "source": [
    "genparts[ak.singletons(t_last.D1)].Status"
   ]
  },
  {
   "cell_type": "code",
   "execution_count": 12,
   "metadata": {},
   "outputs": [
    {
     "data": {
      "text/plain": [
       "<Array [[390], [717], ... [470], [795]] type='1306 * var * int32[parameters={\"__...'>"
      ]
     },
     "execution_count": 12,
     "metadata": {},
     "output_type": "execute_result"
    }
   ],
   "source": [
    "ak.singletons(t_last.D1)"
   ]
  },
  {
   "cell_type": "code",
   "execution_count": 13,
   "metadata": {},
   "outputs": [],
   "source": [
    "W1 = genparts[ak.singletons(t_last.D1)].D1"
   ]
  },
  {
   "cell_type": "code",
   "execution_count": 14,
   "metadata": {},
   "outputs": [
    {
     "data": {
      "text/plain": [
       "<Array [[52], [52], [52], ... [52], [52], [52]] type='1306 * var * int32[paramet...'>"
      ]
     },
     "execution_count": 14,
     "metadata": {},
     "output_type": "execute_result"
    }
   ],
   "source": [
    "genparts[W1].Status"
   ]
  },
  {
   "cell_type": "code",
   "execution_count": 15,
   "metadata": {},
   "outputs": [],
   "source": [
    "W11 = genparts[W1].D1"
   ]
  },
  {
   "cell_type": "code",
   "execution_count": 16,
   "metadata": {},
   "outputs": [
    {
     "data": {
      "text/plain": [
       "<Array [[-11], [24], [4], ... 2], [-13], [-11]] type='1306 * var * int32[paramet...'>"
      ]
     },
     "execution_count": 16,
     "metadata": {},
     "output_type": "execute_result"
    }
   ],
   "source": [
    "genparts[W11].PID"
   ]
  },
  {
   "cell_type": "code",
   "execution_count": 17,
   "metadata": {},
   "outputs": [
    {
     "data": {
      "text/plain": [
       "<Array [[23], [51], [23], ... [23], [1], [1]] type='1306 * var * int32[parameter...'>"
      ]
     },
     "execution_count": 17,
     "metadata": {},
     "output_type": "execute_result"
    }
   ],
   "source": [
    "genparts[W11].Status"
   ]
  },
  {
   "cell_type": "code",
   "execution_count": 18,
   "metadata": {},
   "outputs": [
    {
     "data": {
      "text/plain": [
       "<Array [[-0.0318], [-1.73, ... 0.443], [0.741]] type='1306 * var * float32[param...'>"
      ]
     },
     "execution_count": 18,
     "metadata": {},
     "output_type": "execute_result"
    }
   ],
   "source": [
    "genparts[W11].Eta"
   ]
  },
  {
   "cell_type": "code",
   "execution_count": 19,
   "metadata": {},
   "outputs": [],
   "source": [
    "W111 = genparts[W11].D1"
   ]
  },
  {
   "cell_type": "code",
   "execution_count": 20,
   "metadata": {},
   "outputs": [
    {
     "data": {
      "text/plain": [
       "<Array [[-11], [-13], [4, ... 2], [22], [-211]] type='1306 * var * int32[paramet...'>"
      ]
     },
     "execution_count": 20,
     "metadata": {},
     "output_type": "execute_result"
    }
   ],
   "source": [
    "genparts[W111].PID"
   ]
  },
  {
   "cell_type": "code",
   "execution_count": 21,
   "metadata": {},
   "outputs": [
    {
     "data": {
      "text/plain": [
       "<Array [[1], [1], [51], ... [52], [1], [1]] type='1306 * var * int32[parameters=...'>"
      ]
     },
     "execution_count": 21,
     "metadata": {},
     "output_type": "execute_result"
    }
   ],
   "source": [
    "genparts[W111].Status"
   ]
  },
  {
   "cell_type": "code",
   "execution_count": 22,
   "metadata": {},
   "outputs": [
    {
     "data": {
      "text/plain": [
       "<Array [[-0.0317], [-1.84, ... -0.516], [1.15]] type='1306 * var * float32[param...'>"
      ]
     },
     "execution_count": 22,
     "metadata": {},
     "output_type": "execute_result"
    }
   ],
   "source": [
    "genparts[W111].Eta"
   ]
  },
  {
   "cell_type": "code",
   "execution_count": 23,
   "metadata": {},
   "outputs": [],
   "source": [
    "W1111 = genparts[W111].D1"
   ]
  },
  {
   "cell_type": "code",
   "execution_count": 24,
   "metadata": {},
   "outputs": [
    {
     "data": {
      "text/plain": [
       "<Array [[1], [1], [52], ... [51], [1], [1]] type='1306 * var * int32[parameters=...'>"
      ]
     },
     "execution_count": 24,
     "metadata": {},
     "output_type": "execute_result"
    }
   ],
   "source": [
    "genparts[W1111].Status"
   ]
  },
  {
   "cell_type": "code",
   "execution_count": 25,
   "metadata": {},
   "outputs": [
    {
     "data": {
      "text/plain": [
       "<Array [[22], [-211], [4, ... 2], [22], [-211]] type='1306 * var * int32[paramet...'>"
      ]
     },
     "execution_count": 25,
     "metadata": {},
     "output_type": "execute_result"
    }
   ],
   "source": [
    "genparts[W1111].PID"
   ]
  },
  {
   "cell_type": "code",
   "execution_count": 26,
   "metadata": {},
   "outputs": [
    {
     "data": {
      "text/plain": [
       "<Array [[-0.797], [-1.61], ... -0.516], [1.15]] type='1306 * var * float32[param...'>"
      ]
     },
     "execution_count": 26,
     "metadata": {},
     "output_type": "execute_result"
    }
   ],
   "source": [
    "genparts[W1111].Eta"
   ]
  },
  {
   "cell_type": "code",
   "execution_count": null,
   "metadata": {},
   "outputs": [
    {
     "name": "stdout",
     "output_type": "stream",
     "text": [
      "[0, 0, 0, 0, 0, 0, 0, 0, 0, 0, 0, 0, 0, 0, ... 0, 0, 0, 0, 0, 0, 0, 0, 0, 0, 0, 0, 0]\n"
     ]
    }
   ],
   "source": [
    "print(genparticles[\"Particle.IsPU\"].array()[0])"
   ]
  },
  {
   "cell_type": "code",
   "execution_count": null,
   "metadata": {},
   "outputs": [
    {
     "name": "stdout",
     "output_type": "stream",
     "text": [
      "[3, 18, 3, 9, 10, 11, 0, 25, 2, 15, 16, ... -1, -1, -1, -1, -1, -1, -1, -1, -1, -1]\n"
     ]
    }
   ],
   "source": [
    "print(genparticles[\"Particle.D1\"].array()[0])"
   ]
  },
  {
   "cell_type": "code",
   "execution_count": null,
   "metadata": {},
   "outputs": [
    {
     "name": "stdout",
     "output_type": "stream",
     "text": [
      "[5, 18, 5, 9, 10, 11, 1, 25, 2, 15, 16, ... -1, -1, -1, -1, -1, -1, -1, -1, -1, -1]\n"
     ]
    }
   ],
   "source": [
    "print(genparticles[\"Particle.D2\"].array()[0])"
   ]
  },
  {
   "cell_type": "code",
   "execution_count": null,
   "metadata": {},
   "outputs": [
    {
     "name": "stdout",
     "output_type": "stream",
     "text": [
      "[21, 21, 2, 6, -6, 2, 21, 21, 2, 6, ... 211, -211, -321, 211, 211, 22, 22, 22, 22]\n"
     ]
    }
   ],
   "source": [
    "print(genparticles[\"Particle.PID\"].array()[0])"
   ]
  },
  {
   "cell_type": "code",
   "execution_count": null,
   "metadata": {},
   "outputs": [
    {
     "name": "stdout",
     "output_type": "stream",
     "text": [
      "[6, 6, 8, 0, 0, 0, 12, 12, 13, ... 2887, 2896, 2896, 2896, 2897, 2897, 2899, 2899]\n"
     ]
    }
   ],
   "source": [
    "print(genparticles[\"Particle.M1\"].array()[0])"
   ]
  },
  {
   "cell_type": "code",
   "execution_count": null,
   "metadata": {},
   "outputs": [
    {
     "name": "stdout",
     "output_type": "stream",
     "text": [
      "[-1, -1, -1, 2, 2, 2, -1, -1, -1, -1, -1, ... -1, -1, -1, -1, -1, -1, -1, -1, -1, -1]\n"
     ]
    }
   ],
   "source": [
    "print(genparticles[\"Particle.M2\"].array()[0])"
   ]
  },
  {
   "cell_type": "code",
   "execution_count": null,
   "metadata": {},
   "outputs": [],
   "source": [
    "### final W\n",
    "W_stable = genparts[(genparts.PID == 24)][:,-1]"
   ]
  },
  {
   "cell_type": "code",
   "execution_count": null,
   "metadata": {},
   "outputs": [
    {
     "name": "stdout",
     "output_type": "stream",
     "text": [
      "[[-11], [-13], [4], [-11], [-13], [-13], [2, ... [4], [2], [4], [2], [-13], [-11]]\n"
     ]
    }
   ],
   "source": [
    "print(genparts[ak.singletons(W_stable.D1)].PID)"
   ]
  },
  {
   "cell_type": "code",
   "execution_count": null,
   "metadata": {},
   "outputs": [
    {
     "name": "stdout",
     "output_type": "stream",
     "text": [
      "[[12], [14], [-3], [12], [14], [14], [-1, ... [-3], [-1], [-3], [-3], [14], [12]]\n"
     ]
    }
   ],
   "source": [
    "print(genparts[ak.singletons(W_stable.D2)].PID)"
   ]
  },
  {
   "cell_type": "code",
   "execution_count": null,
   "metadata": {},
   "outputs": [],
   "source": [
    "W_minus_stable = genparts[(genparts.PID == -24)][:,-1]"
   ]
  },
  {
   "cell_type": "code",
   "execution_count": null,
   "metadata": {},
   "outputs": [
    {
     "name": "stdout",
     "output_type": "stream",
     "text": [
      "[[3], [3], [11], [1], [3], [3], [13], ... [1], [13], [13], [11], [13], [3], [1]]\n"
     ]
    }
   ],
   "source": [
    "print(genparts[ak.singletons(W_minus_stable.D1)].PID)"
   ]
  },
  {
   "cell_type": "code",
   "execution_count": null,
   "metadata": {},
   "outputs": [
    {
     "name": "stdout",
     "output_type": "stream",
     "text": [
      "[[-4], [-4], [-12], [-2], [-4], [-4], ... [-14], [-14], [-12], [-14], [-4], [-2]]\n"
     ]
    }
   ],
   "source": [
    "print(genparts[ak.singletons(W_minus_stable.D2)].PID)"
   ]
  },
  {
   "cell_type": "markdown",
   "metadata": {},
   "source": [
    "### find the 2 quarks information"
   ]
  },
  {
   "cell_type": "code",
   "execution_count": null,
   "metadata": {},
   "outputs": [],
   "source": [
    "W_plus = genparts[(genparts.PID == 24)][:,-1]"
   ]
  },
  {
   "cell_type": "code",
   "execution_count": null,
   "metadata": {},
   "outputs": [
    {
     "data": {
      "text/plain": [
       "<Array [52, 51, 52, 52, 52, ... 52, 52, 52, 52] type='1306 * int32[parameters={\"...'>"
      ]
     },
     "execution_count": 176,
     "metadata": {},
     "output_type": "execute_result"
    }
   ],
   "source": [
    "W_plus.Status"
   ]
  },
  {
   "cell_type": "code",
   "execution_count": null,
   "metadata": {},
   "outputs": [],
   "source": [
    "W_minus = genparts[(genparts.PID == -24)][:,-1]"
   ]
  },
  {
   "cell_type": "code",
   "execution_count": null,
   "metadata": {},
   "outputs": [
    {
     "data": {
      "text/plain": [
       "<Array [52, 22, 22, 51, 22, ... 52, 52, 52, 52] type='1306 * int32[parameters={\"...'>"
      ]
     },
     "execution_count": 177,
     "metadata": {},
     "output_type": "execute_result"
    }
   ],
   "source": [
    "W_minus.Status"
   ]
  },
  {
   "cell_type": "code",
   "execution_count": null,
   "metadata": {},
   "outputs": [],
   "source": [
    "skim_vars = {\n",
    "    \"eta\": \"Eta\",\n",
    "    \"phi\": \"Phi\",\n",
    "    \"mass\": \"Mass\",\n",
    "    \"pt\": \"Pt\",\n",
    "}"
   ]
  },
  {
   "cell_type": "code",
   "execution_count": 9,
   "metadata": {},
   "outputs": [],
   "source": [
    "events = files[\"TTbar_semilep\"]\n"
   ]
  },
  {
   "cell_type": "code",
   "execution_count": null,
   "metadata": {},
   "outputs": [],
   "source": [
    "fatjets = events.JetPUPPIAK8"
   ]
  },
  {
   "cell_type": "markdown",
   "metadata": {},
   "source": [
    "#### let's see the #AK8 jets distribution"
   ]
  },
  {
   "cell_type": "code",
   "execution_count": 104,
   "metadata": {},
   "outputs": [
    {
     "name": "stderr",
     "output_type": "stream",
     "text": [
      "/tmp/ipykernel_1187833/2991423531.py:44: RuntimeWarning: invalid value encountered in true_divide\n",
      "  number = h**2 / var\n",
      "/tmp/ipykernel_1187833/2991423531.py:61: RuntimeWarning: invalid value encountered in true_divide\n",
      "  up_error_bar *= var/h\n",
      "/tmp/ipykernel_1187833/2991423531.py:62: RuntimeWarning: invalid value encountered in true_divide\n",
      "  down_error_bar *= var/h\n",
      "/tmp/ipykernel_1187833/2991423531.py:44: RuntimeWarning: invalid value encountered in true_divide\n",
      "  number = h**2 / var\n",
      "/tmp/ipykernel_1187833/2991423531.py:61: RuntimeWarning: invalid value encountered in true_divide\n",
      "  up_error_bar *= var/h\n",
      "/tmp/ipykernel_1187833/2991423531.py:62: RuntimeWarning: invalid value encountered in true_divide\n",
      "  down_error_bar *= var/h\n"
     ]
    },
    {
     "data": {
      "image/png": "[encoded data removed]",
      "text/plain": [
       "<Figure size 1200x1400 with 1 Axes>"
      ]
     },
     "metadata": {},
     "output_type": "display_data"
    },
    {
     "data": {
      "image/png": "[encoded data removed]",
      "text/plain": [
       "<Figure size 1200x1400 with 1 Axes>"
      ]
     },
     "metadata": {},
     "output_type": "display_data"
    }
   ],
   "source": [
    "def plot_NAK8(jets, n_min, n_max, nbins, sample , jet_type):\n",
    "    f = plt.figure(figsize=(12,14))\n",
    "    ax = f.add_subplot(1, 1, 1)\n",
    "    hist_region = bh.Histogram(bh.axis.Regular(nbins, n_min, n_max), storage=bh.storage.Weight())\n",
    "    hist_region.fill(ak.num(jets.Eta, axis = 1))\n",
    "    hist_value_up = flow(hist_region)[0]\n",
    "    hist_var_up   = flow(hist_region)[1]\n",
    "    err_up = np.nan_to_num(error_bar(hist_value_up, hist_var_up, type = \"mc\"), nan = 0)\n",
    "    hep.histplot(hist_value_up, bins=hist_region.axes[0].edges, yerr=err_up, label=sample, histtype='step', stack=False, linewidth=2, ax=ax, color = \"red\")\n",
    "    ax.set_xlabel(f\"Number of {jet_type}\")\n",
    "    ax.set_ylabel(\"Events\")\n",
    "    ax.set_yscale('log') \n",
    "    ax.legend(loc=\"upper right\", ncol=1, frameon=False, fontsize=22)\n",
    "    # plt.text(0.05,0.83,region + \",\" + files_str,fontsize=24, color=\"black\", ha='left',transform=ax.transAxes)\n",
    "    plt.savefig(f\"{plot_dir}/NAK8.pdf\", bbox_inches='tight')    \n",
    "\n",
    "plot_NAK8(events.JetPUPPIAK8,0,7,7,\"TTbar_semilep\", \"JetPUPPIAK8\")\n",
    "plot_NAK8(events.Jet,0,20,20,\"TTbar_semilep\",\"Jet\")"
   ]
  },
  {
   "cell_type": "markdown",
   "metadata": {},
   "source": [
    "### jet matching"
   ]
  },
  {
   "cell_type": "code",
   "execution_count": 8,
   "metadata": {},
   "outputs": [],
   "source": [
    "d_PDGID = 1\n",
    "u_PDGID = 2\n",
    "s_PDGID = 3\n",
    "b_PDGID = 5\n",
    "c_PDGID = 4\n",
    "TOP_PDGID = 6\n",
    "\n",
    "g_PDGID = 21\n",
    "\n",
    "ELE_PDGID = 11\n",
    "vELE_PDGID = 12\n",
    "MU_PDGID = 13\n",
    "vMU_PDGID = 14\n",
    "TAU_PDGID = 15\n",
    "vTAU_PDGID = 16\n",
    "\n",
    "Z_PDGID = 23\n",
    "W_PDGID = 24\n",
    "H_PDGID = 25"
   ]
  },
  {
   "cell_type": "code",
   "execution_count": 32,
   "metadata": {},
   "outputs": [],
   "source": [
    "# finding the two gen tops\n",
    "\n",
    "tops = events.Particle[\n",
    "    (abs(events.Particle.PID) == TOP_PDGID) * (events.Particle.Status == 62)\n",
    "]"
   ]
  },
  {
   "cell_type": "code",
   "execution_count": 33,
   "metadata": {},
   "outputs": [],
   "source": [
    "deltaR = 0.8"
   ]
  },
  {
   "cell_type": "code",
   "execution_count": 6,
   "metadata": {},
   "outputs": [],
   "source": [
    "# find the last W index\n",
    "\n",
    "def find_last_position(arr, value):\n",
    "    mask = (arr == value)\n",
    "    reversed_mask = mask[:, ::-1]\n",
    "    reversed_positions = ak.argmax(reversed_mask, axis=1)\n",
    "    lengths = ak.num(arr, axis=1)\n",
    "    positions = lengths - 1 - reversed_positions\n",
    "    return positions\n",
    "\n"
   ]
  },
  {
   "cell_type": "code",
   "execution_count": 10,
   "metadata": {},
   "outputs": [
    {
     "data": {
      "text/plain": [
       "<Array [659, 894, 613, 1365, ... 384, 779, 677] type='14678 * ?int64'>"
      ]
     },
     "execution_count": 10,
     "metadata": {},
     "output_type": "execute_result"
    }
   ],
   "source": [
    "pos_w_plus = find_last_position(events.Particle.PID, 24)\n",
    "pos_w_plus"
   ]
  },
  {
   "cell_type": "code",
   "execution_count": 11,
   "metadata": {},
   "outputs": [
    {
     "data": {
      "text/plain": [
       "<Array [647, 875, 611, 1360, ... 392, 784, 691] type='14678 * ?int64'>"
      ]
     },
     "execution_count": 11,
     "metadata": {},
     "output_type": "execute_result"
    }
   ],
   "source": [
    "pos_w_minus = find_last_position(events.Particle.PID, -24)\n",
    "pos_w_minus"
   ]
  },
  {
   "cell_type": "code",
   "execution_count": 13,
   "metadata": {},
   "outputs": [],
   "source": [
    "#last copy W position\n",
    "w_index_array = ak.Array(ak.Array([pos_w_plus, pos_w_minus]).to_numpy().T)"
   ]
  },
  {
   "cell_type": "code",
   "execution_count": 14,
   "metadata": {},
   "outputs": [],
   "source": [
    "# collect last copy W\n",
    "ws = events.Particle[ak.Array([range(len(events.Particle))]).to_numpy().T, w_index_array.to_numpy()]"
   ]
  },
  {
   "cell_type": "code",
   "execution_count": 16,
   "metadata": {},
   "outputs": [],
   "source": [
    "# define hadronic decay W\n",
    "had_w_sel = (abs(events.Particle[ak.Array([range(len(events.Particle))]).to_numpy().T, ws.D1.to_numpy()].PID) <= 5)"
   ]
  },
  {
   "cell_type": "code",
   "execution_count": 20,
   "metadata": {},
   "outputs": [
    {
     "data": {
      "text/plain": [
       "5"
      ]
     },
     "execution_count": 20,
     "metadata": {},
     "output_type": "execute_result"
    }
   ],
   "source": [
    "#quick test how many Wcb events\n",
    "w_minus = events.Particle[(events.Particle.PID == -24)][:,-1]\n",
    "ak.sum( (abs(events.Particle[ak.singletons(w_minus.D1)].PID) == 5) & (abs(events.Particle[ak.singletons(w_minus.D2)].PID) == 4 )) "
   ]
  },
  {
   "cell_type": "code",
   "execution_count": 22,
   "metadata": {},
   "outputs": [],
   "source": [
    "# collect all hadronic decay W in all events\n",
    "had_ws = ws[had_w_sel]"
   ]
  },
  {
   "cell_type": "code",
   "execution_count": null,
   "metadata": {},
   "outputs": [],
   "source": []
  },
  {
   "cell_type": "code",
   "execution_count": null,
   "metadata": {},
   "outputs": [],
   "source": [
    "#only test leading JetPUPPIAK8 jet matching situations, anyway, we will use one AK8 jets in the end\n",
    "\n",
    "num_jets = 1\n",
    "leading_fatjets = ak.pad_none(events.JetPUPPIAK8, num_jets, axis=1)[:, :num_jets]"
   ]
  },
  {
   "cell_type": "code",
   "execution_count": null,
   "metadata": {},
   "outputs": [
    {
     "data": {
      "text/plain": [
       "1"
      ]
     },
     "execution_count": 165,
     "metadata": {},
     "output_type": "execute_result"
    }
   ],
   "source": [
    "ak.max(ak.num(leading_fatjets.Eta, axis = 1))"
   ]
  },
  {
   "cell_type": "code",
   "execution_count": null,
   "metadata": {},
   "outputs": [],
   "source": [
    "ws = ak.flatten(tops_children[np.abs(tops_children.pdgId) == W_PDGID], axis=2)"
   ]
  },
  {
   "cell_type": "markdown",
   "metadata": {},
   "source": [
    "### delphes examples"
   ]
  },
  {
   "cell_type": "code",
   "execution_count": null,
   "metadata": {},
   "outputs": [
    {
     "ename": "AttributeError",
     "evalue": "Failed to get attribute ExRootTreeReader from ROOT",
     "output_type": "error",
     "traceback": [
      "\u001b[0;31m---------------------------------------------------------------------------\u001b[0m",
      "\u001b[0;31mAttributeError\u001b[0m                            Traceback (most recent call last)",
      "\u001b[1;32m/home/pku/zhaoyz/pheno/analysis/gen_matching.ipynb Cell 15\u001b[0m line \u001b[0;36m9\n\u001b[1;32m     <a href='vscode-notebook-cell://ssh-remote%2Bfarm/home/pku/zhaoyz/pheno/analysis/gen_matching.ipynb#Y116sdnNjb2RlLXJlbW90ZQ%3D%3D?line=94'>95</a>\u001b[0m chain\u001b[39m.\u001b[39mAdd(inputFile)\n\u001b[1;32m     <a href='vscode-notebook-cell://ssh-remote%2Bfarm/home/pku/zhaoyz/pheno/analysis/gen_matching.ipynb#Y116sdnNjb2RlLXJlbW90ZQ%3D%3D?line=96'>97</a>\u001b[0m \u001b[39m# Create object of class ExRootTreeReader\u001b[39;00m\n\u001b[0;32m---> <a href='vscode-notebook-cell://ssh-remote%2Bfarm/home/pku/zhaoyz/pheno/analysis/gen_matching.ipynb#Y116sdnNjb2RlLXJlbW90ZQ%3D%3D?line=97'>98</a>\u001b[0m treeReader \u001b[39m=\u001b[39m ROOT\u001b[39m.\u001b[39;49mExRootTreeReader(chain)\n\u001b[1;32m     <a href='vscode-notebook-cell://ssh-remote%2Bfarm/home/pku/zhaoyz/pheno/analysis/gen_matching.ipynb#Y116sdnNjb2RlLXJlbW90ZQ%3D%3D?line=98'>99</a>\u001b[0m numberOfEntries \u001b[39m=\u001b[39m treeReader\u001b[39m.\u001b[39mGetEntries()\n\u001b[1;32m    <a href='vscode-notebook-cell://ssh-remote%2Bfarm/home/pku/zhaoyz/pheno/analysis/gen_matching.ipynb#Y116sdnNjb2RlLXJlbW90ZQ%3D%3D?line=100'>101</a>\u001b[0m \u001b[39m# Get pointers to branches used in this analysis\u001b[39;00m\n",
      "File \u001b[0;32m~/anaconda3/envs/HWW/lib/python3.8/site-packages/ROOT/_facade.py:196\u001b[0m, in \u001b[0;36mROOTFacade._fallback_getattr\u001b[0;34m(self, name)\u001b[0m\n\u001b[1;32m    194\u001b[0m     \u001b[39mif\u001b[39;00m res:\n\u001b[1;32m    195\u001b[0m         \u001b[39mreturn\u001b[39;00m res\n\u001b[0;32m--> 196\u001b[0m \u001b[39mraise\u001b[39;00m \u001b[39mAttributeError\u001b[39;00m(\u001b[39m\"\u001b[39m\u001b[39mFailed to get attribute \u001b[39m\u001b[39m{}\u001b[39;00m\u001b[39m from ROOT\u001b[39m\u001b[39m\"\u001b[39m\u001b[39m.\u001b[39mformat(name))\n",
      "\u001b[0;31mAttributeError\u001b[0m: Failed to get attribute ExRootTreeReader from ROOT"
     ]
    },
    {
     "name": "stderr",
     "output_type": "stream",
     "text": [
      "Error in <TUnixSystem::FindDynamicLibrary>: libDelphes[.so | .dll | .dylib | .sl | .dl | .a] does not exist in .:/data/pku/home/zhaoyz/anaconda3/envs/HWW/lib::/home/pku/zhaoyz/anaconda3/envs/HWW/lib:/home/pku/zhaoyz/anaconda3/envs/HWW/lib\n",
      "input_line_60:1:10: fatal error: 'classes/DelphesClasses.h' file not found\n",
      "#include \"classes/DelphesClasses.h\"\n",
      "         ^~~~~~~~~~~~~~~~~~~~~~~~~~\n",
      "input_line_61:1:10: fatal error: 'external/ExRootAnalysis/ExRootTreeReader.h' file not found\n",
      "#include \"external/ExRootAnalysis/ExRootTreeReader.h\"\n",
      "         ^~~~~~~~~~~~~~~~~~~~~~~~~~~~~~~~~~~~~~~~~~~~\n"
     ]
    }
   ],
   "source": [
    "#!/usr/bin/env python\n",
    "import sys\n",
    "import ROOT, math\n",
    "from collections import OrderedDict\n",
    "from ROOT import TLorentzVector\n",
    "import array\n",
    "\n",
    "\n",
    "# _______________________________________________________________________________\n",
    "def print_part(p, all_particles, basespace):\n",
    "    print(\n",
    "        \"{}i: {}, PID: {}, Q: {}, Status: {}, E: {:.2e}, Eta: {:.2e}, Phi: {:.2e}, X: {:.2e}, Y: {:.2e}, Z: {:.2e}, D1: {}, D2: {}\".format(\n",
    "            basespace,\n",
    "            all_particles.index(p),\n",
    "            p.PID,\n",
    "            p.Charge,\n",
    "            p.Status,\n",
    "            p.E,\n",
    "            p.Eta,\n",
    "            p.Phi,\n",
    "            p.X,\n",
    "            p.Y,\n",
    "            p.Z,\n",
    "            p.D1,\n",
    "            p.D2,\n",
    "        )\n",
    "    )\n",
    "\n",
    "\n",
    "# _______________________________________________________________________________\n",
    "def print_descendence(particle, all_particles, basespace, list_indexed):\n",
    "\n",
    "    print_part(particle, all_particles, basespace)\n",
    "    d1 = particle.D1\n",
    "    d2 = particle.D2\n",
    "\n",
    "    position = all_particles.index(particle)\n",
    "\n",
    "    # exit recursion if particle already treated\n",
    "    if position in list_indexed:\n",
    "        # print(\"{} particle descendence already studied\".format(position))\n",
    "        return\n",
    "\n",
    "    list_indexed.append(position)\n",
    "\n",
    "    basespace += \"-- \"\n",
    "\n",
    "    drange = []\n",
    "    maxd = max(d1, d2)\n",
    "    mind = min(d1, d2)\n",
    "\n",
    "    if maxd < 0:\n",
    "        # stable particle\n",
    "        drange = []\n",
    "    elif mind < 0:\n",
    "        drange = [maxd]\n",
    "    elif d1 > d2:\n",
    "        drange = [d1, d2]\n",
    "    else:\n",
    "        drange = range(mind, maxd + 1)\n",
    "\n",
    "    # exit recursion if particle is stable\n",
    "    if len(drange) == 0:\n",
    "        # print(\"{} reached stable particle\".format(basespace))\n",
    "        return\n",
    "\n",
    "    # this particle was not treated and is unstable\n",
    "    else:\n",
    "        for i in drange:\n",
    "            part = all_particles[i]\n",
    "            print_descendence(part, all_particles, basespace, list_indexed)\n",
    "\n",
    "\n",
    "# _______________________________________________________________________________\n",
    "# if len(sys.argv) < 2:\n",
    "#     print(\" Usage: Example1.py input_file\")\n",
    "#     sys.exit(1)\n",
    "\n",
    "ROOT.gSystem.Load(\"libDelphes\")\n",
    "\n",
    "try:\n",
    "    ROOT.gInterpreter.Declare('#include \"classes/DelphesClasses.h\"')\n",
    "    ROOT.gInterpreter.Declare('#include \"external/ExRootAnalysis/ExRootTreeReader.h\"')\n",
    "except:\n",
    "    pass\n",
    "\n",
    "# inputFile = sys.argv[1]\n",
    "# outputFile = sys.argv[2]\n",
    "\n",
    "inputFile = \"/data/bond/zhaoyz/Pheno/ttbar_Wcb/TTbar_semilep/ttbar_delphes.root\"\n",
    "outputFile = \"test_out.root\"\n",
    "\n",
    "# Create chain of root trees\n",
    "chain = ROOT.TChain(\"Delphes\")\n",
    "chain.Add(inputFile)\n",
    "\n",
    "# Create object of class ExRootTreeReader\n",
    "treeReader = ROOT.ExRootTreeReader(chain)\n",
    "numberOfEntries = treeReader.GetEntries()\n",
    "\n",
    "# Get pointers to branches used in this analysis\n",
    "\n",
    "branchParticle = treeReader.UseBranch(\"Particle\")\n",
    "\n",
    "debug = True\n",
    "if debug:\n",
    "    numberOfEntries = 10\n",
    "\n",
    "\n",
    "# Loop over all events\n",
    "for entry in range(0, numberOfEntries):\n",
    "    # for entry in range(0, 1000):\n",
    "    # Load selected branches with data from specified event\n",
    "    treeReader.ReadEntry(entry)\n",
    "\n",
    "    if (entry + 1) % 100 == 0:\n",
    "        print(\" ... processed {} events ...\".format(entry + 1))\n",
    "    i = -1\n",
    "\n",
    "    if debug:\n",
    "        print(\n",
    "            \"---------------------------------------------------------------------------------------\"\n",
    "        )\n",
    "        print(\"\")\n",
    "\n",
    "    ###  first produce 3 lists: higgs daughters stable, z daughters stables, all stable particles\n",
    "    list_indexed = []\n",
    "    for gen in branchParticle:\n",
    "        i += 1\n",
    "\n",
    "        \"\"\"\n",
    "        if debug:\n",
    "            print(\n",
    "                \"N: \",\n",
    "                i,\n",
    "                \", St: \",\n",
    "                gen.Status,\n",
    "                \", PID: \",\n",
    "                gen.PID,\n",
    "                \", E: \",\n",
    "                gen.E,\n",
    "                \", PT: \",\n",
    "                gen.PT,\n",
    "                \", Eta: \",\n",
    "                gen.Eta,\n",
    "                \", M: \",\n",
    "                gen.Mass,\n",
    "                \", M1: \",\n",
    "                gen.M1,\n",
    "                \", M2: \",\n",
    "                gen.M2,\n",
    "                \", D1: \",\n",
    "                gen.D1,\n",
    "                \", D2: \",\n",
    "                gen.D2,\n",
    "            )\n",
    "        \"\"\"\n",
    "        basespace = \"\"\n",
    "        if i not in list_indexed:\n",
    "            print_descendence(gen, branchParticle, basespace, list_indexed)\n",
    "\n",
    "# Show resulting histograms\n",
    "out_root = ROOT.TFile(outputFile, \"RECREATE\")"
   ]
  },
  {
   "cell_type": "code",
   "execution_count": null,
   "metadata": {},
   "outputs": [],
   "source": []
  },
  {
   "cell_type": "markdown",
   "metadata": {},
   "source": [
    "### find hadronic W's daughters"
   ]
  },
  {
   "cell_type": "code",
   "execution_count": null,
   "metadata": {},
   "outputs": [
    {
     "name": "stdout",
     "output_type": "stream",
     "text": [
      "Event 0:\n",
      "Event 1:\n",
      "Event 2:\n",
      "Event 3:\n",
      "Event 4:\n",
      "Event 5:\n",
      "Event 6:\n"
     ]
    },
    {
     "ename": "KeyboardInterrupt",
     "evalue": "",
     "output_type": "error",
     "traceback": [
      "\u001b[0;31m---------------------------------------------------------------------------\u001b[0m",
      "\u001b[0;31mKeyboardInterrupt\u001b[0m                         Traceback (most recent call last)",
      "\u001b[1;32m/home/pku/zhaoyz/pheno/analysis/gen_matching.ipynb Cell 11\u001b[0m line \u001b[0;36m3\n\u001b[1;32m     <a href='vscode-notebook-cell://ssh-remote%2Bfarm/home/pku/zhaoyz/pheno/analysis/gen_matching.ipynb#Y105sdnNjb2RlLXJlbW90ZQ%3D%3D?line=33'>34</a>\u001b[0m \u001b[39mprint\u001b[39m(\u001b[39mf\u001b[39m\u001b[39m\"\u001b[39m\u001b[39mEvent \u001b[39m\u001b[39m{\u001b[39;00mevent\u001b[39m}\u001b[39;00m\u001b[39m:\u001b[39m\u001b[39m\"\u001b[39m)\n\u001b[1;32m     <a href='vscode-notebook-cell://ssh-remote%2Bfarm/home/pku/zhaoyz/pheno/analysis/gen_matching.ipynb#Y105sdnNjb2RlLXJlbW90ZQ%3D%3D?line=34'>35</a>\u001b[0m \u001b[39mfor\u001b[39;00m i \u001b[39min\u001b[39;00m \u001b[39mrange\u001b[39m(\u001b[39mlen\u001b[39m(particle_pt[event])):\n\u001b[0;32m---> <a href='vscode-notebook-cell://ssh-remote%2Bfarm/home/pku/zhaoyz/pheno/analysis/gen_matching.ipynb#Y105sdnNjb2RlLXJlbW90ZQ%3D%3D?line=35'>36</a>\u001b[0m     pid \u001b[39m=\u001b[39m particle_pid[event][i]\n\u001b[1;32m     <a href='vscode-notebook-cell://ssh-remote%2Bfarm/home/pku/zhaoyz/pheno/analysis/gen_matching.ipynb#Y105sdnNjb2RlLXJlbW90ZQ%3D%3D?line=36'>37</a>\u001b[0m     status \u001b[39m=\u001b[39m particle_status[event][i]\n\u001b[1;32m     <a href='vscode-notebook-cell://ssh-remote%2Bfarm/home/pku/zhaoyz/pheno/analysis/gen_matching.ipynb#Y105sdnNjb2RlLXJlbW90ZQ%3D%3D?line=38'>39</a>\u001b[0m     \u001b[39m# 找到W强子衰变的粒子\u001b[39;00m\n",
      "File \u001b[0;32m~/anaconda3/envs/HWW/lib/python3.8/site-packages/awkward/highlevel.py:990\u001b[0m, in \u001b[0;36mArray.__getitem__\u001b[0;34m(self, where)\u001b[0m\n\u001b[1;32m    578\u001b[0m \u001b[39mdef\u001b[39;00m \u001b[39m__getitem__\u001b[39m(\u001b[39mself\u001b[39m, where):\n\u001b[1;32m    579\u001b[0m \u001b[39m    \u001b[39m\u001b[39m\"\"\"\u001b[39;00m\n\u001b[1;32m    580\u001b[0m \u001b[39m    Args:\u001b[39;00m\n\u001b[1;32m    581\u001b[0m \u001b[39m        where (many types supported; see below): Index of positions to\u001b[39;00m\n\u001b[0;32m   (...)\u001b[0m\n\u001b[1;32m    988\u001b[0m \u001b[39m    have the same dimension as the array being indexed.\u001b[39;00m\n\u001b[1;32m    989\u001b[0m \u001b[39m    \"\"\"\u001b[39;00m\n\u001b[0;32m--> 990\u001b[0m     \u001b[39mif\u001b[39;00m \u001b[39mnot\u001b[39;00m \u001b[39mhasattr\u001b[39;49m(\u001b[39mself\u001b[39;49m, \u001b[39m\"\u001b[39;49m\u001b[39m_tracers\u001b[39;49m\u001b[39m\"\u001b[39;49m):\n\u001b[1;32m    991\u001b[0m         tmp \u001b[39m=\u001b[39m ak\u001b[39m.\u001b[39m_util\u001b[39m.\u001b[39mwrap(\u001b[39mself\u001b[39m\u001b[39m.\u001b[39mlayout[where], \u001b[39mself\u001b[39m\u001b[39m.\u001b[39m_behavior)\n\u001b[1;32m    992\u001b[0m     \u001b[39melse\u001b[39;00m:\n",
      "File \u001b[0;32m~/anaconda3/envs/HWW/lib/python3.8/site-packages/awkward/highlevel.py:1110\u001b[0m, in \u001b[0;36mArray.__getattr__\u001b[0;34m(self, where)\u001b[0m\n\u001b[1;32m   1071\u001b[0m \u001b[39mdef\u001b[39;00m \u001b[39m__getattr__\u001b[39m(\u001b[39mself\u001b[39m, where):\n\u001b[1;32m   1072\u001b[0m \u001b[39m    \u001b[39m\u001b[39m\"\"\"\u001b[39;00m\n\u001b[1;32m   1073\u001b[0m \u001b[39m    Whenever possible, fields can be accessed as attributes.\u001b[39;00m\n\u001b[1;32m   1074\u001b[0m \n\u001b[0;32m   (...)\u001b[0m\n\u001b[1;32m   1108\u001b[0m \u001b[39m    to add a field.\u001b[39;00m\n\u001b[1;32m   1109\u001b[0m \u001b[39m    \"\"\"\u001b[39;00m\n\u001b[0;32m-> 1110\u001b[0m     \u001b[39mif\u001b[39;00m where \u001b[39min\u001b[39;00m \u001b[39mdir\u001b[39;49m(\u001b[39mtype\u001b[39;49m(\u001b[39mself\u001b[39;49m)):\n\u001b[1;32m   1111\u001b[0m         \u001b[39mreturn\u001b[39;00m \u001b[39msuper\u001b[39m()\u001b[39m.\u001b[39m\u001b[39m__getattribute__\u001b[39m(where)\n\u001b[1;32m   1112\u001b[0m     \u001b[39melse\u001b[39;00m:\n",
      "\u001b[0;31mKeyboardInterrupt\u001b[0m: "
     ]
    }
   ],
   "source": [
    "import uproot\n",
    "import awkward as ak\n",
    "\n",
    "# 打开Delphes生成的ROOT文件\n",
    "file = files[\"TTbar_semilep\"]\n",
    "\n",
    "# 提取生成粒子的树\n",
    "genparticles = file[\"Delphes\"][\"Particle\"]\n",
    "\n",
    "# 获取生成粒子的四动量和PID信息\n",
    "particle_pt = genparticles[\"Particle.PT\"].array()\n",
    "particle_eta = genparticles[\"Particle.Eta\"].array()\n",
    "particle_phi = genparticles[\"Particle.Phi\"].array()\n",
    "particle_mass = genparticles[\"Particle.Mass\"].array()\n",
    "particle_pid = genparticles[\"Particle.PID\"].array()\n",
    "particle_status = genparticles[\"Particle.Status\"].array()\n",
    "particle_mother1 = genparticles[\"Particle.M1\"].array()\n",
    "particle_mother2 = genparticles[\"Particle.M2\"].array()\n",
    "\n",
    "# W强子衰变的PID和top的PID\n",
    "W_HADRONIC_PID = 24\n",
    "TOP_PID = 6\n",
    "\n",
    "# 定义一个函数来查找给定粒子的子粒子\n",
    "def find_daughters(particle_index, mother_indices):\n",
    "    daughters = []\n",
    "    for i, (mother1_index, mother2_index) in enumerate(zip(mother_indices['Mother1'], mother_indices['Mother2'])):\n",
    "        if mother1_index == particle_index or mother2_index == particle_index:\n",
    "            daughters.append(i)\n",
    "    return daughters\n",
    "\n",
    "# 查找来自top衰变的W及其子粒子\n",
    "for event in range(len(particle_pt)):\n",
    "    print(f\"Event {event}:\")\n",
    "    for i in range(len(particle_pt[event])):\n",
    "        pid = particle_pid[event][i]\n",
    "        status = particle_status[event][i]\n",
    "        \n",
    "        # 找到W强子衰变的粒子\n",
    "        if abs(pid) == W_HADRONIC_PID and status == 2:  # 状态码2表示中间态\n",
    "            # 检查W的母粒子是否为top\n",
    "            mother1_index = particle_mother1[event][i]\n",
    "            mother2_index = particle_mother2[event][i]\n",
    "            if (mother1_index >= 0 and abs(particle_pid[event][mother1_index]) == TOP_PID) or \\\n",
    "               (mother2_index >= 0 and abs(particle_pid[event][mother2_index]) == TOP_PID):\n",
    "                \n",
    "                # 找到W的子粒子\n",
    "                daughters = find_daughters(i, {'Mother1': particle_mother1[event], 'Mother2': particle_mother2[event]})\n",
    "                if len(daughters) == 2:\n",
    "                    quark1_index = daughters[0]\n",
    "                    quark2_index = daughters[1]\n",
    "                    \n",
    "                    quark1_pt = particle_pt[event][quark1_index]\n",
    "                    quark1_eta = particle_eta[event][quark1_index]\n",
    "                    quark1_phi = particle_phi[event][quark1_index]\n",
    "                    quark1_mass = particle_mass[event][quark1_index]\n",
    "                    quark1_pid = particle_pid[event][quark1_index]\n",
    "                    \n",
    "                    quark2_pt = particle_pt[event][quark2_index]\n",
    "                    quark2_eta = particle_eta[event][quark2_index]\n",
    "                    quark2_phi = particle_phi[event][quark2_index]\n",
    "                    quark2_mass = particle_mass[event][quark2_index]\n",
    "                    quark2_pid = particle_pid[event][quark2_index]\n",
    "                    \n",
    "                    print(f\"  W hadronic decay from top found with daughters:\")\n",
    "                    print(f\"    Quark 1: PID = {quark1_pid}, PT = {quark1_pt}, Eta = {quark1_eta}, Phi = {quark1_phi}, Mass = {quark1_mass}\")\n",
    "                    print(f\"    Quark 2: PID = {quark2_pid}, PT = {quark2_pt}, Eta = {quark2_eta}, Phi = {quark2_phi}, Mass = {quark2_mass}\")\n",
    "                else:\n",
    "                    print(\"  W hadronic decay found but does not have exactly 2 daughters\")\n"
   ]
  },
  {
   "attachments": {},
   "cell_type": "markdown",
   "metadata": {},
   "source": [
    "### HHbbVV Pre-selection"
   ]
  },
  {
   "cell_type": "code",
   "execution_count": null,
   "metadata": {},
   "outputs": [],
   "source": [
    "def pad_val(\n",
    "    arr: ak.Array,\n",
    "    target: int,\n",
    "    value: float,\n",
    "    axis: int = 0,\n",
    "    to_numpy: bool = True,\n",
    "    clip: bool = True,\n",
    "):\n",
    "    \"\"\"\n",
    "    pads awkward array up to ``target`` index along axis ``axis`` with value ``value``,\n",
    "    optionally converts to numpy array\n",
    "    \"\"\"\n",
    "    ret = ak.fill_none(ak.pad_none(arr, target, axis=axis, clip=clip), value, axis=axis)\n",
    "    return ret.to_numpy() if to_numpy else ret\n",
    "\n",
    "\n",
    "def add_selection(\n",
    "    name: str,\n",
    "    sel: np.ndarray,\n",
    "    selection: PackedSelection,\n",
    "    cutflow: dict = None,\n",
    "    isData: bool = False,\n",
    "    signGenWeights: ak.Array = None,\n",
    "):\n",
    "    \"\"\"adds selection to PackedSelection object and the cutflow dictionary\"\"\"\n",
    "    selection.add(name, sel)\n",
    "    if cutflow is not None:\n",
    "        cutflow[name] = (\n",
    "            np.sum(selection.all(*selection.names))\n",
    "            if isData\n",
    "            # add up sign of genWeights for MC\n",
    "            else np.sum(signGenWeights[selection.all(*selection.names)])\n",
    "        )"
   ]
  },
  {
   "cell_type": "code",
   "execution_count": null,
   "metadata": {},
   "outputs": [],
   "source": [
    "isData = False\n",
    "signGenWeights = None if isData else np.sign(events[\"genWeight\"])\n",
    "n_events = len(events) if isData else int(np.sum(signGenWeights))\n",
    "selection = PackedSelection()\n",
    "\n",
    "cutflow = {}\n",
    "cutflow[\"all\"] = len(events)\n",
    "\n",
    "preselection_cut_vals = {\"pt\": 250, \"msd\": 20}\n",
    "num_jets = 2\n",
    "\n",
    "# fatjets = corrections.get_jec_jets(events, \"2018\")\n",
    "fatjets = events.FatJet\n",
    "\n",
    "preselection_cut = np.prod(\n",
    "    pad_val(\n",
    "        (events.FatJet.pt > preselection_cut_vals[\"pt\"])\n",
    "        * (events.FatJet.msoftdrop > preselection_cut_vals[\"msd\"]),\n",
    "        num_jets,\n",
    "        False,\n",
    "        axis=1,\n",
    "    ),\n",
    "    axis=1,\n",
    ")\n",
    "\n",
    "add_selection(\n",
    "    \"preselection\",\n",
    "    preselection_cut.astype(bool),\n",
    "    selection,\n",
    "    cutflow,\n",
    "    isData,\n",
    "    signGenWeights,\n",
    ")"
   ]
  },
  {
   "attachments": {},
   "cell_type": "markdown",
   "metadata": {},
   "source": [
    "### Gen Matching"
   ]
  },
  {
   "cell_type": "code",
   "execution_count": null,
   "metadata": {},
   "outputs": [],
   "source": [
    "d_PDGID = 1\n",
    "u_PDGID = 2\n",
    "s_PDGID = 3\n",
    "c_PDGID = 4\n",
    "b_PDGID = 5\n",
    "g_PDGID = 21\n",
    "TOP_PDGID = 6\n",
    "\n",
    "ELE_PDGID = 11\n",
    "vELE_PDGID = 12\n",
    "MU_PDGID = 13\n",
    "vMU_PDGID = 14\n",
    "TAU_PDGID = 15\n",
    "vTAU_PDGID = 16\n",
    "\n",
    "Z_PDGID = 23\n",
    "W_PDGID = 24\n",
    "HIGGS_PDGID = 25\n",
    "Y_PDGID = 35\n",
    "\n",
    "b_PDGIDS = [511, 521, 523]\n",
    "\n",
    "GRAV_PDGID = 39\n",
    "\n",
    "GEN_FLAGS = [\"fromHardProcess\", \"isLastCopy\"]\n",
    "\n",
    "FILL_NONE_VALUE = -99999\n",
    "PAD_VAL = -99999\n",
    "\n",
    "skim_vars = {\n",
    "    \"eta\": \"Eta\",\n",
    "    \"phi\": \"Phi\",\n",
    "    \"mass\": \"Mass\",\n",
    "    \"pt\": \"Pt\",\n",
    "}"
   ]
  },
  {
   "attachments": {},
   "cell_type": "markdown",
   "metadata": {},
   "source": [
    "Nonresonant"
   ]
  },
  {
   "cell_type": "code",
   "execution_count": null,
   "metadata": {},
   "outputs": [],
   "source": [
    "# finding the two gen higgs\n",
    "higgs = events.GenPart[\n",
    "    (abs(events.GenPart.pdgId) == HIGGS_PDGID) * events.GenPart.hasFlags(GEN_FLAGS)\n",
    "]\n",
    "\n",
    "# saving 4-vector info\n",
    "GenHiggsVars = {f\"GenHiggs{key}\": higgs[var].to_numpy() for (var, key) in skim_vars.items()}\n",
    "\n",
    "higgs_children = higgs.children\n",
    "\n",
    "# saving whether H->bb or H->VV\n",
    "GenHiggsVars[\"GenHiggsChildren\"] = abs(higgs_children.pdgId[:, :, 0]).to_numpy()\n",
    "\n",
    "# finding bb and VV children\n",
    "is_bb = abs(higgs_children.pdgId) == b_PDGID\n",
    "is_VV = (abs(higgs_children.pdgId) == W_PDGID) + (abs(higgs_children.pdgId) == Z_PDGID)\n",
    "\n",
    "Hbb = higgs[ak.sum(is_bb, axis=2) == 2]\n",
    "HVV = higgs[ak.sum(is_VV, axis=2) == 2]\n",
    "\n",
    "# checking that there are 2 b's and 2 V's\n",
    "has_bb = ak.sum(ak.flatten(is_bb, axis=2), axis=1) == 2\n",
    "has_VV = ak.sum(ak.flatten(is_VV, axis=2), axis=1) == 2\n",
    "\n",
    "# only select events with 2 b's and 2 V's\n",
    "add_selection(\"has_bbVV\", has_bb * has_VV, selection, cutflow, False, signGenWeights)\n",
    "\n",
    "# saving bb and VV 4-vector info\n",
    "bb = ak.flatten(higgs_children[is_bb], axis=2)\n",
    "VV = ak.flatten(higgs_children[is_VV], axis=2)\n",
    "\n",
    "# have to pad to 2 because of some 4V events\n",
    "GenbbVars = {\n",
    "    f\"Genbb{key}\": pad_val(bb[var], 2, FILL_NONE_VALUE, axis=1) for (var, key) in skim_vars.items()\n",
    "}\n",
    "\n",
    "# selecting only up to the 2nd index because of some 4V events\n",
    "# (doesn't matter which two are selected since these events will be excluded anyway)\n",
    "GenVVVars = {f\"GenVV{key}\": VV[var][:, :2].to_numpy() for (var, key) in skim_vars.items()}\n",
    "\n",
    "# checking that each V has 2 q children\n",
    "VV_children = VV.children\n",
    "\n",
    "quarks = abs(VV_children.pdgId) <= b_PDGID\n",
    "all_q = ak.all(ak.all(quarks, axis=2), axis=1)\n",
    "add_selection(\"all_q\", all_q, selection, cutflow, False, signGenWeights)\n",
    "\n",
    "V_has_2q = ak.count(VV_children.pdgId, axis=2) == 2\n",
    "has_4q = ak.values_astype(ak.prod(V_has_2q, axis=1), np.bool)\n",
    "add_selection(\"has_4q\", has_4q, selection, cutflow, False, signGenWeights)\n",
    "\n",
    "# saving 4q 4-vector info\n",
    "Gen4qVars = {\n",
    "    f\"Gen4q{key}\": ak.to_numpy(\n",
    "        ak.fill_none(\n",
    "            ak.pad_none(ak.pad_none(VV_children[var], 2, axis=1, clip=True), 2, axis=2, clip=True),\n",
    "            FILL_NONE_VALUE,\n",
    "        )\n",
    "    )\n",
    "    for (var, key) in skim_vars.items()\n",
    "}"
   ]
  },
  {
   "attachments": {},
   "cell_type": "markdown",
   "metadata": {},
   "source": [
    "Resonant"
   ]
  },
  {
   "cell_type": "code",
   "execution_count": null,
   "metadata": {},
   "outputs": [],
   "source": [
    "# gen higgs and kids\n",
    "higgs = events.GenPart[\n",
    "    (abs(events.GenPart.pdgId) == HIGGS_PDGID) * events.GenPart.hasFlags(GEN_FLAGS)\n",
    "]\n",
    "GenHiggsVars = {f\"GenHiggs{key}\": higgs[var].to_numpy() for (var, key) in skim_vars.items()}\n",
    "is_bb = abs(higgs.children.pdgId) == b_PDGID\n",
    "has_bb = ak.sum(ak.flatten(is_bb, axis=2), axis=1) == 2\n",
    "\n",
    "bb = ak.flatten(higgs.children[is_bb], axis=2)\n",
    "# GenbbVars = {f\"Genbb{key}\": pad_val(bb[var], 2, axis=1) for (var, key) in skim_vars.items()}\n",
    "\n",
    "# gen Y and kids\n",
    "Ys = events.GenPart[(abs(events.GenPart.pdgId) == Y_PDGID) * events.GenPart.hasFlags(GEN_FLAGS)]\n",
    "GenYVars = {f\"GenY{key}\": Ys[var].to_numpy() for (var, key) in skim_vars.items()}\n",
    "is_VV = (abs(Ys.children.pdgId) == W_PDGID) + (abs(Ys.children.pdgId) == Z_PDGID)\n",
    "has_VV = ak.sum(ak.flatten(is_VV, axis=2), axis=1) == 2\n",
    "\n",
    "add_selection(\"has_bbVV\", has_bb * has_VV, selection, cutflow, False, signGenWeights)\n",
    "\n",
    "VV = ak.flatten(Ys.children[is_VV], axis=2)\n",
    "# GenVVVars = {f\"GenVV{key}\": VV[var][:, :2].to_numpy() for (var, key) in skim_vars.items()}\n",
    "\n",
    "VV_children = VV.children\n",
    "quarks = abs(VV_children.pdgId) <= b_PDGID\n",
    "all_q = ak.all(ak.all(quarks, axis=2), axis=1)\n",
    "add_selection(\"all_q\", all_q, selection, cutflow, False, signGenWeights)\n",
    "\n",
    "V_has_2q = ak.count(VV_children.pdgId, axis=2) == 2\n",
    "has_4q = ak.values_astype(ak.prod(V_has_2q, axis=1), bool)\n",
    "add_selection(\"has_4q\", has_4q, selection, cutflow, False, signGenWeights)\n",
    "\n",
    "# Gen4qVars = {\n",
    "#     f\"Gen4q{key}\": ak.to_numpy(\n",
    "#         ak.fill_none(\n",
    "#             ak.pad_none(\n",
    "#                 ak.pad_none(VV_children[var], 2, axis=1, clip=True), 2, axis=2, clip=True\n",
    "#             ),\n",
    "#             PAD_VAL,\n",
    "#         )\n",
    "#     )\n",
    "#     for (var, key) in skim_vars.items()\n",
    "# }\n",
    "\n",
    "# fatjet gen matching\n",
    "Hbb = ak.pad_none(higgs, 1, axis=1, clip=True)[:, 0]\n",
    "HVV = ak.pad_none(Ys, 1, axis=1, clip=True)[:, 0]\n",
    "\n",
    "bbdr = fatjets[:, :2].delta_r(Hbb)\n",
    "vvdr = fatjets[:, :2].delta_r(HVV)\n",
    "\n",
    "match_dR = 0.8\n",
    "Hbb_match = bbdr <= match_dR\n",
    "HVV_match = vvdr <= match_dR\n",
    "\n",
    "# overlap removal - in the case where fatjet is matched to both, match it only to the closest Higgs\n",
    "Hbb_match = (Hbb_match * ~HVV_match) + (bbdr <= vvdr) * (Hbb_match * HVV_match)\n",
    "HVV_match = (HVV_match * ~Hbb_match) + (bbdr > vvdr) * (Hbb_match * HVV_match)\n",
    "\n",
    "VVJets = ak.pad_none(fatjets[HVV_match], 1, axis=1)[:, 0]\n",
    "quarkdrs = ak.flatten(VVJets.delta_r(VV_children), axis=2)\n",
    "num_prongs = ak.sum(quarkdrs < match_dR, axis=1)\n",
    "\n",
    "# GenMatchingVars = {\n",
    "#     \"ak8FatJetHbb\": pad_val(Hbb_match, 2, axis=1),\n",
    "#     \"ak8FatJetHVV\": pad_val(HVV_match, 2, axis=1),\n",
    "#     \"ak8FatJetHVVNumProngs\": ak.fill_none(num_prongs, PAD_VAL).to_numpy(),\n",
    "# }"
   ]
  },
  {
   "cell_type": "code",
   "execution_count": null,
   "metadata": {},
   "outputs": [
    {
     "data": {
      "text/plain": [
       "(array([410., 410., 390., 390.,   0.,   0.,   0.,   0.,   0.,   0.,   0.,\n",
       "          0.,   0.,   0.,   0.,   0.,   0.,   0.,   0.,   0.,   0., 178.,\n",
       "          0., 356.]),\n",
       " array([ 0.5,  1.5,  2.5,  3.5,  4.5,  5.5,  6.5,  7.5,  8.5,  9.5, 10.5,\n",
       "        11.5, 12.5, 13.5, 14.5, 15.5, 16.5, 17.5, 18.5, 19.5, 20.5, 21.5,\n",
       "        22.5, 23.5, 24.5]),\n",
       " [<matplotlib.patches.Polygon at 0x7fd7b954ab00>])"
      ]
     },
     "execution_count": 67,
     "metadata": {},
     "output_type": "execute_result"
    },
    {
     "data": {
      "image/png": "[encoded data removed]",
      "text/plain": [
       "<Figure size 640x480 with 1 Axes>"
      ]
     },
     "metadata": {},
     "output_type": "display_data"
    }
   ],
   "source": [
    "plt.hist(\n",
    "    np.abs(ak.flatten(ak.flatten(ak.flatten(Ys.distinctChildren.children.pdgId)))),\n",
    "    np.linspace(0.5, 24.5, 25),\n",
    "    histtype=\"step\",\n",
    ")"
   ]
  },
  {
   "cell_type": "code",
   "execution_count": null,
   "metadata": {},
   "outputs": [
    {
     "data": {
      "text/plain": [
       "(array([358., 118.,   0.,   0.,   0.,   0.,   0.,   0.,   0.,  87.]),\n",
       " array([ 1. ,  3.3,  5.6,  7.9, 10.2, 12.5, 14.8, 17.1, 19.4, 21.7, 24. ]),\n",
       " <BarContainer object of 10 artists>)"
      ]
     },
     "execution_count": 52,
     "metadata": {},
     "output_type": "execute_result"
    },
    {
     "data": {
      "image/png": "[encoded data removed]",
      "text/plain": [
       "<Figure size 640x480 with 1 Axes>"
      ]
     },
     "metadata": {},
     "output_type": "display_data"
    }
   ],
   "source": [
    "plt.hist(\n",
    "    np.abs(\n",
    "        ak.flatten(\n",
    "            ak.flatten(ak.flatten(VV.children[np.abs(VV.children.pdgId) > 5].children.pdgId))\n",
    "        )\n",
    "    )\n",
    ")"
   ]
  },
  {
   "cell_type": "code",
   "execution_count": null,
   "metadata": {},
   "outputs": [
    {
     "data": {
      "text/plain": [
       "(array([148.,   0.,   0.,   0., 504., 504.,   0.,   0.,   0., 296.]),\n",
       " array([-24. , -19.2, -14.4,  -9.6,  -4.8,   0. ,   4.8,   9.6,  14.4,\n",
       "         19.2,  24. ]),\n",
       " <BarContainer object of 10 artists>)"
      ]
     },
     "execution_count": 32,
     "metadata": {},
     "output_type": "execute_result"
    },
    {
     "data": {
      "image/png": "[encoded data removed]",
      "text/plain": [
       "<Figure size 640x480 with 1 Axes>"
      ]
     },
     "metadata": {},
     "output_type": "display_data"
    }
   ],
   "source": [
    "plt.hist(ak.flatten(ak.flatten(VV.children.pdgId, axis=1)))"
   ]
  },
  {
   "cell_type": "code",
   "execution_count": null,
   "metadata": {},
   "outputs": [
    {
     "data": {
      "text/plain": [
       "True"
      ]
     },
     "execution_count": 40,
     "metadata": {},
     "output_type": "execute_result"
    }
   ],
   "source": [
    "ak.any(np.abs(ddYs.distinctChildren.children.pdgId) > 5)"
   ]
  },
  {
   "cell_type": "code",
   "execution_count": null,
   "metadata": {},
   "outputs": [
    {
     "data": {
      "text/plain": [
       "(array([  0., 514., 527., 506., 501.,   0.,   0.,   0.,   0.,   0.,   0.,\n",
       "          0.,   0.,   0.,   0.,   0.,   0.,   0.,   0.,   0.,   0.,   0.,\n",
       "        148.,   0.]),\n",
       " array([ 0.,  1.,  2.,  3.,  4.,  5.,  6.,  7.,  8.,  9., 10., 11., 12.,\n",
       "        13., 14., 15., 16., 17., 18., 19., 20., 21., 22., 23., 24.]),\n",
       " [<matplotlib.patches.Polygon at 0x7fd7b927dba0>])"
      ]
     },
     "execution_count": 34,
     "metadata": {},
     "output_type": "execute_result"
    },
    {
     "data": {
      "image/png": "[encoded data removed]",
      "text/plain": [
       "<Figure size 640x480 with 1 Axes>"
      ]
     },
     "metadata": {},
     "output_type": "display_data"
    }
   ],
   "source": [
    "plt.hist(\n",
    "    np.abs(ak.flatten(ak.flatten(VV.distinctChildren.pdgId, axis=1))),\n",
    "    np.linspace(0, 24, 25),\n",
    "    histtype=\"step\",\n",
    ")"
   ]
  },
  {
   "cell_type": "code",
   "execution_count": null,
   "metadata": {},
   "outputs": [
    {
     "data": {
      "text/plain": [
       "['eta',\n",
       " 'mass',\n",
       " 'phi',\n",
       " 'pt',\n",
       " 'genPartIdxMother',\n",
       " 'pdgId',\n",
       " 'status',\n",
       " 'statusFlags',\n",
       " 'genPartIdxMotherG',\n",
       " 'distinctParentIdxG',\n",
       " 'childrenIdxG',\n",
       " 'distinctChildrenIdxG']"
      ]
     },
     "execution_count": 58,
     "metadata": {},
     "output_type": "execute_result"
    }
   ],
   "source": [
    "Ys.children.fields"
   ]
  },
  {
   "cell_type": "code",
   "execution_count": null,
   "metadata": {},
   "outputs": [],
   "source": [
    "select = selection.all(*selection.names)\n",
    "presel_events = events[selection.all(*selection.names)]"
   ]
  },
  {
   "cell_type": "code",
   "execution_count": null,
   "metadata": {},
   "outputs": [],
   "source": [
    "Hbb = higgs[ak.sum(is_bb, axis=2) == 2]\n",
    "HVV = higgs[ak.sum(is_VV, axis=2) == 2]\n",
    "\n",
    "Hbb = ak.pad_none(Hbb, 1, axis=1, clip=True)[:, 0]\n",
    "HVV = ak.pad_none(HVV, 1, axis=1, clip=True)[:, 0]"
   ]
  },
  {
   "cell_type": "code",
   "execution_count": null,
   "metadata": {},
   "outputs": [],
   "source": [
    "bbdr = fatjets[:, :2].delta_r(Hbb)\n",
    "vvdr = fatjets[:, :2].delta_r(HVV)"
   ]
  },
  {
   "cell_type": "code",
   "execution_count": null,
   "metadata": {},
   "outputs": [],
   "source": [
    "_ = plt.hist(np.array(bbdr[select]).reshape(-1), np.linspace(0, 5, 101), histtype=\"step\")"
   ]
  },
  {
   "cell_type": "code",
   "execution_count": null,
   "metadata": {},
   "outputs": [],
   "source": [
    "_ = plt.hist(np.array(vvdr[select]).reshape(-1), np.linspace(0, 5, 101), histtype=\"step\")"
   ]
  },
  {
   "cell_type": "code",
   "execution_count": null,
   "metadata": {},
   "outputs": [],
   "source": [
    "match_dR = 0.8\n",
    "Hbb_match = bbdr <= match_dR\n",
    "HVV_match = vvdr <= match_dR\n",
    "\n",
    "# overlap removal - in the case where fatjet is matched to both, match it only to the closest Higgs\n",
    "Hbb_match = (Hbb_match * ~HVV_match) + (bbdr <= vvdr) * (Hbb_match * HVV_match)\n",
    "HVV_match = (HVV_match * ~Hbb_match) + (bbdr > vvdr) * (Hbb_match * HVV_match)"
   ]
  },
  {
   "cell_type": "code",
   "execution_count": null,
   "metadata": {},
   "outputs": [],
   "source": [
    "Hbb_match"
   ]
  },
  {
   "cell_type": "code",
   "execution_count": null,
   "metadata": {},
   "outputs": [],
   "source": [
    "VVJets = ak.pad_none(fatjets[HVV_match], 1, axis=1)[:, 0]\n",
    "quarkdrs = ak.flatten(VVJets.delta_r(VV_children), axis=2)\n",
    "num_prongs = ak.sum(quarkdrs < match_dR, axis=1)"
   ]
  },
  {
   "cell_type": "code",
   "execution_count": null,
   "metadata": {},
   "outputs": [],
   "source": [
    "genbb, genq = (bb, ak.flatten(VV_children, axis=2))"
   ]
  },
  {
   "cell_type": "code",
   "execution_count": null,
   "metadata": {},
   "outputs": [],
   "source": [
    "GenMatchingVars = {\n",
    "    \"ak8FatJetHbb\": pad_val(ak.fill_none(Hbb_match, [], axis=0), 2, FILL_NONE_VALUE, axis=1),\n",
    "    \"ak8FatJetHVV\": pad_val(ak.fill_none(HVV_match, [], axis=0), 2, FILL_NONE_VALUE, axis=1),\n",
    "    \"ak8FatJetHVVNumProngs\": ak.fill_none(num_prongs, -99999).to_numpy(),\n",
    "}"
   ]
  },
  {
   "cell_type": "code",
   "execution_count": null,
   "metadata": {},
   "outputs": [],
   "source": [
    "skimmed_events = {key: val[select] for key, val in GenMatchingVars.items()}"
   ]
  },
  {
   "cell_type": "code",
   "execution_count": null,
   "metadata": {},
   "outputs": [],
   "source": [
    "# jet definitions for LP SFs\n",
    "dR = 0.8\n",
    "cadef = fastjet.JetDefinition(fastjet.cambridge_algorithm, dR)\n",
    "ktdef = fastjet.JetDefinition(fastjet.kt_algorithm, dR)\n",
    "n_LP_sf_toys = 100\n",
    "\n",
    "package_path = \"../\"\n",
    "\n",
    "\n",
    "def _get_lund_arrays(events: NanoEventsArray, fatjet_idx: Union[int, ak.Array], num_prongs: int):\n",
    "    \"\"\"\n",
    "    Gets the ``num_prongs`` subjet pTs and Delta and kT per primary LP splitting of fatjets at\n",
    "    ``fatjet_idx`` in each event.\n",
    "\n",
    "    Features are flattened (for now), and offsets are saved in ``ld_offsets`` to recover the event\n",
    "    structure.\n",
    "\n",
    "    Args:\n",
    "        events (NanoEventsArray): nano events\n",
    "        fatjet_idx (int | ak.Array): fatjet index\n",
    "        num_prongs (int): number of prongs / subjets per jet to reweight\n",
    "\n",
    "    Returns:\n",
    "        flat_logD, flat_logkt, flat_subjet_pt, ld_offsets, kt_subjets_vec\n",
    "    \"\"\"\n",
    "\n",
    "    # get pfcands of the top-matched jets\n",
    "    ak8_pfcands = events.FatJetPFCands\n",
    "    ak8_pfcands = ak8_pfcands[ak8_pfcands.jetIdx == fatjet_idx]\n",
    "    pfcands = events.PFCands[ak8_pfcands.pFCandsIdx]\n",
    "\n",
    "    # need to convert to such a structure for FastJet\n",
    "    pfcands_vector_ptetaphi = ak.Array(\n",
    "        [\n",
    "            [{kin_key: cand[kin_key] for kin_key in P4} for cand in event_cands]\n",
    "            for event_cands in pfcands\n",
    "        ],\n",
    "        with_name=\"PtEtaPhiMLorentzVector\",\n",
    "    )\n",
    "\n",
    "    # cluster first with kT\n",
    "    kt_clustering = fastjet.ClusterSequence(pfcands_vector_ptetaphi, ktdef)\n",
    "    kt_subjets = kt_clustering.exclusive_jets(num_prongs)\n",
    "\n",
    "    kt_subjets_vec = ak.zip(\n",
    "        {\"x\": kt_subjets.px, \"y\": kt_subjets.py, \"z\": kt_subjets.pz, \"t\": kt_subjets.E},\n",
    "        with_name=\"LorentzVector\",\n",
    "    )\n",
    "\n",
    "    # save subjet pT\n",
    "    kt_subjets_pt = kt_subjets_vec.pt\n",
    "    # get constituents\n",
    "    kt_subjet_consts = kt_clustering.exclusive_jets_constituents(num_prongs)\n",
    "\n",
    "    # then re-cluster with CA\n",
    "    # won't need to flatten once https://github.com/scikit-hep/fastjet/pull/145 is released\n",
    "    ca_clustering = fastjet.ClusterSequence(ak.flatten(kt_subjet_consts, axis=1), cadef)\n",
    "    lds = ak.flatten(ca_clustering.exclusive_jets_lund_declusterings(1), axis=1)\n",
    "\n",
    "    # flatten and save offsets to unflatten afterwards\n",
    "    ld_offsets = lds.kt.layout.offsets\n",
    "    flat_logD = np.log(0.8 / ak.flatten(lds).Delta).to_numpy()\n",
    "    flat_logkt = np.log(ak.flatten(lds).kt).to_numpy()\n",
    "    # repeat subjet pt for each lund declustering\n",
    "    flat_subjet_pt = np.repeat(ak.flatten(kt_subjets_pt), ak.count(lds.kt, axis=1)).to_numpy()\n",
    "\n",
    "    return flat_logD, flat_logkt, flat_subjet_pt, ld_offsets, kt_subjets_vec\n",
    "\n",
    "\n",
    "def _calc_lund_SFs(\n",
    "    flat_logD: np.ndarray,\n",
    "    flat_logkt: np.ndarray,\n",
    "    flat_subjet_pt: np.ndarray,\n",
    "    ld_offsets: ak.Array,\n",
    "    num_prongs: int,\n",
    "    ratio_lookups: List[dense_lookup],\n",
    ") -> np.ndarray:\n",
    "    \"\"\"\n",
    "    Calculates scale factors for jets based on splittings in the primary Lund Plane.\n",
    "\n",
    "    Lookup tables should be binned in [subjet_pt, ln(0.8/Delta), ln(kT/GeV)].\n",
    "\n",
    "    Returns nominal scale factors for each lookup table in the ``ratio_smeared_lookups`` list.\n",
    "\n",
    "    Args:\n",
    "        flat_logD, flat_logkt, flat_subjet_pt, ld_offsets: numpy arrays from the ``lund_arrays`` fn\n",
    "        num_prongs (int): number of prongs / subjets per jet to reweight\n",
    "        ratio_smeared_lookups (List[dense_lookup]): list of lookup tables with smeared values\n",
    "\n",
    "    Returns:\n",
    "        nd.ndarray: SF values per jet for each smearing, shape ``[n_jets, len(ratio_lookups)]``.\n",
    "    \"\"\"\n",
    "\n",
    "    sf_vals = []\n",
    "    # could be parallelised but not sure if memory / time trade-off is worth it\n",
    "    for i, ratio_lookup in enumerate(ratio_lookups):\n",
    "        ratio_vals = ratio_lookup(flat_subjet_pt, flat_logD, flat_logkt)\n",
    "        # recover jagged event structure\n",
    "        reshaped_ratio_vals = ak.Array(\n",
    "            ak.layout.ListOffsetArray64(ld_offsets, ak.layout.NumpyArray(ratio_vals))\n",
    "        )\n",
    "        # nominal values are product of all lund plane SFs\n",
    "        sf_vals.append(\n",
    "            # multiply subjet SFs per jet\n",
    "            np.prod(\n",
    "                # per-subjet SF\n",
    "                ak.prod(reshaped_ratio_vals, axis=1).to_numpy().reshape(-1, num_prongs),\n",
    "                axis=1,\n",
    "            )\n",
    "        )\n",
    "\n",
    "    return np.array(sf_vals).T  # output shape: ``[n_jets, len(ratio_lookups)]``\n",
    "\n",
    "\n",
    "def _get_lund_lookups(seed: int = 42, lnN: bool = True, trunc_gauss: bool = False):\n",
    "    import uproot\n",
    "\n",
    "    # initialize lund plane scale factors lookups\n",
    "    f = uproot.open(package_path + \"/corrections/lp_ratio_jan20.root\")\n",
    "\n",
    "    # 3D histogram: [subjet_pt, ln(0.8/Delta), ln(kT/GeV)]\n",
    "    ratio_nom = f[\"ratio_nom\"].to_numpy()\n",
    "    ratio_nom_errs = f[\"ratio_nom\"].errors()\n",
    "    ratio_edges = ratio_nom[1:]\n",
    "    ratio_nom = ratio_nom[0]\n",
    "\n",
    "    ratio_sys_up = dense_lookup(f[\"ratio_sys_tot_up\"].to_numpy()[0], ratio_edges)\n",
    "    ratio_sys_down = dense_lookup(f[\"ratio_sys_tot_down\"].to_numpy()[0], ratio_edges)\n",
    "\n",
    "    np.random.seed(seed)\n",
    "    rand_noise = np.random.normal(size=[n_LP_sf_toys, *ratio_nom.shape])\n",
    "\n",
    "    if trunc_gauss:\n",
    "        # produces array of shape ``[n_sf_toys, subjet_pt bins, ln(0.8/Delta) bins, ln(kT/GeV) bins]``\n",
    "        ratio_nom_smeared = ratio_nom + (ratio_nom_errs * rand_noise)\n",
    "        ratio_nom_smeared = np.maximum(ratio_nom_smeared, 0)\n",
    "        # save n_sf_toys lookups\n",
    "        ratio_smeared_lookups = [dense_lookup(ratio_nom, ratio_edges)] + [\n",
    "            dense_lookup(ratio_nom_smeared[i], ratio_edges) for i in range(n_LP_sf_toys)\n",
    "        ]\n",
    "    else:\n",
    "        ratio_smeared_lookups = None\n",
    "\n",
    "    if lnN:\n",
    "        # revised smearing (0s -> 1s, normal -> lnN)\n",
    "        zero_noms = ratio_nom == 0\n",
    "        ratio_nom[zero_noms] = 1\n",
    "        ratio_nom_errs[zero_noms] = 0\n",
    "\n",
    "        kappa = (ratio_nom + ratio_nom_errs) / ratio_nom\n",
    "        ratio_nom_smeared = ratio_nom * np.power(kappa, rand_noise)\n",
    "        ratio_lnN_smeared_lookups = [dense_lookup(ratio_nom, ratio_edges)] + [\n",
    "            dense_lookup(ratio_nom_smeared[i], ratio_edges) for i in range(n_LP_sf_toys)\n",
    "        ]\n",
    "    else:\n",
    "        ratio_lnN_smeared_lookups = None\n",
    "\n",
    "    return ratio_smeared_lookups, ratio_lnN_smeared_lookups, ratio_sys_up, ratio_sys_down\n",
    "\n",
    "\n",
    "(\n",
    "    ratio_smeared_lookups,\n",
    "    ratio_lnN_smeared_lookups,\n",
    "    ratio_sys_up,\n",
    "    ratio_sys_down,\n",
    ") = (\n",
    "    [],\n",
    "    [],\n",
    "    [],\n",
    "    [],\n",
    ")\n",
    "\n",
    "\n",
    "def get_lund_SFs(\n",
    "    events: NanoEventsArray,\n",
    "    fatjet_idx: Union[int, ak.Array],\n",
    "    num_prongs: int,\n",
    "    gen_quarks: GenParticleArray,\n",
    "    seed: int = 42,\n",
    "    trunc_gauss: bool = False,\n",
    "    lnN: bool = True,\n",
    ") -> Dict[str, np.ndarray]:\n",
    "    \"\"\"\n",
    "    Calculates scale factors for jets based on splittings in the primary Lund Plane.\n",
    "    Calculates random smearings for statistical uncertainties, total up/down systematic variation,\n",
    "    and subjet matching and pT extrapolation systematic uncertainties.\n",
    "\n",
    "    Args:\n",
    "        events (NanoEventsArray): nano events\n",
    "        fatjet_idx (int | ak.Array): fatjet index\n",
    "        num_prongs (int): number of prongs / subjets per jet to r\n",
    "        seed (int, optional): seed for random smearings. Defaults to 42.\n",
    "        trunc_gauss (bool, optional): use truncated gaussians for smearing. Defaults to False.\n",
    "        lnN (bool, optional): use log normals for smearings. Defaults to True.\n",
    "\n",
    "    Returns:\n",
    "        Dict[str, np.ndarray]: dictionary with nominal weights per jet, sys variations, and (optionally) random smearings.\n",
    "    \"\"\"\n",
    "    global ratio_smeared_lookups, ratio_lnN_smeared_lookups, ratio_sys_up, ratio_sys_down\n",
    "\n",
    "    if (lnN and ratio_lnN_smeared_lookups == []) or (trunc_gauss and ratio_smeared_lookups == []):\n",
    "        (\n",
    "            ratio_smeared_lookups,\n",
    "            ratio_lnN_smeared_lookups,\n",
    "            ratio_sys_up,\n",
    "            ratio_sys_down,\n",
    "        ) = _get_lund_lookups(seed, lnN, trunc_gauss)\n",
    "\n",
    "    print(\"ratio lnN smeared lookups\")\n",
    "    print(ratio_lnN_smeared_lookups[0]._values)\n",
    "\n",
    "    flat_logD, flat_logkt, flat_subjet_pt, ld_offsets, kt_subjets_vec = _get_lund_arrays(\n",
    "        events, fatjet_idx, num_prongs\n",
    "    )\n",
    "\n",
    "    sfs = {}\n",
    "\n",
    "    ### get scale factors per jet + smearings for stat unc. + syst. variations\n",
    "\n",
    "    if trunc_gauss:\n",
    "        sfs[\"lp_sf\"] = _calc_lund_SFs(\n",
    "            flat_logD, flat_logkt, flat_subjet_pt, ld_offsets, num_prongs, ratio_smeared_lookups\n",
    "        )\n",
    "\n",
    "    if lnN:\n",
    "        sfs[\"lp_sf_lnN\"] = _calc_lund_SFs(\n",
    "            flat_logD, flat_logkt, flat_subjet_pt, ld_offsets, num_prongs, ratio_lnN_smeared_lookups\n",
    "        )\n",
    "\n",
    "    sfs[\"lp_sf_sys_down\"] = _calc_lund_SFs(\n",
    "        flat_logD, flat_logkt, flat_subjet_pt, ld_offsets, num_prongs, [ratio_sys_down]\n",
    "    )\n",
    "\n",
    "    sfs[\"lp_sf_sys_up\"] = _calc_lund_SFs(\n",
    "        flat_logD, flat_logkt, flat_subjet_pt, ld_offsets, num_prongs, [ratio_sys_up]\n",
    "    )\n",
    "\n",
    "    ### subjet matching and pT extrapoation uncertainties\n",
    "\n",
    "    matching_dR = 0.2\n",
    "    sj_matched = []\n",
    "    sj_matched_idx = []\n",
    "\n",
    "    # get dR between gen quarks and subjets\n",
    "    for i in range(num_prongs):\n",
    "        sj_q_dr = kt_subjets_vec.delta_r(gen_quarks[:, i])\n",
    "        # is quark matched to a subjet (dR < 0.2)\n",
    "        sj_matched.append(ak.min(sj_q_dr, axis=1) <= matching_dR)\n",
    "        # save index of closest subjet\n",
    "        sj_matched_idx.append(ak.argmin(sj_q_dr, axis=1))\n",
    "\n",
    "    sj_matched = np.array(sj_matched).T\n",
    "    sj_matched_idx = np.array(sj_matched_idx).T\n",
    "\n",
    "    # mask quarks which aren't matched to a subjet, to avoid overcounting events\n",
    "    sj_matched_idx_mask = np.copy(sj_matched_idx)\n",
    "    sj_matched_idx_mask[~sj_matched] = -1\n",
    "\n",
    "    # events which have more than one quark matched to the same subjet\n",
    "    sfs[\"lp_sf_double_matched_event\"] = np.any(\n",
    "        [np.sum(sj_matched_idx_mask == i, axis=1) > 1 for i in range(3)], axis=0\n",
    "    ).astype(int)[:, np.newaxis]\n",
    "\n",
    "    # number of quarks per event which aren't matched\n",
    "    sfs[\"lp_sf_unmatched_quarks\"] = np.sum(~sj_matched, axis=1, keepdims=True)\n",
    "\n",
    "    # pT extrapolation uncertainty\n",
    "    sfs[\"lp_sf_num_sjpt_gt350\"] = np.sum(kt_subjets_vec.pt > 350, axis=1, keepdims=True).to_numpy()\n",
    "\n",
    "    return sfs"
   ]
  },
  {
   "cell_type": "code",
   "execution_count": null,
   "metadata": {},
   "outputs": [],
   "source": [
    "ratio_lnN_smeared_lookups"
   ]
  },
  {
   "cell_type": "code",
   "execution_count": null,
   "metadata": {},
   "outputs": [],
   "source": [
    "# genbb = genbb[select]\n",
    "# genq = genq[select]\n",
    "\n",
    "i = 0\n",
    "\n",
    "fatjetsi = fatjets[select][:, i]\n",
    "bb_select = skimmed_events[\"ak8FatJetHbb\"][:, i].astype(bool)\n",
    "VV_select = skimmed_events[\"ak8FatJetHVV\"][:, i].astype(bool)\n",
    "\n",
    "# selectors for Hbb jets and HVV jets with 2, 3, or 4 prongs separately\n",
    "selectors = {\n",
    "    # name: (selector, gen quarks, num prongs)\n",
    "    \"bb\": (bb_select, genbb, 2),\n",
    "    **{\n",
    "        f\"VV{k}q\": (VV_select * (skimmed_events[\"ak8FatJetHVVNumProngs\"] == k), genq, k)\n",
    "        for k in range(2, 4 + 1)\n",
    "    },\n",
    "}\n",
    "\n",
    "selected_sfs = {}\n",
    "\n",
    "for key, (selector, gen_quarks, num_prongs) in selectors.items():\n",
    "    selected_sfs[key] = get_lund_SFs(\n",
    "        events[select][selector],\n",
    "        i,\n",
    "        num_prongs,\n",
    "        gen_quarks[selector],\n",
    "        trunc_gauss=False,\n",
    "        lnN=True,\n",
    "    )\n",
    "\n",
    "sf_dict = {}\n",
    "\n",
    "# collect all the scale factors, fill in 0s for unmatched jets\n",
    "for key, val in selected_sfs[\"bb\"].items():\n",
    "    arr = np.zeros((np.sum(select), val.shape[1]))\n",
    "\n",
    "    for select_key, (selector, _, _) in selectors.items():\n",
    "        arr[selector] = selected_sfs[select_key][key]\n",
    "\n",
    "    sf_dict[key] = arr"
   ]
  },
  {
   "cell_type": "code",
   "execution_count": null,
   "metadata": {},
   "outputs": [],
   "source": [
    "sf_dict = {}\n",
    "\n",
    "# collect all the scale factors, fill in 0s for unmatched jets\n",
    "for key, val in selected_sfs[\"bb\"].items():\n",
    "    arr = np.zeros((np.sum(select), val.shape[1]))\n",
    "\n",
    "    for select_key, (selector, _, _) in selectors.items():\n",
    "        arr[selector] = selected_sfs[select_key][key]\n",
    "\n",
    "    sf_dict[key] = arr"
   ]
  },
  {
   "cell_type": "code",
   "execution_count": null,
   "metadata": {},
   "outputs": [],
   "source": [
    "sf_dict[\"lp_sf_lnN\"][VV_select * (skimmed_events[\"ak8FatJetHVVNumProngs\"] == 2)]"
   ]
  },
  {
   "cell_type": "code",
   "execution_count": null,
   "metadata": {},
   "outputs": [],
   "source": [
    "selected_sfs[\"VV2q\"][\"lp_sf_lnN\"]"
   ]
  },
  {
   "cell_type": "code",
   "execution_count": null,
   "metadata": {},
   "outputs": [],
   "source": [
    "selected_sfs"
   ]
  },
  {
   "cell_type": "code",
   "execution_count": null,
   "metadata": {},
   "outputs": [],
   "source": [
    "arr[selector]"
   ]
  },
  {
   "cell_type": "code",
   "execution_count": null,
   "metadata": {},
   "outputs": [],
   "source": [
    "selector"
   ]
  },
  {
   "cell_type": "code",
   "execution_count": null,
   "metadata": {},
   "outputs": [],
   "source": [
    "skimmed_events[\"ak8FatJetHVVNumProngs\"]"
   ]
  },
  {
   "cell_type": "code",
   "execution_count": null,
   "metadata": {},
   "outputs": [],
   "source": [
    "np.sum(bb_select) + np.sum(VV_select)"
   ]
  },
  {
   "cell_type": "code",
   "execution_count": null,
   "metadata": {},
   "outputs": [],
   "source": [
    "np.sum(VV_select)"
   ]
  },
  {
   "cell_type": "code",
   "execution_count": null,
   "metadata": {},
   "outputs": [],
   "source": [
    "jet_idx = 0\n",
    "\n",
    "ak8_pfcands = presel_events.FatJetPFCands\n",
    "ak8_pfcands = ak8_pfcands[ak8_pfcands.jetIdx == jet_idx]\n",
    "pfcands = presel_events.PFCands[ak8_pfcands.pFCandsIdx]\n",
    "\n",
    "pfcands_vector_ptetaphi = ak.Array(\n",
    "    [\n",
    "        [{kin_key: cand[kin_key] for kin_key in skim_vars} for cand in event_cands]\n",
    "        for event_cands in merged_pfcands\n",
    "    ],\n",
    "    with_name=\"PtEtaPhiMLorentzVector\",\n",
    ")"
   ]
  },
  {
   "cell_type": "code",
   "execution_count": null,
   "metadata": {},
   "outputs": [],
   "source": []
  }
 ],
 "metadata": {
  "kernelspec": {
   "display_name": "python310",
   "language": "python",
   "name": "python3"
  },
  "language_info": {
   "codemirror_mode": {
    "name": "ipython",
    "version": 3
   },
   "file_extension": ".py",
   "mimetype": "text/x-python",
   "name": "python",
   "nbconvert_exporter": "python",
   "pygments_lexer": "ipython3",
   "version": "3.9.18"
  },
  "orig_nbformat": 4,
  "vscode": {
   "interpreter": {
    "hash": "15adc7883e707560d0d9727709639b8fe3f3cff1f197d2d643742923ff23a29c"
   }
  }
 },
 "nbformat": 4,
 "nbformat_minor": 2
}
