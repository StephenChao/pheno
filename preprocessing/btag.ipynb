{
 "cells": [
  {
   "cell_type": "markdown",
   "metadata": {},
   "source": [
    "### do gen-matching with delphes root files"
   ]
  },
  {
   "cell_type": "code",
   "execution_count": 45,
   "metadata": {},
   "outputs": [],
   "source": [
    "#env : Lpr"
   ]
  },
  {
   "cell_type": "code",
   "execution_count": 46,
   "metadata": {},
   "outputs": [],
   "source": [
    "import uproot\n",
    "import awkward as ak\n",
    "from glob import glob\n",
    "from coffea.nanoevents import NanoEventsFactory, DelphesSchema, BaseSchema\n",
    "import pickle, json, gzip\n",
    "import numpy as np\n",
    "from typing import Optional, List, Dict, Tuple\n",
    "from copy import copy\n",
    "from matplotlib import colors\n",
    "import matplotlib as mpl\n",
    "import matplotlib.pyplot as plt\n",
    "import mplhep as hep\n",
    "import boost_histogram as bh\n",
    "from cycler import cycler\n",
    "from tqdm import tqdm\n",
    "import pathlib\n",
    "import os\n",
    "import boost_histogram as bh"
   ]
  },
  {
   "cell_type": "code",
   "execution_count": 47,
   "metadata": {},
   "outputs": [],
   "source": [
    "plot_dir = \"../plots/tagger/29Sep2024\"\n",
    "_ = os.system(f\"mkdir -p {plot_dir}\")"
   ]
  },
  {
   "cell_type": "code",
   "execution_count": 48,
   "metadata": {},
   "outputs": [
    {
     "name": "stdout",
     "output_type": "stream",
     "text": [
      "Loaded CustomDelphesSchema: <class 'custom.CustomDelphesSchema'>\n"
     ]
    }
   ],
   "source": [
    "import custom\n",
    "print(\"Loaded CustomDelphesSchema:\", custom.CustomDelphesSchema)\n"
   ]
  },
  {
   "cell_type": "code",
   "execution_count": 49,
   "metadata": {},
   "outputs": [
    {
     "name": "stderr",
     "output_type": "stream",
     "text": [
      "/home/pku/zhaoyz/anaconda3/envs/lpr/lib/python3.9/site-packages/coffea/nanoevents/mapping/uproot.py:86: UserWarning: Found duplicate branch JetPUPPI_size in <TTree 'tree' (9214 branches) at 0x7f6278946e80>, taking first instance\n",
      "  warnings.warn(\n",
      "/home/pku/zhaoyz/anaconda3/envs/lpr/lib/python3.9/site-packages/coffea/nanoevents/mapping/uproot.py:86: UserWarning: Found duplicate branch Particle_size in <TTree 'tree' (9214 branches) at 0x7f6278946e80>, taking first instance\n",
      "  warnings.warn(\n",
      "/home/pku/zhaoyz/anaconda3/envs/lpr/lib/python3.9/site-packages/coffea/nanoevents/mapping/uproot.py:86: UserWarning: Found duplicate branch JetPUPPIAK8_size in <TTree 'tree' (9214 branches) at 0x7f6278946e80>, taking first instance\n",
      "  warnings.warn(\n",
      "/home/pku/zhaoyz/anaconda3/envs/lpr/lib/python3.9/site-packages/coffea/nanoevents/mapping/uproot.py:86: UserWarning: Found duplicate branch Electron_size in <TTree 'tree' (9214 branches) at 0x7f6278946e80>, taking first instance\n",
      "  warnings.warn(\n",
      "/home/pku/zhaoyz/anaconda3/envs/lpr/lib/python3.9/site-packages/coffea/nanoevents/mapping/uproot.py:86: UserWarning: Found duplicate branch Muon_size in <TTree 'tree' (9214 branches) at 0x7f6278946e80>, taking first instance\n",
      "  warnings.warn(\n",
      "/home/pku/zhaoyz/anaconda3/envs/lpr/lib/python3.9/site-packages/coffea/nanoevents/mapping/uproot.py:86: UserWarning: Found duplicate branch PuppiMissingET_size in <TTree 'tree' (9214 branches) at 0x7f6278946e80>, taking first instance\n",
      "  warnings.warn(\n",
      "/home/pku/zhaoyz/anaconda3/envs/lpr/lib/python3.9/site-packages/coffea/nanoevents/mapping/uproot.py:86: UserWarning: Found duplicate branch MissingET_size in <TTree 'tree' (9214 branches) at 0x7f6278946e80>, taking first instance\n",
      "  warnings.warn(\n"
     ]
    }
   ],
   "source": [
    "delphes_roots = {\n",
    "    'TTbar_semilep' : \"/data/bond/zhaoyz/Pheno/ntuplizer/output_with_PUPPI/TTbar_semilep_part1_25M/ntuple_events_delphes_356.root\",\n",
    "}\n",
    "   \n",
    "files = {typefile : {} for typefile in delphes_roots}\n",
    "for typefile in delphes_roots:\n",
    "    files[typefile] = NanoEventsFactory.from_root(\n",
    "        delphes_roots[typefile],\n",
    "        treepath=\"/tree\",\n",
    "        schemaclass=custom.CustomDelphesSchema,\n",
    "    ).events()"
   ]
  },
  {
   "cell_type": "code",
   "execution_count": 50,
   "metadata": {},
   "outputs": [],
   "source": [
    "### find the score label index\n",
    "labels = [\n",
    "    #  H->2 prong\n",
    "    \"H_bb\", \"H_cc\", \"H_ss\", \"H_qq\", \"H_bc\", \"H_cs\", \"H_bq\", \"H_cq\", \"H_sq\", \"H_gg\", \"H_ee\", \"H_mm\", \"H_tauhtaue\", \"H_tauhtaum\", \"H_tauhtauh\", \n",
    "\n",
    "    #  H->4/3 prong\n",
    "    \"H_AA_bbbb\", \"H_AA_bbcc\", \"H_AA_bbss\", \"H_AA_bbqq\", \"H_AA_bbgg\", \"H_AA_bbee\", \"H_AA_bbmm\",\n",
    "    \"H_AA_bbtauhtaue\", \"H_AA_bbtauhtaum\", \"H_AA_bbtauhtauh\",\n",
    "\n",
    "    \"H_AA_bbb\", \"H_AA_bbc\", \"H_AA_bbs\", \"H_AA_bbq\", \"H_AA_bbg\", \"H_AA_bbe\", \"H_AA_bbm\",\n",
    "\n",
    "    \"H_AA_cccc\", \"H_AA_ccss\", \"H_AA_ccqq\", \"H_AA_ccgg\", \"H_AA_ccee\", \"H_AA_ccmm\",\n",
    "    \"H_AA_cctauhtaue\", \"H_AA_cctauhtaum\", \"H_AA_cctauhtauh\",\n",
    "\n",
    "    \"H_AA_ccb\", \"H_AA_ccc\", \"H_AA_ccs\", \"H_AA_ccq\", \"H_AA_ccg\", \"H_AA_cce\", \"H_AA_ccm\",\n",
    "\n",
    "    \"H_AA_ssss\", \"H_AA_ssqq\", \"H_AA_ssgg\", \"H_AA_ssee\", \"H_AA_ssmm\",\n",
    "    \"H_AA_sstauhtaue\", \"H_AA_sstauhtaum\", \"H_AA_sstauhtauh\",\n",
    "\n",
    "    \"H_AA_ssb\", \"H_AA_ssc\", \"H_AA_sss\", \"H_AA_ssq\", \"H_AA_ssg\", \"H_AA_sse\", \"H_AA_ssm\",\n",
    "\n",
    "    \"H_AA_qqqq\", \"H_AA_qqgg\", \"H_AA_qqee\", \"H_AA_qqmm\",\n",
    "    \"H_AA_qqtauhtaue\", \"H_AA_qqtauhtaum\", \"H_AA_qqtauhtauh\",\n",
    "\n",
    "    \"H_AA_qqb\", \"H_AA_qqc\", \"H_AA_qqs\", \"H_AA_qqq\", \"H_AA_qqg\", \"H_AA_qqe\", \"H_AA_qqm\",\n",
    "\n",
    "    \"H_AA_gggg\", \"H_AA_ggee\", \"H_AA_ggmm\",\n",
    "    \"H_AA_ggtauhtaue\", \"H_AA_ggtauhtaum\", \"H_AA_ggtauhtauh\",\n",
    "\n",
    "    \"H_AA_ggb\", \"H_AA_ggc\", \"H_AA_ggs\", \"H_AA_ggq\", \"H_AA_ggg\", \"H_AA_gge\", \"H_AA_ggm\",\n",
    "\n",
    "    \"H_AA_bee\", \"H_AA_cee\", \"H_AA_see\", \"H_AA_qee\", \"H_AA_gee\",\n",
    "    \"H_AA_bmm\", \"H_AA_cmm\", \"H_AA_smm\", \"H_AA_qmm\", \"H_AA_gmm\",\n",
    "\n",
    "    \"H_AA_btauhtaue\", \"H_AA_ctauhtaue\", \"H_AA_stauhtaue\", \"H_AA_qtauhtaue\", \"H_AA_gtauhtaue\",\n",
    "    \"H_AA_btauhtaum\", \"H_AA_ctauhtaum\", \"H_AA_stauhtaum\", \"H_AA_qtauhtaum\", \"H_AA_gtauhtaum\",\n",
    "    \"H_AA_btauhtauh\", \"H_AA_ctauhtauh\", \"H_AA_stauhtauh\", \"H_AA_qtauhtauh\", \"H_AA_gtauhtauh\",\n",
    "\n",
    "    #  (H+H-: H_AA_bbcs, H_AA_bbsq, H_AA_ssbc, H_AA_ssbq not available)\n",
    "    \"H_AA_qqqb\", \"H_AA_qqqc\", \"H_AA_qqqs\",\n",
    "    \"H_AA_bbcq\",\n",
    "    \"H_AA_ccbs\", \"H_AA_ccbq\", \"H_AA_ccsq\",\n",
    "    \"H_AA_sscq\",\n",
    "    \"H_AA_qqbc\", \"H_AA_qqbs\", \"H_AA_qqcs\",\n",
    "    \"H_AA_bcsq\",\n",
    "\n",
    "    \"H_AA_bcs\", \"H_AA_bcq\", \"H_AA_bsq\", \"H_AA_csq\", \n",
    "\n",
    "    \"H_AA_bcev\", \"H_AA_csev\", \"H_AA_bqev\", \"H_AA_cqev\", \"H_AA_sqev\", \"H_AA_qqev\",\n",
    "    \"H_AA_bcmv\", \"H_AA_csmv\", \"H_AA_bqmv\", \"H_AA_cqmv\", \"H_AA_sqmv\", \"H_AA_qqmv\",\n",
    "    \"H_AA_bctauev\", \"H_AA_cstauev\", \"H_AA_bqtauev\", \"H_AA_cqtauev\", \"H_AA_sqtauev\", \"H_AA_qqtauev\",\n",
    "    \"H_AA_bctaumv\", \"H_AA_cstaumv\", \"H_AA_bqtaumv\", \"H_AA_cqtaumv\", \"H_AA_sqtaumv\", \"H_AA_qqtaumv\",\n",
    "    \"H_AA_bctauhv\", \"H_AA_cstauhv\", \"H_AA_bqtauhv\", \"H_AA_cqtauhv\", \"H_AA_sqtauhv\", \"H_AA_qqtauhv\",\n",
    "\n",
    "\n",
    "    \"QCD_bbccss\", \"QCD_bbccs\", \"QCD_bbcc\", \"QCD_bbcss\", \"QCD_bbcs\", \"QCD_bbc\", \"QCD_bbss\", \"QCD_bbs\", \"QCD_bb\",\n",
    "    \"QCD_bccss\", \"QCD_bccs\", \"QCD_bcc\", \"QCD_bcss\", \"QCD_bcs\", \"QCD_bc\", \"QCD_bss\", \"QCD_bs\", \"QCD_b\",\n",
    "    \"QCD_ccss\", \"QCD_ccs\", \"QCD_cc\", \"QCD_css\", \"QCD_cs\", \"QCD_c\", \"QCD_ss\", \"QCD_s\", \"QCD_light\",\n",
    "\n",
    "]\n",
    "\n",
    "index_hbc = labels.index(\"H_bc\")\n",
    "index_hbq = labels.index(\"H_bq\")\n",
    "index_hbb = labels.index(\"H_bb\")\n",
    "index_hcc = labels.index(\"H_cc\")\n",
    "index_qcd_start = labels.index(\"QCD_bbccss\")"
   ]
  },
  {
   "cell_type": "code",
   "execution_count": 51,
   "metadata": {},
   "outputs": [],
   "source": [
    "import math\n",
    "def delta_r(a, b):\n",
    "    deta = a.Eta - b.Eta\n",
    "    dphi = (a.Phi - b.Phi + math.pi) % (2 * math.pi) - math.pi\n",
    "    return np.hypot(deta, dphi)\n",
    "\n",
    "use_helvet = False ## true: use helvetica for plots, make sure the system have the font installed\n",
    "if use_helvet:\n",
    "    CMShelvet = hep.style.CMS\n",
    "    CMShelvet['font.sans-serif'] = ['Helvetica', 'Arial']\n",
    "    plt.style.use(CMShelvet)\n",
    "else:\n",
    "    plt.style.use(hep.style.ROOT)\n",
    "\n",
    "def flow(hist: bh.Histogram, overflow: bool=False, underflow: bool=False):\n",
    "    h, var = hist.view(flow=(overflow | underflow)).value, hist.view(flow=(overflow | underflow)).variance\n",
    "    if overflow: \n",
    "        # h, var also include underflow bins but in plots usually no underflow data\n",
    "        # And we've filled None with -999, so we shouldn't show underflow data (mostly from filled None)\n",
    "        # You have to access the overflow and underflow bins data like below:\n",
    "        h[-2] += h[-1]; var[-2] += var[-1]\n",
    "    if underflow:\n",
    "        h[1] += h[0]; var[1] += var[0]\n",
    "    if overflow or underflow:\n",
    "        h, var = h[1:-1], var[1:-1]\n",
    "    return h, var\n",
    "    # Return the updated histogram and variance\n",
    "\n",
    "skim_vars = {\n",
    "    \"eta\": \"Eta\",\n",
    "    \"phi\": \"Phi\",\n",
    "    \"mass\": \"Mass\",\n",
    "    \"pt\": \"Pt\",\n",
    "}"
   ]
  },
  {
   "cell_type": "markdown",
   "metadata": {},
   "source": [
    "### Investigate jet information"
   ]
  },
  {
   "cell_type": "code",
   "execution_count": 52,
   "metadata": {},
   "outputs": [],
   "source": [
    "events = files[\"TTbar_semilep\"]\n"
   ]
  },
  {
   "cell_type": "markdown",
   "metadata": {},
   "source": [
    "#### let's see the #AK8 jets distribution"
   ]
  },
  {
   "cell_type": "code",
   "execution_count": 53,
   "metadata": {},
   "outputs": [],
   "source": [
    "# initially we only test leading JetPUPPIAK8 jet(as candidate fatjet) matching situations\n",
    "# anyway, we will use one AK8 jets in the end\n",
    "# now, we use the \n",
    "# num_jets = 1\n",
    "# candidate_fatjets = ak.flatten(ak.pad_none(events.JetPUPPIAK8, num_jets, axis=1)[:, :num_jets], axis = 1)"
   ]
  },
  {
   "cell_type": "code",
   "execution_count": 54,
   "metadata": {},
   "outputs": [],
   "source": [
    "def get_hbcvsqcd(df):\n",
    "    df[\"hbc\"] = df[f\"jet_probs_{str(index_hbc)}\"]\n",
    "    df[\"qcd\"] = ak.zeros_like(df[\"hbc\"])\n",
    "    for idx in range(index_qcd_start,188):\n",
    "        df[\"qcd\"] = df[\"qcd\"] + df[f\"jet_probs_{str(idx)}\"]\n",
    "    df[\"hbcvsqcd\"] = df[\"hbc\"]/(df[\"hbc\"] + df[\"qcd\"])\n",
    "\n"
   ]
  },
  {
   "cell_type": "markdown",
   "metadata": {},
   "source": [
    "### We will always use Hbc tagger to order the jet"
   ]
  },
  {
   "cell_type": "code",
   "execution_count": 55,
   "metadata": {},
   "outputs": [],
   "source": [
    "#compute tagger score\n",
    "leading_tagger = np.max(events[f\"jet_probs_{str(index_hbc)}\"],axis = 1) #leading tagger score\n",
    "leading_tagger_indices = (events[f\"jet_probs_{str(index_hbc)}\"] == leading_tagger)\n",
    "\n",
    "#order other object\n",
    "get_hbcvsqcd(events)\n",
    "leading_hbc = events[f\"jet_probs_{str(index_hbc)}\"][leading_tagger_indices][:,0]\n",
    "leading_hbcvsqcd = events[\"hbcvsqcd\"][leading_tagger_indices][:,0]\n",
    "leading_qcd = events[\"qcd\"][leading_tagger_indices][:,0]\n",
    "leading_hbq = events[f\"jet_probs_{str(index_hbq)}\"][leading_tagger_indices][:,0]\n",
    "#currently top not available\n",
    "\n",
    "#candidate jet is the jet with leading Hbc tagger\n",
    "leading_fatjet = events.JetPUPPIAK8[leading_tagger_indices][:,0]\n",
    "candidate_fatjets = leading_fatjet"
   ]
  },
  {
   "cell_type": "code",
   "execution_count": 56,
   "metadata": {},
   "outputs": [
    {
     "name": "stderr",
     "output_type": "stream",
     "text": [
      "/home/pku/zhaoyz/anaconda3/envs/lpr/lib/python3.9/site-packages/awkward/_connect/_numpy.py:197: RuntimeWarning: invalid value encountered in sqrt\n",
      "  result = getattr(ufunc, method)(\n"
     ]
    },
    {
     "data": {
      "text/plain": [
       "<Array [89.5, 12.9, 88.2, ... 5.87, 0.106, 144] type='1270 * ?float64'>"
      ]
     },
     "execution_count": 56,
     "metadata": {},
     "output_type": "execute_result"
    }
   ],
   "source": [
    "# how to compute soft-drop mass\n",
    "candidate_fatjets.SoftDroppedP4_5[...,0].mass"
   ]
  },
  {
   "cell_type": "markdown",
   "metadata": {},
   "source": [
    "### jet matching"
   ]
  },
  {
   "cell_type": "code",
   "execution_count": 57,
   "metadata": {},
   "outputs": [],
   "source": [
    "d_PDGID = 1\n",
    "u_PDGID = 2\n",
    "s_PDGID = 3\n",
    "b_PDGID = 5\n",
    "c_PDGID = 4\n",
    "TOP_PDGID = 6\n",
    "\n",
    "g_PDGID = 21\n",
    "\n",
    "ELE_PDGID = 11\n",
    "vELE_PDGID = 12\n",
    "MU_PDGID = 13\n",
    "vMU_PDGID = 14\n",
    "TAU_PDGID = 15\n",
    "vTAU_PDGID = 16\n",
    "\n",
    "Z_PDGID = 23\n",
    "W_PDGID = 24\n",
    "H_PDGID = 25\n",
    "\n",
    "#define deltaR\n",
    "deltaR = 0.8"
   ]
  },
  {
   "cell_type": "code",
   "execution_count": 58,
   "metadata": {},
   "outputs": [],
   "source": [
    "# finding the two gen tops\n",
    "\n",
    "tops = events.Particle[\n",
    "    (abs(events.Particle.PID) == TOP_PDGID) * (events.Particle.Status == 62)\n",
    "]"
   ]
  },
  {
   "cell_type": "code",
   "execution_count": 59,
   "metadata": {},
   "outputs": [],
   "source": [
    "# collect all bs, including the leptonic b and hadronic b\n",
    "bs = events.Particle[tops.D2]"
   ]
  },
  {
   "cell_type": "code",
   "execution_count": 60,
   "metadata": {},
   "outputs": [],
   "source": [
    "# find the last W index\n",
    "\n",
    "def find_last_position(arr, value):\n",
    "    mask = (arr == value)\n",
    "    reversed_mask = mask[:, ::-1]\n",
    "    reversed_positions = ak.argmax(reversed_mask, axis=1)\n",
    "    lengths = ak.num(arr, axis=1)\n",
    "    positions = lengths - 1 - reversed_positions\n",
    "    return positions\n",
    "\n"
   ]
  },
  {
   "cell_type": "code",
   "execution_count": 61,
   "metadata": {},
   "outputs": [
    {
     "data": {
      "text/plain": [
       "<Array [664, 1033, 746, 662, ... 587, 272, 523] type='1270 * ?int64'>"
      ]
     },
     "execution_count": 61,
     "metadata": {},
     "output_type": "execute_result"
    }
   ],
   "source": [
    "pos_w_plus = find_last_position(events.Particle.PID, 24)\n",
    "pos_w_plus"
   ]
  },
  {
   "cell_type": "code",
   "execution_count": 62,
   "metadata": {},
   "outputs": [
    {
     "data": {
      "text/plain": [
       "<Array [665, 1026, 754, 633, ... 583, 292, 516] type='1270 * ?int64'>"
      ]
     },
     "execution_count": 62,
     "metadata": {},
     "output_type": "execute_result"
    }
   ],
   "source": [
    "pos_w_minus = find_last_position(events.Particle.PID, -24)\n",
    "pos_w_minus"
   ]
  },
  {
   "cell_type": "code",
   "execution_count": 63,
   "metadata": {},
   "outputs": [],
   "source": [
    "#last copy W position\n",
    "w_index_array = ak.Array(ak.Array([pos_w_plus, pos_w_minus]).to_numpy().T)"
   ]
  },
  {
   "cell_type": "code",
   "execution_count": 64,
   "metadata": {},
   "outputs": [],
   "source": [
    "# collect last copy W\n",
    "ws = events.Particle[ak.Array([range(len(events.Particle))]).to_numpy().T, w_index_array.to_numpy()]"
   ]
  },
  {
   "cell_type": "code",
   "execution_count": 65,
   "metadata": {},
   "outputs": [],
   "source": [
    "# define hadronic decay W\n",
    "had_w_sel = (abs(events.Particle[ak.Array([range(len(events.Particle))]).to_numpy().T, ws.D1.to_numpy()].PID) <= 5)"
   ]
  },
  {
   "cell_type": "code",
   "execution_count": 66,
   "metadata": {},
   "outputs": [],
   "source": [
    "# define leptonic decay W\n",
    "lep_w_sel = (abs(events.Particle[ak.Array([range(len(events.Particle))]).to_numpy().T, ws.D1.to_numpy()].PID) > 6)"
   ]
  },
  {
   "cell_type": "code",
   "execution_count": 67,
   "metadata": {},
   "outputs": [],
   "source": [
    "# collect all hadronic decay W in all events\n",
    "had_ws = ws[had_w_sel]\n",
    "lep_ws = ws[lep_w_sel]"
   ]
  },
  {
   "cell_type": "code",
   "execution_count": 68,
   "metadata": {},
   "outputs": [],
   "source": [
    "# collect hadronic W's daughter\n",
    "had_ws_D1 = ak.flatten(events.Particle[ak.singletons(had_ws.D1)], axis = 1)\n",
    "had_ws_D2 = ak.flatten(events.Particle[ak.singletons(had_ws.D2)], axis = 1)"
   ]
  },
  {
   "cell_type": "code",
   "execution_count": 69,
   "metadata": {},
   "outputs": [],
   "source": [
    "had_ws_D1_match = (delta_r(had_ws_D1,candidate_fatjets) < deltaR)\n",
    "had_ws_D2_match = (delta_r(had_ws_D2,candidate_fatjets) < deltaR)"
   ]
  },
  {
   "cell_type": "code",
   "execution_count": 70,
   "metadata": {},
   "outputs": [],
   "source": [
    "# W decay tag\n",
    "wcd = (( abs(had_ws_D1.PID) == 1) & (abs(had_ws_D2.PID) == 4 )) | (( abs(had_ws_D1.PID) == 4) & (abs(had_ws_D2.PID) == 1 ))\n",
    "wcs = (( abs(had_ws_D1.PID) == 3) & (abs(had_ws_D2.PID) == 4 )) | (( abs(had_ws_D1.PID) == 4) & (abs(had_ws_D2.PID) == 3 ))\n",
    "wcb = (( abs(had_ws_D1.PID) == 5) & (abs(had_ws_D2.PID) == 4 )) | (( abs(had_ws_D1.PID) == 4) & (abs(had_ws_D2.PID) == 5 ))\n",
    "\n",
    "wud = (( abs(had_ws_D1.PID) == 2) & (abs(had_ws_D2.PID) == 1 )) | (( abs(had_ws_D1.PID) == 1) & (abs(had_ws_D2.PID) == 2 ))\n",
    "wub = (( abs(had_ws_D1.PID) == 2) & (abs(had_ws_D2.PID) == 5 )) | (( abs(had_ws_D1.PID) == 5) & (abs(had_ws_D2.PID) == 2 ))\n",
    "wus = (( abs(had_ws_D1.PID) == 2) & (abs(had_ws_D2.PID) == 3 )) | (( abs(had_ws_D1.PID) == 3) & (abs(had_ws_D2.PID) == 2 ))"
   ]
  },
  {
   "cell_type": "code",
   "execution_count": 71,
   "metadata": {},
   "outputs": [],
   "source": [
    "# collect hadronic decay tops' b(the same sign with hadronic W)\n",
    "bs_had = ak.flatten(ak.pad_none(bs[had_ws.Charge == abs(bs.PID)/bs.PID ], 1, axis = 1, clip = True), axis = 1)"
   ]
  },
  {
   "cell_type": "code",
   "execution_count": 72,
   "metadata": {},
   "outputs": [],
   "source": [
    "# collect leptonic decay tops' b(the same sign with leptonic W)\n",
    "bs_lep = ak.flatten(ak.pad_none(bs[lep_ws.Charge == abs(bs.PID)/bs.PID ], 1, axis = 1, clip = True), axis = 1)"
   ]
  },
  {
   "cell_type": "code",
   "execution_count": 73,
   "metadata": {},
   "outputs": [],
   "source": [
    "had_b_jet_match = (delta_r(bs_had,candidate_fatjets) <= deltaR)\n",
    "lep_b_jet_match = (delta_r(bs_lep,candidate_fatjets) <= deltaR)"
   ]
  },
  {
   "cell_type": "code",
   "execution_count": 74,
   "metadata": {},
   "outputs": [],
   "source": [
    "match_dict = {\n",
    "    \"top_matched(t->bqq)\": had_ws_D1_match * had_ws_D2_match * had_b_jet_match * ~lep_b_jet_match,\n",
    "    \"top_matched(t->bq)\": (had_ws_D1_match * ~had_ws_D2_match * had_b_jet_match * ~lep_b_jet_match) | (~had_ws_D1_match * had_ws_D2_match * had_b_jet_match * ~lep_b_jet_match),\n",
    "    \n",
    "    \"lep.b + W_matched\" : had_ws_D1_match * had_ws_D2_match * ~had_b_jet_match * lep_b_jet_match,\n",
    "    \"lep.b + q_matched\" : (had_ws_D1_match * ~had_ws_D2_match * ~had_b_jet_match * lep_b_jet_match) | (~had_ws_D1_match * had_ws_D2_match * ~had_b_jet_match * lep_b_jet_match),\n",
    "    \n",
    "    \"W_matched(W->cd)\": ~lep_b_jet_match * ~had_b_jet_match * had_ws_D1_match * had_ws_D2_match * wcd,\n",
    "    \"W_matched(W->cs)\": ~lep_b_jet_match * ~had_b_jet_match * had_ws_D1_match * had_ws_D2_match * wcs,\n",
    "    \"W_matched(W->cb)\": ~lep_b_jet_match * ~had_b_jet_match * had_ws_D1_match * had_ws_D2_match * wcb,\n",
    "    \"W_matched(W->ud)\": ~lep_b_jet_match * ~had_b_jet_match * had_ws_D1_match * had_ws_D2_match * wud,\n",
    "    \"W_matched(W->ub)\": ~lep_b_jet_match * ~had_b_jet_match * had_ws_D1_match * had_ws_D2_match * wub,\n",
    "    \"W_matched(W->us)\": ~lep_b_jet_match * ~had_b_jet_match * had_ws_D1_match * had_ws_D2_match * wus,\n",
    "    \n",
    "    \"b_matched(had.t)\" : ~had_ws_D1_match * ~had_ws_D2_match * had_b_jet_match * ~lep_b_jet_match,\n",
    "    \"b_matched(lep.t)\" : ~had_ws_D1_match * ~had_ws_D2_match * ~had_b_jet_match * lep_b_jet_match,\n",
    "    \n",
    "    \"bb_matched\"       : ~had_ws_D1_match * ~had_ws_D2_match * had_b_jet_match * lep_b_jet_match,\n",
    "    \"bb + q_matched\"       : (~had_ws_D1_match * had_ws_D2_match * had_b_jet_match * lep_b_jet_match) | (had_ws_D1_match * ~had_ws_D2_match * had_b_jet_match * lep_b_jet_match),\n",
    "    \"bb + W_matched\"       : had_ws_D1_match * had_ws_D2_match * had_b_jet_match * lep_b_jet_match,\n",
    "    \n",
    "    \"q_matched(had.W)\" : (~had_ws_D1_match * had_ws_D2_match * ~had_b_jet_match * ~lep_b_jet_match) | (had_ws_D1_match * ~had_ws_D2_match * ~had_b_jet_match * ~lep_b_jet_match),\n",
    "    \n",
    "    \"unmatched\" : ~had_ws_D1_match * ~had_ws_D2_match * ~had_b_jet_match * ~lep_b_jet_match,\n",
    "}"
   ]
  },
  {
   "cell_type": "code",
   "execution_count": 75,
   "metadata": {},
   "outputs": [
    {
     "data": {
      "text/plain": [
       "1270"
      ]
     },
     "execution_count": 75,
     "metadata": {},
     "output_type": "execute_result"
    }
   ],
   "source": [
    "len(match_dict[\"unmatched\"])"
   ]
  },
  {
   "cell_type": "code",
   "execution_count": 76,
   "metadata": {},
   "outputs": [
    {
     "data": {
      "text/plain": [
       "291"
      ]
     },
     "execution_count": 76,
     "metadata": {},
     "output_type": "execute_result"
    }
   ],
   "source": [
    "np.sum(match_dict[\"unmatched\"])"
   ]
  },
  {
   "cell_type": "code",
   "execution_count": 77,
   "metadata": {},
   "outputs": [
    {
     "data": {
      "text/plain": [
       "292"
      ]
     },
     "execution_count": 77,
     "metadata": {},
     "output_type": "execute_result"
    }
   ],
   "source": [
    "np.sum(match_dict[\"top_matched(t->bq)\"])"
   ]
  },
  {
   "cell_type": "code",
   "execution_count": 78,
   "metadata": {},
   "outputs": [
    {
     "name": "stdout",
     "output_type": "stream",
     "text": [
      "1270\n"
     ]
    }
   ],
   "source": [
    "len_n = 0\n",
    "for match in match_dict:\n",
    "    len_n += np.sum(np.sum(match_dict[match]))\n",
    "print(len_n)"
   ]
  },
  {
   "cell_type": "code",
   "execution_count": 79,
   "metadata": {},
   "outputs": [
    {
     "data": {
      "image/png": "[encoded data removed]",
      "text/plain": [
       "<Figure size 1500x1500 with 1 Axes>"
      ]
     },
     "metadata": {},
     "output_type": "display_data"
    }
   ],
   "source": [
    "# make a pie-chart to visulize the fraction\n",
    "import matplotlib as mpl\n",
    "import matplotlib.pyplot as plt\n",
    "import mplhep as hep\n",
    "import boost_histogram as bh\n",
    "from cycler import cycler\n",
    "\n",
    "plt.figure(figsize=(15,15))\n",
    "ax=plt.gca()\n",
    "plt.grid()\n",
    "\n",
    "colors = plt.cm.tab20(np.linspace(0, 1, 12))\n",
    "\n",
    "W_matched_num = 0\n",
    "for match_type in match_dict:\n",
    "    if match_type.startswith(\"W_matched\"):\n",
    "        W_matched_num += np.sum(match_dict[match_type])\n",
    "\n",
    "labels = ['top_matched(t->bqq)', 'top_matched(t->bq)', 'W_matched', \"lep.b + W_matched\", \"lep.b + q_matched\" ,\"b_matched(had.t)\", \"b_matched(lep.t)\",\"bb_matched\",\"bb + q_matched\",\"bb + W_matched\", \"q_matched(had.W)\",'unmatched']\n",
    "\n",
    "sizes = []\n",
    "len_n = len(match_dict[\"unmatched\"])\n",
    "labels_with_num = []\n",
    "for label in labels:\n",
    "    if not label.startswith(\"W_matched\"):\n",
    "        size_to_add = np.sum(match_dict[label])\n",
    "        sizes.append(size_to_add)\n",
    "        labels_with_num.append(label + \":\"  + str(np.sum(match_dict[label])) + \"(\" + str(round(np.sum(match_dict[label])*100/len_n,3)) + \"%)\")\n",
    "    else:\n",
    "        size_to_add = W_matched_num\n",
    "        sizes.append(size_to_add)\n",
    "        labels_with_num.append(label + \":\"  + str(size_to_add) + \"(\" + str(round(size_to_add*100/len_n,3)) + \"%)\")\n",
    "# colors = ['#ffff00', '#2ca02c', '#ff7f0e', '#800080','red']\n",
    "# highlight some component(optional)\n",
    "explode = (0., 0, 0, 0, 0, 0,0,0,0,0, 0,0)\n",
    "# plot the pie chat\n",
    "plt.pie(sizes, labels=None, autopct='%1.3f%%', startangle=0, explode=explode, radius=1.3, colors = colors)\n",
    "plt.legend(labels_with_num, loc='lower center',fontsize = 20, ncol =3, bbox_to_anchor=(0.5, 1.15))\n",
    "# set title\n",
    "# plt.title(r'$\\ \\ Signal' + \"\" + r'\\ jet_{a}\\ decomposition $',fontsize = 30)\n",
    "# plt.title(\"ttbar(semi-lep) samples Wcb candidate jet decomposition\", fontsize = 25)\n",
    "# title_text = 'Pie Chart Example'\n",
    "\n",
    "plt.text(-2,-1.1, f\"Nevents used:{str(len_n)}\", fontsize=25)\n",
    "plt.savefig(f\"{plot_dir}/Piechart_\"+ \"wcb\" + \"_deco.pdf\", bbox_inches='tight')\n",
    "plt.show()"
   ]
  },
  {
   "cell_type": "code",
   "execution_count": 80,
   "metadata": {},
   "outputs": [
    {
     "name": "stdout",
     "output_type": "stream",
     "text": [
      "12\n"
     ]
    }
   ],
   "source": [
    "labels = ['top_matched(t->bqq)', 'top_matched(t->bq)', 'W_matched', \"lep.b + W_matched\", \"lep.b + q_matched\" ,\"b_matched(had.t)\", \"b_matched(lep.t)\",\"bb_matched\",\"bb + q_matched\",\"bb + W_matched\", \"q_matched(had.W)\",'unmatched']\n",
    "print(len(labels))"
   ]
  },
  {
   "cell_type": "markdown",
   "metadata": {},
   "source": [
    "### start to compute N(b-tag)"
   ]
  },
  {
   "cell_type": "code",
   "execution_count": 81,
   "metadata": {},
   "outputs": [
    {
     "data": {
      "text/plain": [
       "<NanoCollectionArray [[{fUniqueID: 0, ... ] type='1270 * var * struct[[\"fUniqueI...'>"
      ]
     },
     "execution_count": 81,
     "metadata": {},
     "output_type": "execute_result"
    }
   ],
   "source": [
    "files[\"TTbar_semilep\"][\"JetPUPPI\"]"
   ]
  },
  {
   "cell_type": "code",
   "execution_count": 82,
   "metadata": {},
   "outputs": [
    {
     "data": {
      "text/plain": [
       "<Array [True, True, False, False] type='4 * bool'>"
      ]
     },
     "execution_count": 82,
     "metadata": {},
     "output_type": "execute_result"
    }
   ],
   "source": [
    "files[\"TTbar_semilep\"][\"JetPUPPI\"][\"Flavor\"][2] == b_PDGID "
   ]
  },
  {
   "cell_type": "code",
   "execution_count": 83,
   "metadata": {},
   "outputs": [
    {
     "data": {
      "text/plain": [
       "2"
      ]
     },
     "execution_count": 83,
     "metadata": {},
     "output_type": "execute_result"
    }
   ],
   "source": [
    "# this should actually be used to define b-tag\n",
    "np.sum(files[\"TTbar_semilep\"][\"JetPUPPI\"][\"Flavor\"][2] == b_PDGID)"
   ]
  },
  {
   "cell_type": "code",
   "execution_count": 84,
   "metadata": {},
   "outputs": [
    {
     "data": {
      "text/plain": [
       "<NanoCollectionArray [{fUniqueID: 0, fBits: 50331648, ... ] type='4 * struct[[\"f...'>"
      ]
     },
     "execution_count": 84,
     "metadata": {},
     "output_type": "execute_result"
    }
   ],
   "source": [
    "files[\"TTbar_semilep\"][\"JetPUPPI\"][2] #a event has N jets"
   ]
  },
  {
   "cell_type": "code",
   "execution_count": 85,
   "metadata": {},
   "outputs": [],
   "source": [
    "# this should not be used\n",
    "# files[\"TTbar_semilep\"][\"Jet\"].BTag[2] #see how many jets are matched to b quark"
   ]
  },
  {
   "cell_type": "markdown",
   "metadata": {},
   "source": [
    "### now find n_b_jet"
   ]
  },
  {
   "cell_type": "code",
   "execution_count": 86,
   "metadata": {},
   "outputs": [],
   "source": [
    "def find_closest_SF_awkward(json_path, arr):\n",
    "    with open(json_path, 'r') as json_file:\n",
    "        json_SF = json.load(json_file)\n",
    "\n",
    "    # 提取 pT 和 SF 的值\n",
    "    pT_values = np.array([item['pT'] for item in json_SF])\n",
    "    SF_values = np.array([item['SF'] for item in json_SF])\n",
    "    \n",
    "    # 创建存放结果的awkward数组\n",
    "    SF_result = []\n",
    "\n",
    "    for subarr in arr:\n",
    "        sub_result = []\n",
    "        for pT_i in subarr:\n",
    "            # 查找最接近的 pT 值的索引\n",
    "            idx = (np.abs(pT_values - pT_i)).argmin()\n",
    "            # 获取对应的 SF 值\n",
    "            sub_result.append(SF_values[idx])\n",
    "        SF_result.append(sub_result)\n",
    "    \n",
    "    return ak.Array(SF_result)"
   ]
  },
  {
   "cell_type": "code",
   "execution_count": 87,
   "metadata": {},
   "outputs": [],
   "source": [
    "pT_distribution = events[\"JetPUPPI\"].PT"
   ]
  },
  {
   "cell_type": "code",
   "execution_count": 88,
   "metadata": {},
   "outputs": [],
   "source": [
    "mis_tag_udsg = {\n",
    "    \"Tight\" : 0.001,\n",
    "    \"Medium\": 0.01,\n",
    "    \"Loose\" : 0.1,\n",
    "    \"Ideal\" : 0,\n",
    "}\n",
    "\n",
    "mis_tag_c = {\n",
    "    \"Tight\" : 0.04,\n",
    "    \"Medium\": 0.13,\n",
    "    \"Loose\" : 0.3,\n",
    "    \"Ideal\" : 0,\n",
    "}"
   ]
  },
  {
   "cell_type": "code",
   "execution_count": 89,
   "metadata": {},
   "outputs": [],
   "source": [
    "# efficiency\n",
    "json_dir = \"./json/28Aug24\"\n",
    "b_tag_eff_loose  =  find_closest_SF_awkward(json_path=f\"{json_dir}/b_tag_eff_loose.json\"  , arr = pT_distribution)\n",
    "b_tag_eff_medium =  find_closest_SF_awkward(json_path=f\"{json_dir}/b_tag_eff_medium.json\" , arr = pT_distribution)\n",
    "b_tag_eff_tight  =  find_closest_SF_awkward(json_path=f\"{json_dir}/b_tag_eff_tight.json\"  , arr = pT_distribution)\n",
    "b_tag_eff_ideal  =  ak.ones_like(b_tag_eff_tight)"
   ]
  },
  {
   "cell_type": "code",
   "execution_count": 90,
   "metadata": {},
   "outputs": [],
   "source": [
    "# mistag\n",
    "mistag_bvsl_loose  = mis_tag_udsg[\"Loose\"]  * ak.ones_like(b_tag_eff_ideal)\n",
    "mistag_bvsl_medium = mis_tag_udsg[\"Medium\"] * ak.ones_like(b_tag_eff_ideal)\n",
    "mistag_bvsl_tight  = mis_tag_udsg[\"Tight\"]  * ak.ones_like(b_tag_eff_ideal)\n",
    "mistag_bvsl_ideal  = mis_tag_udsg[\"Ideal\"]  * ak.ones_like(b_tag_eff_ideal)\n",
    "\n",
    "mistag_bvsc_loose  = mis_tag_c[\"Loose\"]  * ak.ones_like(b_tag_eff_ideal)\n",
    "mistag_bvsc_medium = mis_tag_c[\"Medium\"] * ak.ones_like(b_tag_eff_ideal)\n",
    "mistag_bvsc_tight  = mis_tag_c[\"Tight\"]  * ak.ones_like(b_tag_eff_ideal)\n",
    "mistag_bvsc_ideal  = mis_tag_c[\"Ideal\"]  * ak.ones_like(b_tag_eff_ideal)"
   ]
  },
  {
   "cell_type": "code",
   "execution_count": 91,
   "metadata": {},
   "outputs": [],
   "source": [
    "shape = ak.num(pT_distribution)\n",
    "# 生成一个与输入awkward数组形状相同的、在0-1之间均匀分布的随机数awkward数组\n",
    "b_tag_eff_random = ak.Array([np.random.uniform(0, 1, length) for length in shape])\n",
    "mistag_eff_random = ak.Array([np.random.uniform(0, 1, length) for length in shape])"
   ]
  },
  {
   "cell_type": "code",
   "execution_count": 92,
   "metadata": {},
   "outputs": [],
   "source": [
    "def compare_awkward_arrays(arr, arr2):\n",
    "    # 逐元素比较 arr2 和 arr，生成布尔awkward数组，条件满足时填1，否则填0\n",
    "    arr_bool = ak.Array([np.where(a2 < a, 1, 0) for a, a2 in zip(arr, arr2)])\n",
    "    return arr_bool"
   ]
  },
  {
   "cell_type": "code",
   "execution_count": 93,
   "metadata": {},
   "outputs": [],
   "source": [
    "b_tag_tight  = compare_awkward_arrays(b_tag_eff_tight,  b_tag_eff_random)\n",
    "b_tag_medium = compare_awkward_arrays(b_tag_eff_medium, b_tag_eff_random)\n",
    "b_tag_loose  = compare_awkward_arrays(b_tag_eff_loose,  b_tag_eff_random)\n",
    "b_tag_ideal  = compare_awkward_arrays(b_tag_eff_ideal,  b_tag_eff_random)\n",
    "\n",
    "mis_tag_udsg_tight  = compare_awkward_arrays(mistag_bvsl_tight  ,  mistag_eff_random)\n",
    "mis_tag_udsg_medium = compare_awkward_arrays(mistag_bvsl_medium ,  mistag_eff_random)\n",
    "mis_tag_udsg_loose  = compare_awkward_arrays(mistag_bvsl_loose  ,  mistag_eff_random)\n",
    "mis_tag_udsg_ideal  = compare_awkward_arrays(mistag_bvsl_ideal  ,  mistag_eff_random)\n",
    "\n",
    "mis_tag_c_tight  = compare_awkward_arrays(mistag_bvsc_tight   ,  mistag_eff_random)\n",
    "mis_tag_c_medium = compare_awkward_arrays(mistag_bvsc_medium  ,  mistag_eff_random)\n",
    "mis_tag_c_loose  = compare_awkward_arrays(mistag_bvsc_loose   ,  mistag_eff_random)\n",
    "mis_tag_c_ideal  = compare_awkward_arrays(mistag_bvsc_ideal   ,  mistag_eff_random)\n"
   ]
  },
  {
   "cell_type": "markdown",
   "metadata": {},
   "source": [
    "### Continue"
   ]
  },
  {
   "cell_type": "code",
   "execution_count": 94,
   "metadata": {},
   "outputs": [],
   "source": [
    "b_tag_gen      = ak.values_astype((files[\"TTbar_semilep\"][\"JetPUPPI\"].Flavor ==  b_PDGID), int)\n",
    "c_tag_gen      = ak.values_astype((files[\"TTbar_semilep\"][\"JetPUPPI\"].Flavor ==  c_PDGID), int)\n",
    "light_tag_gen  = ak.values_astype((files[\"TTbar_semilep\"][\"JetPUPPI\"].Flavor !=  b_PDGID) & ((files[\"TTbar_semilep\"][\"JetPUPPI\"].Flavor !=  c_PDGID)), int)\n"
   ]
  },
  {
   "cell_type": "markdown",
   "metadata": {},
   "source": [
    "### Now we still have to do the clean from AK8"
   ]
  },
  {
   "cell_type": "code",
   "execution_count": 95,
   "metadata": {},
   "outputs": [],
   "source": [
    "dr_AK8_cand_AK4_all = delta_r(candidate_fatjets,files[\"TTbar_semilep\"][\"JetPUPPI\"])"
   ]
  },
  {
   "cell_type": "code",
   "execution_count": 96,
   "metadata": {},
   "outputs": [],
   "source": [
    "b_exclusive = ak.values_astype((dr_AK8_cand_AK4_all > 0.8), int)"
   ]
  },
  {
   "cell_type": "code",
   "execution_count": 97,
   "metadata": {},
   "outputs": [],
   "source": [
    "# truth match and correctly tagged\n",
    "b_tag_tight_truth =  b_exclusive * b_tag_gen * b_tag_tight\n",
    "b_tag_medium_truth = b_exclusive * b_tag_gen * b_tag_medium\n",
    "b_tag_loose_truth =  b_exclusive * b_tag_gen * b_tag_loose\n",
    "b_tag_ideal_truth =  b_exclusive * b_tag_gen * b_tag_ideal\n",
    "\n",
    "# mis-tag\n",
    "c_mis_tag_tight_truth  =  b_exclusive * c_tag_gen * mis_tag_c_tight \n",
    "c_mis_tag_medium_truth =  b_exclusive * c_tag_gen * mis_tag_c_medium\n",
    "c_mis_tag_loose_truth  =  b_exclusive * c_tag_gen * mis_tag_c_loose \n",
    "c_mis_tag_ideal_truth  =  b_exclusive * c_tag_gen * mis_tag_c_ideal \n",
    "\n",
    "light_mis_tag_tight_truth  =  b_exclusive * light_tag_gen * mis_tag_udsg_tight \n",
    "light_mis_tag_medium_truth =  b_exclusive * light_tag_gen * mis_tag_udsg_medium\n",
    "light_mis_tag_loose_truth  =  b_exclusive * light_tag_gen * mis_tag_udsg_loose \n",
    "light_mis_tag_ideal_truth  =  b_exclusive * light_tag_gen * mis_tag_udsg_ideal "
   ]
  },
  {
   "cell_type": "code",
   "execution_count": 98,
   "metadata": {},
   "outputs": [],
   "source": [
    "tight_tagged_b_jet_idx  = b_tag_tight_truth  + c_mis_tag_tight_truth  + light_mis_tag_tight_truth\n",
    "medium_tagged_b_jet_idx = b_tag_medium_truth + c_mis_tag_medium_truth + light_mis_tag_medium_truth\n",
    "loose_tagged_b_jet_idx  = b_tag_loose_truth  + c_mis_tag_loose_truth  + light_mis_tag_loose_truth\n",
    "ideal_tagged_b_jet_idx  = b_tag_ideal_truth  + c_mis_tag_ideal_truth  + light_mis_tag_ideal_truth\n",
    "\n",
    "n_b_tight  = ak.sum(tight_tagged_b_jet_idx, axis = 1)  \n",
    "n_b_medium = ak.sum(medium_tagged_b_jet_idx, axis = 1) \n",
    "n_b_loose  = ak.sum(loose_tagged_b_jet_idx, axis = 1)  \n",
    "n_b_ideal  = ak.sum(ideal_tagged_b_jet_idx, axis = 1)  "
   ]
  },
  {
   "cell_type": "markdown",
   "metadata": {},
   "source": [
    "### Select b-jets information according to the idx"
   ]
  },
  {
   "cell_type": "code",
   "execution_count": 99,
   "metadata": {},
   "outputs": [],
   "source": [
    "has_two_tight_b =  (n_b_tight == 2)\n",
    "has_two_medium_b = (n_b_medium == 2)\n",
    "has_two_loose_b =  (n_b_loose == 2)\n",
    "has_two_ideal_b =  (n_b_ideal == 2)"
   ]
  },
  {
   "cell_type": "code",
   "execution_count": 100,
   "metadata": {},
   "outputs": [],
   "source": [
    "def get_two_b_jet(JetArr, tagged_b_jet_idx, has_two_b):\n",
    "    b_jets = ak.where(tagged_b_jet_idx == 1, JetArr, -99)\n",
    "    filtered_jets = ak.mask(b_jets, has_two_b)\n",
    "    is_none = ak.is_none(filtered_jets)\n",
    "    res = ak.where(is_none, -99, filtered_jets)\n",
    "    \n",
    "    def filter_jets(subarray):\n",
    "    # 如果是数字 0（代表之前是 None），直接返回 0\n",
    "        if type(subarray) == int:\n",
    "            return -99\n",
    "        # 对于非空子数组，提取其中的 Jet 元素\n",
    "        jets_only = [item for item in subarray if type(item) != int]\n",
    "        # 如果找到两个 Jet 元素，则返回它们，如果少于两个，返回找到的内容\n",
    "        return jets_only[:2] if len(jets_only) >= 2 else jets_only\n",
    "\n",
    "    # 3. 使用 map 操作将函数应用于每个子数组\n",
    "    result = ak.Array([filter_jets(subarray) for subarray in res])\n",
    "\n",
    "    def extract_first_jet(subarray):\n",
    "        if type(subarray) == int:  # 如果该位置是 0，则返回 0\n",
    "            return -99\n",
    "        else:\n",
    "            return subarray[0]  # 返回子数组中的第一个 Jet\n",
    "    \n",
    "    def extract_second_jet(subarray):\n",
    "        if type(subarray) == int:  # 如果该位置是 0，则返回 0\n",
    "            return -99\n",
    "        else:\n",
    "            return subarray[1]  # 返回子数组中的第一个 Jet\n",
    "\n",
    "    # 使用列表推导式遍历 Awkward 数组并提取第一个 Jet 或保留 0\n",
    "    result_first  = ak.Array([extract_first_jet(subarray) for subarray in result])\n",
    "    result_second = ak.Array([extract_second_jet(subarray) for subarray in result])\n",
    "\n",
    "    return result_first, result_second\n",
    "\n",
    "    "
   ]
  },
  {
   "cell_type": "code",
   "execution_count": 101,
   "metadata": {},
   "outputs": [],
   "source": [
    "# b_jets = ak.where(ideal_tagged_b_jet_idx == 1, JetArr, -99)\n",
    "# filtered_jets = ak.mask(b_jets, has_two_tight_b)\n",
    "# is_none = ak.is_none(filtered_jets)\n",
    "# res = ak.where(is_none, -99, filtered_jets)"
   ]
  },
  {
   "cell_type": "code",
   "execution_count": 102,
   "metadata": {},
   "outputs": [],
   "source": [
    "# res"
   ]
  },
  {
   "cell_type": "code",
   "execution_count": 103,
   "metadata": {},
   "outputs": [],
   "source": [
    "# # 2. 定义一个函数，只保留子数组中的 Jet 对象，忽略 0\n",
    "# def filter_jets(subarray):\n",
    "#     # 如果是数字 0（代表之前是 None），直接返回 0\n",
    "#     if type(subarray) == int:\n",
    "#         return -99\n",
    "#     # 对于非空子数组，提取其中的 Jet 元素\n",
    "#     jets_only = [item for item in subarray if type(item) != int]\n",
    "#     # 如果找到两个 Jet 元素，则返回它们，如果少于两个，返回找到的内容\n",
    "#     return jets_only[:2] if len(jets_only) >= 2 else jets_only\n",
    "\n",
    "# # 3. 使用 map 操作将函数应用于每个子数组\n",
    "# result = ak.Array([filter_jets(subarray) for subarray in res])\n",
    "\n",
    "# # 输出结果\n",
    "# print(result)"
   ]
  },
  {
   "cell_type": "code",
   "execution_count": 104,
   "metadata": {},
   "outputs": [],
   "source": [
    "# result[-1]"
   ]
  },
  {
   "cell_type": "code",
   "execution_count": 105,
   "metadata": {},
   "outputs": [],
   "source": [
    "# def extract_first_jet(subarray):\n",
    "#     if type(subarray) == int:  # 如果该位置是 0，则返回 0\n",
    "#         return -99\n",
    "#     else:\n",
    "#         return subarray[0]  # 返回子数组中的第一个 Jet\n",
    "\n",
    "# # 使用列表推导式遍历 Awkward 数组并提取第一个 Jet 或保留 0\n",
    "# result_2 = ak.Array([extract_first_jet(subarray) for subarray in result])\n"
   ]
  },
  {
   "cell_type": "code",
   "execution_count": 106,
   "metadata": {},
   "outputs": [],
   "source": [
    "# def get_two_b_jet(ArrayJet,has_two_b,tagged_b_jets_idx):\n",
    "#     filtered_jets = ArrayJet[has_two_b]\n",
    "    \n",
    "#     # 筛选出tight_tagged_b_jet_idx中值为1的位置，这些位置表示b jet\n",
    "#     b_jet_indices = tagged_b_jets_idx[has_two_b]\n",
    "    \n",
    "#     # 使用b_jet_indices提取b jet\n",
    "#     b_jets = filtered_jets[b_jet_indices == 1]\n",
    "    \n",
    "#     # 将b jet分成两个数组a和b\n",
    "#     # 假设每个符合条件的事例有且仅有两个b jet\n",
    "#     first_jets  = b_jets[:, 0]  # 提取每个事例的第一个b jet\n",
    "#     second_jets = b_jets[:, 1]  # 提取每个事例的第二个b jet\n",
    "    \n",
    "#     return first_jets, second_jets"
   ]
  },
  {
   "cell_type": "code",
   "execution_count": 107,
   "metadata": {},
   "outputs": [],
   "source": [
    "JetArr = files[\"TTbar_semilep\"][\"JetPUPPI\"]\n",
    "# tight_a, tight_b   = get_two_b_jet(JetArr, has_two_tight_b ,  tight_tagged_b_jet_idx)\n",
    "# medium_a, medium_b = get_two_b_jet(JetArr, has_two_medium_b , medium_tagged_b_jet_idx)\n",
    "# loose_a, loose_b   = get_two_b_jet(JetArr, has_two_loose_b ,  loose_tagged_b_jet_idx)\n",
    "# ideal_a, ideal_b   = get_two_b_jet(JetArr, has_two_ideal_b ,  ideal_tagged_b_jet_idx)"
   ]
  },
  {
   "cell_type": "code",
   "execution_count": 108,
   "metadata": {},
   "outputs": [],
   "source": [
    "tight_a, tight_b   = get_two_b_jet(JetArr,   tight_tagged_b_jet_idx, has_two_tight_b)\n",
    "medium_a, medium_b = get_two_b_jet(JetArr, medium_tagged_b_jet_idx, has_two_medium_b)\n",
    "loose_a, loose_b   = get_two_b_jet(JetArr, loose_tagged_b_jet_idx, has_two_loose_b )\n",
    "ideal_a, ideal_b   = get_two_b_jet(JetArr, ideal_tagged_b_jet_idx, has_two_ideal_b )"
   ]
  },
  {
   "cell_type": "code",
   "execution_count": 109,
   "metadata": {},
   "outputs": [],
   "source": [
    "def process_jets(jet1, jet2):\n",
    "    if type(jet1) == int and type(jet2) == int:  # 如果两个数组的当前位置都是 0\n",
    "        return -99\n",
    "    elif type(jet1) != int and type(jet2) != int:  # 如果是 Jet 对象\n",
    "        return delta_r(jet1, jet2)  # 返回 Jet1.Eta - Jet2.Eta\n",
    "    else:\n",
    "        raise ValueError(\"Arrays do not match in shape or type.\")\n"
   ]
  },
  {
   "cell_type": "code",
   "execution_count": 110,
   "metadata": {},
   "outputs": [],
   "source": [
    "def process_jets_deta(jet1, jet2):\n",
    "    if type(jet1) == int and type(jet2) == int:  # 如果两个数组的当前位置都是 0\n",
    "        return -99\n",
    "    elif type(jet1) != int and type(jet2) != int:  # 如果是 Jet 对象\n",
    "        return jet1.Eta - jet2.Eta  # 返回 Jet1.Eta - Jet2.Eta\n",
    "    else:\n",
    "        raise ValueError(\"Arrays do not match in shape or type.\")\n",
    "\n",
    "def process_jets_product_eta(jet1, jet2):\n",
    "    if type(jet1) == int and type(jet2) == int:  # 如果两个数组的当前位置都是 0\n",
    "        return -99\n",
    "    elif type(jet1) != int and type(jet2) != int:  # 如果是 Jet 对象\n",
    "        return jet1.Eta * jet2.Eta  # 返回 Jet1.Eta - Jet2.Eta\n",
    "    else:\n",
    "        raise ValueError(\"Arrays do not match in shape or type.\")"
   ]
  },
  {
   "cell_type": "code",
   "execution_count": 111,
   "metadata": {},
   "outputs": [],
   "source": [
    "def process_jets_between_b1_Wcb(jet1, jet2, Wcb):\n",
    "    if type(jet1) == int and type(jet2) == int:  # 如果两个数组的当前位置都是 0\n",
    "        return -99\n",
    "    elif type(jet1) != int and type(jet2) != int:  # 如果是 Jet 对象\n",
    "        return delta_r(jet1, Wcb)  # 返回 Jet1.Eta - Jet2.Eta\n",
    "    else:\n",
    "        raise ValueError(\"Arrays do not match in shape or type.\")\n",
    "\n",
    "def process_jets_between_b2_Wcb(jet1, jet2, Wcb):\n",
    "    if type(jet1) == int and type(jet2) == int:  # 如果两个数组的当前位置都是 0\n",
    "        return -99\n",
    "    elif type(jet1) != int and type(jet2) != int:  # 如果是 Jet 对象\n",
    "        return delta_r(jet2, Wcb)  # 返回 Jet1.Eta - Jet2.Eta\n",
    "    else:\n",
    "        raise ValueError(\"Arrays do not match in shape or type.\")"
   ]
  },
  {
   "cell_type": "code",
   "execution_count": 112,
   "metadata": {},
   "outputs": [],
   "source": [
    "delta_r_tight  = ak.Array([process_jets(jet1, jet2) for jet1, jet2 in zip(tight_a, tight_b  )])\n",
    "delta_r_medium = ak.Array([process_jets(jet1, jet2) for jet1, jet2 in zip(medium_a, medium_b)])\n",
    "delta_r_loose  = ak.Array([process_jets(jet1, jet2) for jet1, jet2 in zip(loose_a, loose_b  )])\n",
    "delta_r_ideal  = ak.Array([process_jets(jet1, jet2) for jet1, jet2 in zip(ideal_a, ideal_b  )])"
   ]
  },
  {
   "cell_type": "code",
   "execution_count": 113,
   "metadata": {},
   "outputs": [],
   "source": [
    "delta_eta_tight       = ak.Array([process_jets_deta(jet1, jet2) for jet1, jet2 in zip(tight_a, tight_b  )])\n",
    "delta_eta_medium      = ak.Array([process_jets_deta(jet1, jet2) for jet1, jet2 in zip(medium_a, medium_b)])\n",
    "delta_eta_loose       = ak.Array([process_jets_deta(jet1, jet2) for jet1, jet2 in zip(loose_a, loose_b  )])\n",
    "delta_eta_ideal       = ak.Array([process_jets_deta(jet1, jet2) for jet1, jet2 in zip(ideal_a, ideal_b  )])\n",
    "\n",
    "delta_prod_eta_tight  = ak.Array([process_jets_product_eta(jet1, jet2) for jet1, jet2 in zip(tight_a, tight_b  )])\n",
    "delta_prod_eta_medium = ak.Array([process_jets_product_eta(jet1, jet2) for jet1, jet2 in zip(medium_a, medium_b)])\n",
    "delta_prod_eta_loose  = ak.Array([process_jets_product_eta(jet1, jet2) for jet1, jet2 in zip(loose_a, loose_b  )])\n",
    "delta_prod_eta_ideal  = ak.Array([process_jets_product_eta(jet1, jet2) for jet1, jet2 in zip(ideal_a, ideal_b  )])"
   ]
  },
  {
   "cell_type": "code",
   "execution_count": 114,
   "metadata": {},
   "outputs": [
    {
     "data": {
      "text/plain": [
       "<Array [-99, -99, -99, -99, ... -99, 3.28, -99] type='1270 * float64'>"
      ]
     },
     "execution_count": 114,
     "metadata": {},
     "output_type": "execute_result"
    }
   ],
   "source": [
    "delta_r_tight"
   ]
  },
  {
   "cell_type": "code",
   "execution_count": 115,
   "metadata": {},
   "outputs": [],
   "source": [
    "delta_r1_Wcb_tight  = ak.Array([process_jets_between_b1_Wcb(jet1, jet2, Wcb) for jet1, jet2, Wcb in zip(tight_a, tight_b  , candidate_fatjets)])\n",
    "delta_r1_Wcb_medium = ak.Array([process_jets_between_b1_Wcb(jet1, jet2, Wcb) for jet1, jet2, Wcb in zip(medium_a, medium_b, candidate_fatjets)])\n",
    "delta_r1_Wcb_loose  = ak.Array([process_jets_between_b1_Wcb(jet1, jet2, Wcb) for jet1, jet2, Wcb in zip(loose_a, loose_b  , candidate_fatjets)])\n",
    "delta_r1_Wcb_ideal  = ak.Array([process_jets_between_b1_Wcb(jet1, jet2, Wcb) for jet1, jet2, Wcb in zip(ideal_a, ideal_b  , candidate_fatjets)])"
   ]
  },
  {
   "cell_type": "code",
   "execution_count": 116,
   "metadata": {},
   "outputs": [],
   "source": [
    "delta_r2_Wcb_tight  = ak.Array([process_jets_between_b2_Wcb(jet1, jet2, Wcb) for jet1, jet2, Wcb in zip(tight_a, tight_b  , candidate_fatjets)])\n",
    "delta_r2_Wcb_medium = ak.Array([process_jets_between_b2_Wcb(jet1, jet2, Wcb) for jet1, jet2, Wcb in zip(medium_a, medium_b, candidate_fatjets)])\n",
    "delta_r2_Wcb_loose  = ak.Array([process_jets_between_b2_Wcb(jet1, jet2, Wcb) for jet1, jet2, Wcb in zip(loose_a, loose_b  , candidate_fatjets)])\n",
    "delta_r2_Wcb_ideal  = ak.Array([process_jets_between_b2_Wcb(jet1, jet2, Wcb) for jet1, jet2, Wcb in zip(ideal_a, ideal_b  , candidate_fatjets)])"
   ]
  },
  {
   "cell_type": "code",
   "execution_count": 117,
   "metadata": {},
   "outputs": [],
   "source": [
    "# delta R between two b jets\n",
    "# delta_r_tight  = delta_r(tight_a, tight_b   )\n",
    "# delta_r_medium = delta_r(medium_a, medium_b )\n",
    "# delta_r_loose  = delta_r(loose_a, loose_b   )\n",
    "# delta_r_ideal  = delta_r(ideal_a, ideal_b   )"
   ]
  },
  {
   "cell_type": "code",
   "execution_count": 118,
   "metadata": {},
   "outputs": [],
   "source": [
    "# delta R between b and Wcb candidate\n",
    "\n",
    "# delta_r1_tight  = delta_r(tight_a, candidate_fatjets[has_two_tight_b])\n",
    "# delta_r2_tight  = delta_r(tight_b, candidate_fatjets[has_two_tight_b])\n",
    "\n",
    "# delta_r1_medium = delta_r(medium_a, candidate_fatjets[has_two_medium_b])\n",
    "# delta_r2_medium = delta_r(medium_b, candidate_fatjets[has_two_medium_b])\n",
    "\n",
    "# delta_r1_loose  = delta_r(loose_a, candidate_fatjets[has_two_loose_b])\n",
    "# delta_r2_loose  = delta_r(loose_b, candidate_fatjets[has_two_loose_b])\n",
    "\n",
    "# delta_r1_ideal  = delta_r(ideal_a, candidate_fatjets[has_two_ideal_b])\n",
    "# delta_r2_ideal  = delta_r(ideal_b, candidate_fatjets[has_two_ideal_b])"
   ]
  },
  {
   "cell_type": "code",
   "execution_count": 119,
   "metadata": {},
   "outputs": [],
   "source": [
    "# files[\"TTbar_semilep\"][\"Jet\"][has_two_tight_b]"
   ]
  },
  {
   "cell_type": "markdown",
   "metadata": {},
   "source": [
    "### add output: necessary information for making plot"
   ]
  },
  {
   "cell_type": "code",
   "execution_count": 120,
   "metadata": {},
   "outputs": [
    {
     "name": "stderr",
     "output_type": "stream",
     "text": [
      "/home/pku/zhaoyz/anaconda3/envs/lpr/lib/python3.9/site-packages/awkward/_connect/_numpy.py:197: RuntimeWarning: invalid value encountered in sqrt\n",
      "  result = getattr(ufunc, method)(\n"
     ]
    }
   ],
   "source": [
    "input_file = delphes_roots[\"TTbar_semilep\"]\n",
    "output_file = \"/data/bond/zhaoyz/Pheno/slimmedtree/slim_\" + delphes_roots[\"TTbar_semilep\"].split(\"/\")[-1] \n",
    "with uproot.recreate(output_file) as root_file:\n",
    "    root_file[\"PKUTree\"] = {\n",
    "        \"PT_j\": np.array(candidate_fatjets.PT),\n",
    "        \"Eta_j\": np.array(candidate_fatjets.Eta),\n",
    "        \"Phi_j\": np.array(candidate_fatjets.Phi),\n",
    "        \"Mass_j\": np.array(candidate_fatjets.Mass),\n",
    "        \"Mass_j_sd\": np.array(candidate_fatjets.SoftDroppedP4_5[...,0].mass),\n",
    "        \n",
    "        \"n_b_tight\" : np.array(n_b_tight),\n",
    "        \"n_b_medium\" : np.array(n_b_medium),\n",
    "        \"n_b_loose\" : np.array(n_b_loose),\n",
    "        \"n_b_ideal\" : np.array(n_b_ideal),  \n",
    "\n",
    "        \"delta_r_tight \" : np.array(delta_r_tight ),\n",
    "        \"delta_r_medium\" : np.array(delta_r_medium),\n",
    "        \"delta_r_loose \" : np.array(delta_r_loose ),\n",
    "        \"delta_r_ideal \" : np.array(delta_r_ideal ), \n",
    "        \n",
    "        \"delta_r1_Wcb_tight\" : np.array(delta_r1_Wcb_tight ),\n",
    "        \"delta_r1_Wcb_medium\": np.array(delta_r1_Wcb_medium),\n",
    "        \"delta_r1_Wcb_loose\" : np.array(delta_r1_Wcb_loose ),\n",
    "        \"delta_r1_Wcb_ideal\" : np.array(delta_r1_Wcb_ideal ),       \n",
    "              \n",
    "        \"delta_r2_Wcb_tight\" : np.array(delta_r2_Wcb_tight ),\n",
    "        \"delta_r2_Wcb_medium\": np.array(delta_r2_Wcb_medium),\n",
    "        \"delta_r2_Wcb_loose\" : np.array(delta_r2_Wcb_loose ),\n",
    "        \"delta_r2_Wcb_ideal\" : np.array(delta_r2_Wcb_ideal ),    \n",
    "        \n",
    "        \"delta_eta_tight\"  :  np.array(delta_eta_tight),  \n",
    "        \"delta_eta_medium\" :  np.array(delta_eta_medium),  \n",
    "        \"delta_eta_loose\"  :  np.array(delta_eta_loose),  \n",
    "        \"delta_eta_ideal\"  :  np.array(delta_eta_ideal),  \n",
    "\n",
    "        \"delta_prod_eta_tight\" : np.array(delta_prod_eta_tight),\n",
    "        \"delta_prod_eta_medium\": np.array(delta_prod_eta_medium),\n",
    "        \"delta_prod_eta_loose\" : np.array(delta_prod_eta_loose),\n",
    "        \"delta_prod_eta_ideal\" : np.array(delta_prod_eta_ideal),  \n",
    "              \n",
    "        \n",
    "        \"top_matched_bqq\" : ak.Array(np.array(match_dict[\"top_matched(t->bqq)\"]).astype(int)),\n",
    "        \"top_matched_bq\" : ak.Array(np.array(match_dict[\"top_matched(t->bq)\"]).astype(int)),\n",
    "        \n",
    "        \"lep_b_qq\" : ak.Array(np.array(match_dict[\"lep.b + W_matched\"]).astype(int)),\n",
    "        \"lep_b_q\" : ak.Array(np.array(match_dict[\"lep.b + q_matched\"]).astype(int)),\n",
    "        \n",
    "        \"w_matched_cd\" : ak.Array(np.array(match_dict[\"W_matched(W->cd)\"]).astype(int)),\n",
    "        \"w_matched_cs\" : ak.Array(np.array(match_dict[\"W_matched(W->cs)\"]).astype(int)),\n",
    "        \"w_matched_cb\" : ak.Array(np.array(match_dict[\"W_matched(W->cb)\"]).astype(int)),\n",
    "        \"w_matched_ud\" : ak.Array(np.array(match_dict[\"W_matched(W->ud)\"]).astype(int)),\n",
    "        \"w_matched_ub\" : ak.Array(np.array(match_dict[\"W_matched(W->ub)\"]).astype(int)),\n",
    "        \"w_matched_us\" : ak.Array(np.array(match_dict[\"W_matched(W->us)\"]).astype(int)),\n",
    "        \n",
    "        \"b_matched_had\" : ak.Array(np.array(match_dict[\"b_matched(had.t)\"]).astype(int)),\n",
    "        \"b_matched_lep\" : ak.Array(np.array(match_dict[\"b_matched(lep.t)\"]).astype(int)),\n",
    "        \n",
    "        \"bb_matched\" : ak.Array(np.array(match_dict[\"bb_matched\"]).astype(int)),\n",
    "        \"bb_q\" : ak.Array(np.array(match_dict[\"bb + q_matched\"]).astype(int)),\n",
    "        \"bb_qq\" : ak.Array(np.array(match_dict[\"bb + W_matched\"]).astype(int)),\n",
    "        \n",
    "        \"q_matched\" : ak.Array(np.array(match_dict[\"q_matched(had.W)\"]).astype(int)),        \n",
    "        \n",
    "        \"unmatched\" : ak.Array(np.array(match_dict[\"unmatched\"]).astype(int)),\n",
    "        \n",
    "        \"isWcb\" : ak.Array(np.array(wcb).astype(int)),\n",
    "        \"lep_b_in\" : ak.Array(np.array(lep_b_jet_match).astype(int)),\n",
    "        \"had_b_in\" : ak.Array(np.array(had_b_jet_match).astype(int)),\n",
    "        \"NAK8\" : ak.num(events.JetPUPPIAK8.Eta, axis = 1),\n",
    "        \"NAK4\" : ak.num(events.JetPUPPI.Eta, axis = 1),\n",
    "        \"hbcvsqcd\" : np.array(leading_hbcvsqcd),\n",
    "        \"hbc\" : np.array(leading_hbc),\n",
    "        \"qcd\" : np.array(leading_qcd),\n",
    "        \"hbq\" : np.array(leading_hbq),\n",
    "    }"
   ]
  },
  {
   "cell_type": "code",
   "execution_count": 121,
   "metadata": {},
   "outputs": [
    {
     "data": {
      "text/plain": [
       "49868000"
      ]
     },
     "execution_count": 121,
     "metadata": {},
     "output_type": "execute_result"
    }
   ],
   "source": [
    "137*364*1000"
   ]
  },
  {
   "cell_type": "code",
   "execution_count": null,
   "metadata": {},
   "outputs": [],
   "source": []
  },
  {
   "cell_type": "markdown",
   "metadata": {},
   "source": [
    "### Examine b match problem"
   ]
  },
  {
   "cell_type": "code",
   "execution_count": 122,
   "metadata": {},
   "outputs": [
    {
     "name": "stdout",
     "output_type": "stream",
     "text": [
      "[False, False, True, True, False, True, False, True, False, False]\n"
     ]
    }
   ],
   "source": [
    "print(match_dict[\"top_matched(t->bq)\"][:10])"
   ]
  },
  {
   "cell_type": "code",
   "execution_count": 123,
   "metadata": {},
   "outputs": [
    {
     "name": "stdout",
     "output_type": "stream",
     "text": [
      "[1, 5, 21, 21, 21]\n"
     ]
    }
   ],
   "source": [
    "print(files[\"TTbar_semilep\"][\"JetPUPPI\"].Flavor[6])"
   ]
  },
  {
   "cell_type": "code",
   "execution_count": 125,
   "metadata": {},
   "outputs": [
    {
     "name": "stdout",
     "output_type": "stream",
     "text": [
      "[2.2, 1.54, 5.24, 1.92, 2.49]\n"
     ]
    }
   ],
   "source": [
    "dR_had_b_AK4 = delta_r(bs_had, files[\"TTbar_semilep\"][\"JetPUPPI\"])[6]\n",
    "print(dR_had_b_AK4)"
   ]
  },
  {
   "cell_type": "code",
   "execution_count": 168,
   "metadata": {},
   "outputs": [
    {
     "name": "stdout",
     "output_type": "stream",
     "text": [
      "[2.65, 0.0404, 4.31, 1.03, 1.99]\n"
     ]
    }
   ],
   "source": [
    "dR_lep_b_AK4 = delta_r(bs_lep, files[\"TTbar_semilep\"][\"JetPUPPI\"])[6]\n",
    "print(dR_lep_b_AK4)"
   ]
  },
  {
   "cell_type": "code",
   "execution_count": 127,
   "metadata": {},
   "outputs": [
    {
     "data": {
      "text/plain": [
       "17"
      ]
     },
     "execution_count": 127,
     "metadata": {},
     "output_type": "execute_result"
    }
   ],
   "source": [
    "problematic_evt = has_two_ideal_b * match_dict[\"top_matched(t->bq)\"]\n",
    "np.sum(problematic_evt)"
   ]
  },
  {
   "cell_type": "code",
   "execution_count": 128,
   "metadata": {},
   "outputs": [
    {
     "name": "stdout",
     "output_type": "stream",
     "text": [
      "2.6364896297454834\n"
     ]
    }
   ],
   "source": [
    "dr_Wcb_lepb = delta_r(bs_lep, candidate_fatjets)[6]\n",
    "print(dr_Wcb_lepb)"
   ]
  },
  {
   "cell_type": "code",
   "execution_count": 129,
   "metadata": {},
   "outputs": [
    {
     "name": "stdout",
     "output_type": "stream",
     "text": [
      "2.1779227256774902\n"
     ]
    }
   ],
   "source": [
    "dr_Wcb_hadb = delta_r(bs_had, candidate_fatjets)[6]\n",
    "print(dr_Wcb_hadb)"
   ]
  },
  {
   "cell_type": "code",
   "execution_count": 131,
   "metadata": {},
   "outputs": [
    {
     "name": "stdout",
     "output_type": "stream",
     "text": [
      "[0.0201, 2.68, 3.99, 2.9, 1.49]\n"
     ]
    }
   ],
   "source": [
    "dr_Wcb_AK4 = delta_r(files[\"TTbar_semilep\"][\"JetPUPPI\"], candidate_fatjets)[6]\n",
    "print(dr_Wcb_AK4)"
   ]
  },
  {
   "cell_type": "code",
   "execution_count": 132,
   "metadata": {},
   "outputs": [
    {
     "data": {
      "text/plain": [
       "1"
      ]
     },
     "execution_count": 132,
     "metadata": {},
     "output_type": "execute_result"
    }
   ],
   "source": [
    "n_b_ideal[6]"
   ]
  },
  {
   "cell_type": "code",
   "execution_count": 133,
   "metadata": {},
   "outputs": [
    {
     "name": "stdout",
     "output_type": "stream",
     "text": [
      "[131, 358, 385, 462, 481, 488, 496, 508, ... 678, 774, 775, 793, 895, 1097, 1230]\n"
     ]
    }
   ],
   "source": [
    "print(np.where(problematic_evt)[0])"
   ]
  },
  {
   "cell_type": "code",
   "execution_count": 134,
   "metadata": {},
   "outputs": [
    {
     "data": {
      "text/plain": [
       "False"
      ]
     },
     "execution_count": 134,
     "metadata": {},
     "output_type": "execute_result"
    }
   ],
   "source": [
    "match_dict[\"top_matched(t->bq)\"][125]"
   ]
  },
  {
   "cell_type": "code",
   "execution_count": 167,
   "metadata": {},
   "outputs": [
    {
     "data": {
      "text/plain": [
       "<Array [5, 5, 21, 4, 5, 5] type='6 * uint32[parameters={\"__doc__\": \"jet flavor\"}]'>"
      ]
     },
     "execution_count": 167,
     "metadata": {},
     "output_type": "execute_result"
    }
   ],
   "source": [
    "files[\"TTbar_semilep\"][\"JetPUPPI\"].Flavor[125]"
   ]
  },
  {
   "cell_type": "code",
   "execution_count": null,
   "metadata": {},
   "outputs": [
    {
     "data": {
      "text/plain": [
       "False"
      ]
     },
     "execution_count": 113,
     "metadata": {},
     "output_type": "execute_result"
    }
   ],
   "source": [
    "wcb[125]"
   ]
  },
  {
   "cell_type": "code",
   "execution_count": null,
   "metadata": {},
   "outputs": [
    {
     "name": "stdout",
     "output_type": "stream",
     "text": [
      "[0.0526, 3.15, 2.66, 1.52, 3.78, 3.73, 0.769, 3.01]\n"
     ]
    }
   ],
   "source": [
    "dR_had_b_AK4 = delta_r(bs_had, files[\"TTbar_semilep\"][\"Jet\"])[125]\n",
    "print(dR_had_b_AK4)"
   ]
  },
  {
   "cell_type": "code",
   "execution_count": null,
   "metadata": {},
   "outputs": [
    {
     "name": "stdout",
     "output_type": "stream",
     "text": [
      "[3.13, 0.0321, 1.11, 1.87, 1.97, 4.44, 2.44, 0.341]\n"
     ]
    }
   ],
   "source": [
    "dR_lep_b_AK4 = delta_r(bs_lep, files[\"TTbar_semilep\"][\"Jet\"])[125]\n",
    "print(dR_lep_b_AK4)"
   ]
  },
  {
   "cell_type": "code",
   "execution_count": 136,
   "metadata": {},
   "outputs": [
    {
     "name": "stdout",
     "output_type": "stream",
     "text": [
      "2.0931975841522217\n"
     ]
    }
   ],
   "source": [
    "dr_Wcb_lepb = delta_r(bs_lep, candidate_fatjets)[125]\n",
    "print(dr_Wcb_lepb)"
   ]
  },
  {
   "cell_type": "code",
   "execution_count": 137,
   "metadata": {},
   "outputs": [
    {
     "name": "stdout",
     "output_type": "stream",
     "text": [
      "0.20520398020744324\n"
     ]
    }
   ],
   "source": [
    "dr_Wcb_hadb = delta_r(bs_had, candidate_fatjets)[125]\n",
    "print(dr_Wcb_hadb)"
   ]
  },
  {
   "cell_type": "code",
   "execution_count": 141,
   "metadata": {},
   "outputs": [
    {
     "name": "stdout",
     "output_type": "stream",
     "text": [
      "[0.215, 0.286, 2.9, 0.696, 2.24, 2.41]\n"
     ]
    }
   ],
   "source": [
    "dr_Wcb_AK4 = delta_r(files[\"TTbar_semilep\"][\"JetPUPPI\"], candidate_fatjets)[125]\n",
    "print(dr_Wcb_AK4)"
   ]
  },
  {
   "cell_type": "code",
   "execution_count": 142,
   "metadata": {},
   "outputs": [
    {
     "data": {
      "text/plain": [
       "<Array [0, 0, 0, 0, 1, 1] type='6 * int64'>"
      ]
     },
     "execution_count": 142,
     "metadata": {},
     "output_type": "execute_result"
    }
   ],
   "source": [
    "ideal_tagged_b_jet_idx[125]"
   ]
  },
  {
   "cell_type": "code",
   "execution_count": 144,
   "metadata": {},
   "outputs": [
    {
     "name": "stdout",
     "output_type": "stream",
     "text": [
      "2.7005558695569984\n"
     ]
    }
   ],
   "source": [
    "dr_b1_b2 = delta_r(files[\"TTbar_semilep\"][\"JetPUPPI\"][125][-1], files[\"TTbar_semilep\"][\"JetPUPPI\"][125][1])\n",
    "print(dr_b1_b2)"
   ]
  },
  {
   "cell_type": "code",
   "execution_count": 145,
   "metadata": {},
   "outputs": [
    {
     "data": {
      "text/plain": [
       "3.3935535194323982"
      ]
     },
     "execution_count": 145,
     "metadata": {},
     "output_type": "execute_result"
    }
   ],
   "source": [
    "dr_test = delta_r_ideal[has_two_ideal_b * match_dict[\"top_matched(t->bq)\"]]\n",
    "np.max(dr_test)"
   ]
  },
  {
   "cell_type": "code",
   "execution_count": 146,
   "metadata": {},
   "outputs": [
    {
     "data": {
      "text/plain": [
       "<Array [0.514, 3.23, 2.5, ... 2.09, 0.488] type='17 * ?float64'>"
      ]
     },
     "execution_count": 146,
     "metadata": {},
     "output_type": "execute_result"
    }
   ],
   "source": [
    "dr_test"
   ]
  },
  {
   "cell_type": "markdown",
   "metadata": {},
   "source": [
    "### Evt 127"
   ]
  },
  {
   "cell_type": "code",
   "execution_count": 147,
   "metadata": {},
   "outputs": [
    {
     "data": {
      "text/plain": [
       "<Array [0, 1, 1, 0, 0, 0, 0, 1, 0] type='9 * int64'>"
      ]
     },
     "execution_count": 147,
     "metadata": {},
     "output_type": "execute_result"
    }
   ],
   "source": [
    "ideal_tagged_b_jet_idx[127]"
   ]
  },
  {
   "cell_type": "code",
   "execution_count": 151,
   "metadata": {},
   "outputs": [
    {
     "data": {
      "text/plain": [
       "<Array [21, 5, 5, 1, 21, 2, 21, 5, 2] type='9 * uint32[parameters={\"__doc__\": \"j...'>"
      ]
     },
     "execution_count": 151,
     "metadata": {},
     "output_type": "execute_result"
    }
   ],
   "source": [
    "files[\"TTbar_semilep\"][\"JetPUPPI\"].Flavor[127]"
   ]
  },
  {
   "cell_type": "code",
   "execution_count": 152,
   "metadata": {},
   "outputs": [
    {
     "data": {
      "text/plain": [
       "False"
      ]
     },
     "execution_count": 152,
     "metadata": {},
     "output_type": "execute_result"
    }
   ],
   "source": [
    "wcb[127]"
   ]
  },
  {
   "cell_type": "code",
   "execution_count": 153,
   "metadata": {},
   "outputs": [
    {
     "name": "stdout",
     "output_type": "stream",
     "text": [
      "[1.62, 2.31, 0.0733, 2, 1.58, 1.99, 2.25, 3.02, 1.53]\n"
     ]
    }
   ],
   "source": [
    "dR_had_b_AK4 = delta_r(bs_had, files[\"TTbar_semilep\"][\"JetPUPPI\"])[127]\n",
    "print(dR_had_b_AK4)"
   ]
  },
  {
   "cell_type": "code",
   "execution_count": 157,
   "metadata": {},
   "outputs": [
    {
     "name": "stdout",
     "output_type": "stream",
     "text": [
      "[2.83, 0.295, 2.62, 2.4, 1.01, 1.14, 1.31, 0.439, 1.42]\n"
     ]
    }
   ],
   "source": [
    "dR_lep_b_AK4 = delta_r(bs_lep, files[\"TTbar_semilep\"][\"JetPUPPI\"])[127]\n",
    "print(dR_lep_b_AK4)"
   ]
  },
  {
   "cell_type": "code",
   "execution_count": 158,
   "metadata": {},
   "outputs": [
    {
     "name": "stdout",
     "output_type": "stream",
     "text": [
      "2.7064175605773926\n"
     ]
    }
   ],
   "source": [
    "dr_Wcb_lepb = delta_r(bs_lep, candidate_fatjets)[127]\n",
    "print(dr_Wcb_lepb)"
   ]
  },
  {
   "cell_type": "code",
   "execution_count": 159,
   "metadata": {},
   "outputs": [
    {
     "name": "stdout",
     "output_type": "stream",
     "text": [
      "1.6961517333984375\n"
     ]
    }
   ],
   "source": [
    "dr_Wcb_hadb = delta_r(bs_had, candidate_fatjets)[127]\n",
    "print(dr_Wcb_hadb)"
   ]
  },
  {
   "cell_type": "code",
   "execution_count": 162,
   "metadata": {},
   "outputs": [
    {
     "name": "stdout",
     "output_type": "stream",
     "text": [
      "[0.184, 2.95, 1.71, 0.475, 3.07, 2.66, 3.12, 2.5, 3.11]\n"
     ]
    }
   ],
   "source": [
    "dr_Wcb_AK4 = delta_r(files[\"TTbar_semilep\"][\"JetPUPPI\"], candidate_fatjets)[127]\n",
    "print(dr_Wcb_AK4)"
   ]
  },
  {
   "cell_type": "code",
   "execution_count": 163,
   "metadata": {},
   "outputs": [
    {
     "name": "stdout",
     "output_type": "stream",
     "text": [
      "3.0595691800364198\n"
     ]
    }
   ],
   "source": [
    "dr_b1_b2 = delta_r(files[\"TTbar_semilep\"][\"JetPUPPI\"][127][2], files[\"TTbar_semilep\"][\"JetPUPPI\"][127][-2])\n",
    "print(dr_b1_b2)"
   ]
  },
  {
   "cell_type": "markdown",
   "metadata": {},
   "source": [
    "### Test signal region"
   ]
  },
  {
   "cell_type": "code",
   "execution_count": 164,
   "metadata": {},
   "outputs": [
    {
     "data": {
      "text/plain": [
       "<Array [False, False, False, ... False, False] type='1270 * ?bool'>"
      ]
     },
     "execution_count": 164,
     "metadata": {},
     "output_type": "execute_result"
    }
   ],
   "source": [
    "(leading_hbcvsqcd >= 0.95) & (n_b_ideal == 2)"
   ]
  },
  {
   "cell_type": "code",
   "execution_count": 165,
   "metadata": {},
   "outputs": [],
   "source": [
    "### Test our signal region\n",
    "signal_region_evt = files[\"TTbar_semilep\"][(leading_hbcvsqcd >= 0.95) & (n_b_ideal == 2)]"
   ]
  },
  {
   "cell_type": "code",
   "execution_count": 166,
   "metadata": {},
   "outputs": [
    {
     "data": {
      "text/plain": [
       "<NanoCollectionArray [... Area: {x: 0, y: 0, z: 0, t: 0}}]] type='1 * option[var...'>"
      ]
     },
     "execution_count": 166,
     "metadata": {},
     "output_type": "execute_result"
    }
   ],
   "source": [
    "signal_region_evt[\"JetPUPPI\"]"
   ]
  },
  {
   "cell_type": "code",
   "execution_count": null,
   "metadata": {},
   "outputs": [],
   "source": []
  },
  {
   "cell_type": "code",
   "execution_count": null,
   "metadata": {},
   "outputs": [],
   "source": []
  },
  {
   "cell_type": "code",
   "execution_count": null,
   "metadata": {},
   "outputs": [],
   "source": []
  },
  {
   "cell_type": "code",
   "execution_count": null,
   "metadata": {},
   "outputs": [],
   "source": []
  }
 ],
 "metadata": {
  "kernelspec": {
   "display_name": "python310",
   "language": "python",
   "name": "python3"
  },
  "language_info": {
   "codemirror_mode": {
    "name": "ipython",
    "version": 3
   },
   "file_extension": ".py",
   "mimetype": "text/x-python",
   "name": "python",
   "nbconvert_exporter": "python",
   "pygments_lexer": "ipython3",
   "version": "3.9.18"
  },
  "orig_nbformat": 4,
  "vscode": {
   "interpreter": {
    "hash": "15adc7883e707560d0d9727709639b8fe3f3cff1f197d2d643742923ff23a29c"
   }
  }
 },
 "nbformat": 4,
 "nbformat_minor": 2
}
