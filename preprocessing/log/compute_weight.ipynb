{
 "cells": [
  {
   "cell_type": "code",
   "execution_count": 5,
   "metadata": {},
   "outputs": [
    {
     "name": "stdout",
     "output_type": "stream",
     "text": [
      "提取到的 HepMC event number 数量: 100\n",
      "HepMC event number 的平均值为: 252.89\n"
     ]
    }
   ],
   "source": [
    "import re\n",
    "\n",
    "# 假设日志文件名为 'log.txt'\n",
    "log_file_path = 'run_sm.sh.out.41075003.304'\n",
    "\n",
    "# 用于存储提取的数字\n",
    "event_numbers = []\n",
    "\n",
    "# 使用正则表达式匹配 \"HepMC event number\" 以及后面的数字\n",
    "pattern = r\"HepMC event number:\\s+(\\d+)\"\n",
    "\n",
    "# 打开并读取文件\n",
    "with open(log_file_path, 'r') as file:\n",
    "    for line in file:\n",
    "        # 查找匹配的行\n",
    "        match = re.search(pattern, line)\n",
    "        if match:\n",
    "            # 提取并转换为整数\n",
    "            event_number = int(match.group(1))\n",
    "            event_numbers.append(event_number)\n",
    "\n",
    "# 计算平均值\n",
    "if event_numbers:\n",
    "    average_event_number = sum(event_numbers) / len(event_numbers)\n",
    "    print(f\"提取到的 HepMC event number 数量: {len(event_numbers)}\")\n",
    "    print(f\"HepMC event number 的平均值为: {average_event_number}\")\n",
    "else:\n",
    "    print(\"未找到任何 HepMC event number\")\n",
    "\n"
   ]
  },
  {
   "cell_type": "code",
   "execution_count": 6,
   "metadata": {},
   "outputs": [],
   "source": [
    "xs_WJets = 1264 + 1244 + 337 + 45 + 11 + 5"
   ]
  },
  {
   "cell_type": "code",
   "execution_count": 10,
   "metadata": {},
   "outputs": [
    {
     "data": {
      "text/plain": [
       "15.92488"
      ]
     },
     "execution_count": 10,
     "metadata": {},
     "output_type": "execute_result"
    },
    {
     "ename": "",
     "evalue": "",
     "output_type": "error",
     "traceback": [
      "\u001b[1;31mThe Kernel crashed while executing code in the the current cell or a previous cell. Please review the code in the cell(s) to identify a possible cause of the failure. Click <a href='https://aka.ms/vscodeJupyterKernelCrash'>here</a> for more info. View Jupyter <a href='command:jupyter.viewOutput'>log</a> for further details."
     ]
    }
   ],
   "source": [
    "n_evt = xs_WJets * 137 * 1000\n",
    "weight = n_evt / (0.5 * 50 * 1e6)\n",
    "weight \n",
    "\n",
    "# Wjets should use the weight like this"
   ]
  },
  {
   "cell_type": "code",
   "execution_count": 8,
   "metadata": {},
   "outputs": [
    {
     "data": {
      "text/plain": [
       "49868000"
      ]
     },
     "execution_count": 8,
     "metadata": {},
     "output_type": "execute_result"
    }
   ],
   "source": [
    "364 * 137 * 1000"
   ]
  },
  {
   "cell_type": "code",
   "execution_count": null,
   "metadata": {},
   "outputs": [],
   "source": []
  }
 ],
 "metadata": {
  "kernelspec": {
   "display_name": "lpr",
   "language": "python",
   "name": "python3"
  },
  "language_info": {
   "codemirror_mode": {
    "name": "ipython",
    "version": 3
   },
   "file_extension": ".py",
   "mimetype": "text/x-python",
   "name": "python",
   "nbconvert_exporter": "python",
   "pygments_lexer": "ipython3",
   "version": "3.9.18"
  }
 },
 "nbformat": 4,
 "nbformat_minor": 2
}
